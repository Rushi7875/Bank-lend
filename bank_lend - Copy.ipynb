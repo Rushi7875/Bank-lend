{
 "cells": [
  {
   "cell_type": "markdown",
   "metadata": {},
   "source": [
    "### LIBRARIES USED"
   ]
  },
  {
   "cell_type": "code",
   "execution_count": 1,
   "metadata": {},
   "outputs": [],
   "source": [
    "import pandas as pd\n",
    "import numpy as np\n",
    "import matplotlib.pyplot as plt\n",
    "import seaborn as sns\n",
    "from sklearn.preprocessing import LabelEncoder\n",
    "from sklearn.model_selection import train_test_split\n",
    "from sklearn.tree import DecisionTreeClassifier\n",
    "from sklearn.ensemble import RandomForestClassifier\n",
    "from sklearn.linear_model import LogisticRegression\n",
    "from sklearn.model_selection import GridSearchCV\n",
    "from boruta import BorutaPy\n",
    "from sklearn.feature_selection import RFE\n",
    "from imblearn.over_sampling import SMOTE\n"
   ]
  },
  {
   "cell_type": "markdown",
   "metadata": {},
   "source": [
    "### LOADING DATASET"
   ]
  },
  {
   "cell_type": "code",
   "execution_count": 2,
   "metadata": {},
   "outputs": [],
   "source": [
    "bank_lend=pd.read_table('D:\\PYTHON PROJECT IMARTICUS/XYZCorp_LendingData.txt',parse_dates=['issue_d'],low_memory=False)\n"
   ]
  },
  {
   "cell_type": "code",
   "execution_count": null,
   "metadata": {},
   "outputs": [],
   "source": [
    "pd.set_option(\"display.max_columns\",None)\n",
    "pd.set_option(\"display.max_rows\",None)"
   ]
  },
  {
   "cell_type": "code",
   "execution_count": null,
   "metadata": {},
   "outputs": [],
   "source": [
    "bank_lend.head(2)\n"
   ]
  },
  {
   "cell_type": "code",
   "execution_count": null,
   "metadata": {},
   "outputs": [],
   "source": [
    "bank_lend.shape"
   ]
  },
  {
   "cell_type": "code",
   "execution_count": null,
   "metadata": {},
   "outputs": [],
   "source": [
    "bank_lend.info()"
   ]
  },
  {
   "cell_type": "code",
   "execution_count": null,
   "metadata": {},
   "outputs": [],
   "source": [
    "bank_lend.describe().transpose()"
   ]
  },
  {
   "cell_type": "markdown",
   "metadata": {},
   "source": [
    "### DATA CLEANING"
   ]
  },
  {
   "cell_type": "markdown",
   "metadata": {},
   "source": [
    "#### UNIQUE IDENTIFIER\n"
   ]
  },
  {
   "cell_type": "code",
   "execution_count": null,
   "metadata": {},
   "outputs": [],
   "source": [
    "#bank_lend.term.unique()\n",
    "#bank_lend.grade.unique()\n",
    "#bank_lend.sub_grade.unique()\n",
    "#bank_lend.emp_title.unique()\n",
    "#bank_lend.emp_length.unique()\n",
    "#bank_lend.home_ownership.unique()\n",
    "#bank_lend.verification_status.unique()\n",
    "#bank_lend.pymnt_plan .unique()\n",
    "#bank_lend.desc.unique() -confused\n",
    "#bank_lend.purpose.unique()\n",
    "#bank_lend.title.unique()\n",
    "#bank_lend.zip_code.unique()\n",
    "#bank_lend.addr_state.unique()\n",
    "#bank_lend.delinq_2yrs.unique()\n",
    "#bank_lend.earliest_cr_line.unique()\n",
    "#bank_lend.initial_list_status.unique()\n",
    "#bank_lend.out_prncp.unique()\n",
    "#bank_lend.application_type.unique()\n",
    "#bank_lend.verification_status_joint.unique()\n",
    "#bank_lend.default_ind.unique()\n",
    "\n"
   ]
  },
  {
   "cell_type": "code",
   "execution_count": 3,
   "metadata": {},
   "outputs": [],
   "source": [
    "# Dropping these columns as they are unique identifier.\n",
    "bank_lend=bank_lend.drop('id',axis=1)\n",
    "bank_lend=bank_lend.drop('member_id',axis=1)\n"
   ]
  },
  {
   "cell_type": "markdown",
   "metadata": {},
   "source": [
    "#### NULL VALUE TREATMENT"
   ]
  },
  {
   "cell_type": "code",
   "execution_count": 4,
   "metadata": {},
   "outputs": [],
   "source": [
    "# The below columns need to be in object dtype.\n",
    "# Changing dtype of below columns.\n",
    "bank_lend.collections_12_mths_ex_med=bank_lend.collections_12_mths_ex_med.astype('object')\n",
    "bank_lend.next_pymnt_d=bank_lend.next_pymnt_d.astype('object')"
   ]
  },
  {
   "cell_type": "code",
   "execution_count": null,
   "metadata": {},
   "outputs": [],
   "source": [
    "# Checking the presence of nulls in a dataset.\n",
    "bank_lend.isnull().values.any()\n",
    "# YES, we have null values present in our dataset."
   ]
  },
  {
   "cell_type": "code",
   "execution_count": null,
   "metadata": {},
   "outputs": [],
   "source": [
    "# checking the column wise presence of nulls.\n",
    "bank_lend.isnull().sum()"
   ]
  },
  {
   "cell_type": "code",
   "execution_count": null,
   "metadata": {},
   "outputs": [],
   "source": [
    "# Checking the percentage of nulls present in each column.\n",
    "# IF the value exceed 75% then we willremove that column else we will keep the column and will do the imputation.\n",
    "bank_lend.isnull().sum()/bank_lend.shape[0]*100"
   ]
  },
  {
   "cell_type": "code",
   "execution_count": null,
   "metadata": {},
   "outputs": [],
   "source": [
    "col=bank_lend.isnull().sum()/bank_lend.shape[0]*100\n",
    "col=col[col.values>50]\n"
   ]
  },
  {
   "cell_type": "code",
   "execution_count": null,
   "metadata": {},
   "outputs": [],
   "source": [
    "len(col.index)"
   ]
  },
  {
   "cell_type": "code",
   "execution_count": null,
   "metadata": {},
   "outputs": [],
   "source": []
  },
  {
   "cell_type": "code",
   "execution_count": null,
   "metadata": {
    "scrolled": false
   },
   "outputs": [],
   "source": [
    "na_col=bank_lend.isnull().sum()\n",
    "na_col=na_col[na_col.values>(0.5*len(bank_lend))]\n",
    "plt.figure(figsize=(20,4))\n",
    "na_col.plot(kind='bar')\n",
    "plt.title('Columns with more than 50% Nulls')\n",
    "plt.show()\n"
   ]
  },
  {
   "cell_type": "code",
   "execution_count": 5,
   "metadata": {},
   "outputs": [],
   "source": [
    "columns_to_be_removed=['desc', 'mths_since_last_delinq', 'mths_since_last_record',\n",
    "       'mths_since_last_major_derog', 'annual_inc_joint', 'dti_joint',\n",
    "       'verification_status_joint', 'open_acc_6m', 'open_il_6m', 'open_il_12m',\n",
    "       'open_il_24m', 'mths_since_rcnt_il', 'total_bal_il', 'il_util',\n",
    "       'open_rv_12m', 'open_rv_24m', 'max_bal_bc', 'all_util', 'inq_fi',\n",
    "       'total_cu_tl', 'inq_last_12m']"
   ]
  },
  {
   "cell_type": "code",
   "execution_count": 6,
   "metadata": {},
   "outputs": [],
   "source": [
    "bank_lend=bank_lend.drop(columns_to_be_removed,axis=1)"
   ]
  },
  {
   "cell_type": "code",
   "execution_count": 7,
   "metadata": {},
   "outputs": [
    {
     "name": "stdout",
     "output_type": "stream",
     "text": [
      "<class 'pandas.core.frame.DataFrame'>\n",
      "RangeIndex: 855969 entries, 0 to 855968\n",
      "Data columns (total 50 columns):\n",
      " #   Column                      Non-Null Count   Dtype         \n",
      "---  ------                      --------------   -----         \n",
      " 0   loan_amnt                   855969 non-null  float64       \n",
      " 1   funded_amnt                 855969 non-null  float64       \n",
      " 2   funded_amnt_inv             855969 non-null  float64       \n",
      " 3   term                        855969 non-null  object        \n",
      " 4   int_rate                    855969 non-null  float64       \n",
      " 5   installment                 855969 non-null  float64       \n",
      " 6   grade                       855969 non-null  object        \n",
      " 7   sub_grade                   855969 non-null  object        \n",
      " 8   emp_title                   806526 non-null  object        \n",
      " 9   emp_length                  812908 non-null  object        \n",
      " 10  home_ownership              855969 non-null  object        \n",
      " 11  annual_inc                  855969 non-null  float64       \n",
      " 12  verification_status         855969 non-null  object        \n",
      " 13  issue_d                     855969 non-null  datetime64[ns]\n",
      " 14  pymnt_plan                  855969 non-null  object        \n",
      " 15  purpose                     855969 non-null  object        \n",
      " 16  title                       855936 non-null  object        \n",
      " 17  zip_code                    855969 non-null  object        \n",
      " 18  addr_state                  855969 non-null  object        \n",
      " 19  dti                         855969 non-null  float64       \n",
      " 20  delinq_2yrs                 855969 non-null  float64       \n",
      " 21  earliest_cr_line            855969 non-null  object        \n",
      " 22  inq_last_6mths              855969 non-null  float64       \n",
      " 23  open_acc                    855969 non-null  float64       \n",
      " 24  pub_rec                     855969 non-null  float64       \n",
      " 25  revol_bal                   855969 non-null  float64       \n",
      " 26  revol_util                  855523 non-null  float64       \n",
      " 27  total_acc                   855969 non-null  float64       \n",
      " 28  initial_list_status         855969 non-null  object        \n",
      " 29  out_prncp                   855969 non-null  float64       \n",
      " 30  out_prncp_inv               855969 non-null  float64       \n",
      " 31  total_pymnt                 855969 non-null  float64       \n",
      " 32  total_pymnt_inv             855969 non-null  float64       \n",
      " 33  total_rec_prncp             855969 non-null  float64       \n",
      " 34  total_rec_int               855969 non-null  float64       \n",
      " 35  total_rec_late_fee          855969 non-null  float64       \n",
      " 36  recoveries                  855969 non-null  float64       \n",
      " 37  collection_recovery_fee     855969 non-null  float64       \n",
      " 38  last_pymnt_d                847107 non-null  object        \n",
      " 39  last_pymnt_amnt             855969 non-null  float64       \n",
      " 40  next_pymnt_d                602998 non-null  object        \n",
      " 41  last_credit_pull_d          855919 non-null  object        \n",
      " 42  collections_12_mths_ex_med  855913 non-null  object        \n",
      " 43  policy_code                 855969 non-null  float64       \n",
      " 44  application_type            855969 non-null  object        \n",
      " 45  acc_now_delinq              855969 non-null  float64       \n",
      " 46  tot_coll_amt                788656 non-null  float64       \n",
      " 47  tot_cur_bal                 788656 non-null  float64       \n",
      " 48  total_rev_hi_lim            788656 non-null  float64       \n",
      " 49  default_ind                 855969 non-null  int64         \n",
      "dtypes: datetime64[ns](1), float64(29), int64(1), object(19)\n",
      "memory usage: 326.5+ MB\n"
     ]
    }
   ],
   "source": [
    "bank_lend.info()"
   ]
  },
  {
   "cell_type": "markdown",
   "metadata": {},
   "source": [
    "#### NULL IMPUTATION WIH MEAN AND MODE"
   ]
  },
  {
   "cell_type": "code",
   "execution_count": null,
   "metadata": {},
   "outputs": [],
   "source": [
    "#bank_lend.emp_title.mode()\n",
    "#bank_lend.emp_length.mode()\n",
    "#bank_lend.title.mode()\n",
    "#bank_lend.mths_since_last_delinq.mean()\n",
    "#bank_lend.revol_util.mean()\n",
    "#(bank_lend.collections_12_mths_ex_med.mode())\n",
    "#bank_lend.tot_coll_amt.\n",
    "#bank_lend.tot_cur_bal.mean()    \n",
    "#bank_lend.total_rev_hi_lim.mean()\n",
    "#bank_lend.last_pymnt_d.isnull().sum()"
   ]
  },
  {
   "cell_type": "code",
   "execution_count": 8,
   "metadata": {},
   "outputs": [],
   "source": [
    "bank_lend.emp_title.fillna('Teacher',inplace=True)\n",
    "bank_lend.emp_length.fillna('10+ years',inplace=True)\n",
    "bank_lend.title.fillna('Debt consolidation',inplace=True)\n",
    "bank_lend.collections_12_mths_ex_med.fillna('0',inplace=True)\n"
   ]
  },
  {
   "cell_type": "code",
   "execution_count": 9,
   "metadata": {},
   "outputs": [],
   "source": [
    "bank_lend.tot_coll_amt.fillna(bank_lend.tot_coll_amt.mean(),inplace=True)\n",
    "bank_lend.tot_cur_bal.fillna(bank_lend.tot_cur_bal.mean(),inplace=True)                 \n",
    "bank_lend.total_rev_hi_lim.fillna(bank_lend.total_rev_hi_lim.mean(),inplace=True)           \n",
    "bank_lend.revol_util.fillna(bank_lend.revol_util.mean(),inplace=True)\n"
   ]
  },
  {
   "cell_type": "code",
   "execution_count": 10,
   "metadata": {},
   "outputs": [],
   "source": [
    "bank_lend.next_pymnt_d.fillna('Feb-2016',inplace=True)\n",
    "bank_lend.last_credit_pull_d.fillna(\"Jan-2016\",inplace=True)\n",
    "bank_lend.last_pymnt_d.fillna('Jan-2016',inplace=True)"
   ]
  },
  {
   "cell_type": "code",
   "execution_count": 11,
   "metadata": {},
   "outputs": [
    {
     "data": {
      "text/plain": [
       "(855969, 50)"
      ]
     },
     "execution_count": 11,
     "metadata": {},
     "output_type": "execute_result"
    }
   ],
   "source": [
    "bank_lend.shape\n",
    "# After data cleaning and null imputation we are left with 51 features."
   ]
  },
  {
   "cell_type": "code",
   "execution_count": 12,
   "metadata": {},
   "outputs": [
    {
     "data": {
      "text/plain": [
       "False"
      ]
     },
     "execution_count": 12,
     "metadata": {},
     "output_type": "execute_result"
    }
   ],
   "source": [
    "bank_lend.isnull().values.any()"
   ]
  },
  {
   "cell_type": "markdown",
   "metadata": {},
   "source": [
    "##### UNWANTED COLUMNS REMOVAL"
   ]
  },
  {
   "cell_type": "code",
   "execution_count": 13,
   "metadata": {},
   "outputs": [],
   "source": [
    "# The below columns do not add any value."
   ]
  },
  {
   "cell_type": "code",
   "execution_count": 14,
   "metadata": {},
   "outputs": [],
   "source": [
    "bank_lend=bank_lend.drop('title',axis=1)\n",
    "bank_lend=bank_lend.drop('emp_title',axis=1)\n",
    "bank_lend=bank_lend.drop(['zip_code'],axis=1)\n",
    "bank_lend=bank_lend.drop('next_pymnt_d',axis=1)\n",
    "bank_lend=bank_lend.drop('last_credit_pull_d',axis=1)\n",
    "bank_lend=bank_lend.drop('last_pymnt_d',axis=1)\n",
    "bank_lend=bank_lend.drop('earliest_cr_line',axis=1)\n",
    "bank_lend=bank_lend.drop('pymnt_plan',axis=1)\n",
    "bank_lend=bank_lend.drop('collection_recovery_fee',axis=1)\n",
    "bank_lend=bank_lend.drop('policy_code',axis=1)\n"
   ]
  },
  {
   "cell_type": "code",
   "execution_count": 15,
   "metadata": {},
   "outputs": [
    {
     "data": {
      "text/plain": [
       "(855969, 40)"
      ]
     },
     "execution_count": 15,
     "metadata": {},
     "output_type": "execute_result"
    }
   ],
   "source": [
    "bank_lend.shape"
   ]
  },
  {
   "cell_type": "markdown",
   "metadata": {},
   "source": [
    "### EXPLORATORY DATA  ANALYSIS"
   ]
  },
  {
   "cell_type": "markdown",
   "metadata": {},
   "source": [
    "#### TARGET VARIABLE"
   ]
  },
  {
   "cell_type": "code",
   "execution_count": null,
   "metadata": {},
   "outputs": [],
   "source": [
    "# Target Variable\n",
    "#'default_ind' is our target as that is the dependent variable we are trying to predict.\n",
    "# The class 0 indicated non defaulter on the other hand class 1 indicates defaulter."
   ]
  },
  {
   "cell_type": "code",
   "execution_count": null,
   "metadata": {},
   "outputs": [],
   "source": [
    "print(bank_lend.default_ind.value_counts())\n",
    "bank_lend.default_ind.value_counts().plot.bar()\n"
   ]
  },
  {
   "cell_type": "code",
   "execution_count": null,
   "metadata": {},
   "outputs": [],
   "source": [
    "sns.set_style(\"whitegrid\")\n",
    "plt.figure(figsize = (7,7))\n",
    "sns.countplot(bank_lend['default_ind'], alpha =1, palette= ['green','red'])\n",
    "plt.title('Non-Defaulters vs Defaulters',size=15)\n",
    "plt.ylabel('No of Customers ')\n",
    "plt.show()"
   ]
  },
  {
   "cell_type": "code",
   "execution_count": null,
   "metadata": {},
   "outputs": [],
   "source": [
    "# The majority of the customers are non defaulter.\n",
    "# on the  contrary, very few customer has defaulter status.Positive examples = 1533\n",
    "# Proportion of non-defaulter todefaukter is 5.7%.\n"
   ]
  },
  {
   "cell_type": "markdown",
   "metadata": {},
   "source": [
    "##### OBJECT VARIABLES"
   ]
  },
  {
   "cell_type": "code",
   "execution_count": 218,
   "metadata": {},
   "outputs": [
    {
     "data": {
      "image/png": "[encoded data removed]",
      "text/plain": [
       "<Figure size 1440x864 with 4 Axes>"
      ]
     },
     "metadata": {},
     "output_type": "display_data"
    }
   ],
   "source": [
    "sns.set_style('darkgrid')\n",
    "fig,axes = plt.subplots(2,2, figsize = (20,12))\n",
    "\n",
    "# Plot [0]\n",
    "sns.countplot(bank_lend['term'],hue=bank_lend['default_ind'], palette = 'GnBu_d', ax = axes[0,0])\n",
    "axes[0,0].set_xlabel('Term')\n",
    "axes[0,0].set_ylabel('No of Borrowers')\n",
    "axes[0,0].set_title('Terms')\n",
    "# Plot [1]\n",
    "sns.countplot(bank_lend['verification_status'],hue=bank_lend['default_ind'], palette = 'GnBu_d',ax = axes[0,1])\n",
    "axes[0,1].set_xlabel('Verification Status')\n",
    "axes[0,1].set_ylabel('No of Borrowers')\n",
    "axes[0,1].set_title('Verification Status')\n",
    "\n",
    "sns.countplot(bank_lend['initial_list_status'], hue=bank_lend['default_ind'],palette = 'GnBu_d',ax = axes[1,0])\n",
    "axes[1,0].set_xlabel('Initial List colStatus')\n",
    "axes[1,0].set_ylabel(' No of Borrowers')\n",
    "axes[1,0].set_title('Initial_List Status')\n",
    "\n",
    "sns.countplot(bank_lend['grade'], hue=bank_lend['default_ind'],palette = 'GnBu_d',ax = axes[1,1])\n",
    "axes[1,1].set_xlabel('Grade')\n",
    "axes[1,1].set_ylabel(' No of Borrowers')\n",
    "axes[1,1].set_title('Grade')\n",
    "\n",
    "\n",
    "plt.show()"
   ]
  },
  {
   "cell_type": "code",
   "execution_count": null,
   "metadata": {},
   "outputs": [],
   "source": [
    "# Majority of the customers have term of 36 months.(36 months-600221)\n",
    "# Minority of the customers have term of 60months.(60 months    255748)\n",
    "\n",
    "# Verification status tells us whethere the income was verified by Lending Club, not verified, or if the income source was verified.\n",
    "# Most of the income has had its source verified (Source Verified-318178) although 35.7% were not verified (Not Verified-257742).\n",
    "\n",
    "# Most of the loans are with f (f-442555) status followed by w (w-413414) status.\n",
    "\n",
    "#  there are total seven grades available.THe XYZ Corp graded most of the loans with B,C,A grade. Whereas , very few loans are graded \n",
    "# with the grades E,F,D,G.\n"
   ]
  },
  {
   "cell_type": "code",
   "execution_count": null,
   "metadata": {
    "scrolled": true
   },
   "outputs": [],
   "source": [
    "sns.set_style('darkgrid')\n",
    "fig,axes = plt.subplots(1,2, figsize = (15,10))\n",
    "\n",
    "# Plot [0]\n",
    "sns.countplot(bank_lend['emp_length'], hue=bank_lend['default_ind'], palette = 'GnBu_d', ax = axes[0])\n",
    "axes[0].set_xlabel('Emp Length')\n",
    "axes[0].set_ylabel('No of Borrowers')\n",
    "axes[0].set_title('Emp Length')\n",
    "# Plot [1]\n",
    "sns.countplot(bank_lend['home_ownership'], hue=bank_lend['default_ind'], palette = 'GnBu_d',ax = axes[1])\n",
    "axes[1].set_xlabel('Home Ownership')\n",
    "axes[1].set_ylabel('No of Borrowers')\n",
    "axes[1].set_title('Home Ownership ')\n",
    "\n",
    "\n",
    "plt.show()"
   ]
  },
  {
   "cell_type": "code",
   "execution_count": null,
   "metadata": {},
   "outputs": [],
   "source": [
    "# Most Borrowers either have existing mortgages  or are renting their home .\n",
    "# There are 11 levels, from  <1 year to 10+ years. the large amount of borrowers have more thea 10+ years of experience."
   ]
  },
  {
   "cell_type": "code",
   "execution_count": null,
   "metadata": {},
   "outputs": [],
   "source": [
    "sns.set_style(\"whitegrid\")\n",
    "plt.figure(figsize = (12,12))\n",
    "sns.countplot(bank_lend['application_type'], hue=bank_lend['default_ind'], alpha =1, palette= ['grey','lightgreen'])\n",
    "plt.title('Application Type',size=15)\n",
    "plt.ylabel('No of Borrowers ')\n",
    "plt.show()"
   ]
  },
  {
   "cell_type": "code",
   "execution_count": null,
   "metadata": {
    "scrolled": true
   },
   "outputs": [],
   "source": [
    "bank_lend.application_type.value_counts().plot.bar()"
   ]
  },
  {
   "cell_type": "code",
   "execution_count": null,
   "metadata": {},
   "outputs": [],
   "source": [
    "# No point of keeping this attribute in our model as the the variable is totally biased."
   ]
  },
  {
   "cell_type": "code",
   "execution_count": 16,
   "metadata": {},
   "outputs": [],
   "source": [
    "bank_lend=bank_lend.drop('application_type',axis=1)"
   ]
  },
  {
   "cell_type": "code",
   "execution_count": null,
   "metadata": {},
   "outputs": [],
   "source": [
    "sns.set_style(\"whitegrid\")\n",
    "plt.figure(figsize = (20,12))\n",
    "sns.countplot(bank_lend['purpose'],alpha =1, palette='GnBu_d')\n",
    "plt.title('Purpose',size=15)\n",
    "plt.ylabel('No of Borrowers ')\n",
    "plt.show()"
   ]
  },
  {
   "cell_type": "code",
   "execution_count": null,
   "metadata": {},
   "outputs": [],
   "source": [
    "# There are total 13 categories. Over half of the loans  were for debt consolidation. Other significant categories were credit card and home improvement.\n",
    "\n"
   ]
  },
  {
   "cell_type": "code",
   "execution_count": null,
   "metadata": {},
   "outputs": [],
   "source": [
    "sns.set_style(\"whitegrid\")\n",
    "plt.figure(figsize = (20,12))\n",
    "sns.countplot(bank_lend['collections_12_mths_ex_med'],alpha =1, palette='GnBu_d')\n",
    "plt.title('collections_12_mths_ex_med',size=15)\n",
    "plt.ylabel('No of Borrowers ')\n",
    "plt.show()\n"
   ]
  },
  {
   "cell_type": "code",
   "execution_count": null,
   "metadata": {},
   "outputs": [],
   "source": [
    "# Within a year  largly no collections are done ."
   ]
  },
  {
   "cell_type": "markdown",
   "metadata": {},
   "source": [
    "#### NUMERICC VARIABLES"
   ]
  },
  {
   "cell_type": "code",
   "execution_count": null,
   "metadata": {},
   "outputs": [],
   "source": [
    "bank_lend.select_dtypes(include='number').describe().transpose()"
   ]
  },
  {
   "cell_type": "code",
   "execution_count": null,
   "metadata": {},
   "outputs": [],
   "source": [
    "bank_lend.select_dtypes(include='number').columns"
   ]
  },
  {
   "cell_type": "code",
   "execution_count": null,
   "metadata": {},
   "outputs": [],
   "source": [
    "sns.set_style('darkgrid')\n",
    "fig = plt.figure(figsize = (15,12))\n",
    "fig.subplots_adjust(hspace = .40)\n",
    "\n",
    "ax1 = fig.add_subplot(231)\n",
    "ax1.hist(bank_lend['loan_amnt'], bins = 20, alpha = .50,edgecolor= 'black',color ='teal')\n",
    "ax1.set_xlabel('Loan Amount', fontsize = 12)\n",
    "ax1.set_ylabel('No of Borrowers',fontsize = 12)\n",
    "ax1.set_title('loan_amnt',fontsize = 15)\n",
    "\n",
    "ax2 = fig.add_subplot(232)\n",
    "ax2.hist(bank_lend['funded_amnt'], bins = 20, alpha = .50,edgecolor= 'black',color ='teal')\n",
    "ax2.set_xlabel('Funded Amount',fontsize = 12)\n",
    "ax2.set_ylabel('No of Borrowers',fontsize = 15)\n",
    "ax2.set_title('Funded Amount ',fontsize = 12)\n",
    "\n",
    "ax3 = fig.add_subplot(233)\n",
    "ax3.hist(bank_lend['funded_amnt_inv'], bins = 20, alpha = .50,edgecolor= 'black',color ='teal')\n",
    "ax3.set_xlabel('Funded Amount Inv',fontsize = 12)\n",
    "ax3.set_ylabel('No of Borrowers',fontsize = 12)\n",
    "ax3.set_title('Funded Amount Inv',fontsize = 15)\n",
    "\n",
    "ax4= fig.add_subplot(234)\n",
    "ax4.hist(bank_lend['installment'], bins = 20, alpha = .50,edgecolor= 'black',color ='teal')\n",
    "ax4.set_xlabel('Installment ',fontsize = 12)\n",
    "ax4.set_ylabel('No of Borrowers',fontsize = 12)\n",
    "ax4.set_title('Installment',fontsize = 15)\n",
    "\n",
    "ax5= fig.add_subplot(235)\n",
    "ax5.hist(bank_lend['annual_inc'], bins = 20, alpha = .50,edgecolor= 'black',color ='teal')\n",
    "ax5.set_xlabel('Annual Inc',fontsize = 12) \n",
    "ax5.set_ylabel('No of Borrowers',fontsize = 12)\n",
    "ax5.set_title('Annual Inc',fontsize = 15)\n",
    "\n",
    "ax6= fig.add_subplot(236)\n",
    "ax6.hist(bank_lend['dti'], bins = 20, alpha = .50,edgecolor= 'black',color ='teal')\n",
    "ax6.set_xlabel('dti ',fontsize = 12)\n",
    "ax6.set_ylabel('No of Borrowers',fontsize = 12)\n",
    "ax6.set_title('dti',fontsize = 15)\n",
    "\n"
   ]
  },
  {
   "cell_type": "code",
   "execution_count": null,
   "metadata": {},
   "outputs": [],
   "source": [
    "sns.set_style('darkgrid') #ppt\n",
    "fig = plt.figure(figsize = (15,12))\n",
    "fig.subplots_adjust(hspace = .40)\n",
    "\n",
    "ax1 = fig.add_subplot(231)\n",
    "ax1.hist(bank_lend['delinq_2yrs'], bins = 20, alpha = .50,edgecolor= 'black',color ='teal')\n",
    "ax1.set_xlabel('Delinq 2yrs ', fontsize = 12)\n",
    "ax1.set_ylabel('No of Borrowers',fontsize = 12)\n",
    "ax1.set_title('Delinq_ 2yrs',fontsize = 15)\n",
    "\n",
    "ax2= fig.add_subplot(232)\n",
    "ax2.hist(bank_lend['pub_rec'], bins = 20, alpha = .50,edgecolor= 'black',color ='teal')\n",
    "ax2.set_xlabel('Pub Rec',fontsize = 12) \n",
    "ax2.set_ylabel('No of Borrowers',fontsize = 12)\n",
    "ax2.set_title('Pub Rec',fontsize = 15)\n",
    "\n",
    "ax3 = fig.add_subplot(233)\n",
    "ax3.hist(bank_lend['out_prncp'], bins = 20, alpha = .50,edgecolor= 'black',color ='teal')\n",
    "ax3.set_xlabel('Out Prncp',fontsize = 12)\n",
    "ax3.set_ylabel('No of Borrowers',fontsize = 12)\n",
    "ax3.set_title('Out Prncp',fontsize = 15)\n",
    "\n",
    "ax4= fig.add_subplot(234)\n",
    "ax4.hist(bank_lend['out_prncp_inv'], bins = 20, alpha = .50,edgecolor= 'black',color ='teal')\n",
    "ax4.set_xlabel('Out Prncp Inv',fontsize = 12)\n",
    "ax4.set_ylabel('No of Borrowers',fontsize = 12)\n",
    "ax4.set_title('Out Prncp Inv',fontsize = 15)\n",
    "\n",
    "ax5= fig.add_subplot(235)\n",
    "ax5.hist(bank_lend['recoveries'], bins = 20, alpha = .50,edgecolor= 'black',color ='teal')\n",
    "ax5.set_xlabel('Recoveries',fontsize = 12)\n",
    "ax5.set_ylabel('No of Borrowers',fontsize = 12)\n",
    "ax5.set_title('Recoveries',fontsize = 15)\n",
    "\n",
    "ax6= fig.add_subplot(236)\n",
    "ax6.hist(bank_lend['total_rec_late_fee'], bins = 20, alpha = .50,edgecolor= 'black',color ='teal')\n",
    "ax6.set_xlabel('total_rec_late_fee',fontsize = 12)\n",
    "ax6.set_ylabel('No of Borrowers',fontsize = 12)\n",
    "ax6.set_title('total_rec_late_fee',fontsize = 15)\n"
   ]
  },
  {
   "cell_type": "code",
   "execution_count": null,
   "metadata": {},
   "outputs": [],
   "source": [
    "sns.set_style('darkgrid')\n",
    "fig,axes = plt.subplots(2,2, figsize = (20,12))\n",
    "\n",
    "# Plot [0]\n",
    "sns.distplot(bank_lend['loan_amnt'], ax = axes[0,0])\n",
    "axes[0,0].set_xlabel('Loan Amnt')\n",
    "axes[0,0].set_title('Loan Amnt')\n",
    "# Plot [1]\n",
    "sns.boxplot(bank_lend['loan_amnt'],ax = axes[0,1])\n",
    "axes[0,1].set_xlabel('Loan Amnt ')\n",
    "axes[0,1].set_title('Loan Amnt')\n",
    "\n",
    "sns.distplot(bank_lend['funded_amnt'],ax = axes[1,0])\n",
    "axes[1,0].set_xlabel('Funded Amnt ')\n",
    "axes[1,0].set_title('Funded Amnt')\n",
    "\n",
    "sns.boxplot(bank_lend['funded_amnt'], ax = axes[1,1])\n",
    "axes[1,1].set_xlabel('Funded Amnt')\n",
    "axes[1,1].set_title('Funded Amnt')\n",
    "\n",
    "\n",
    "plt.show()"
   ]
  },
  {
   "cell_type": "code",
   "execution_count": null,
   "metadata": {},
   "outputs": [],
   "source": [
    "# Anual income and dti are not normaly distributed. There is ahuge deviation in the claim incomes by the borrowers."
   ]
  },
  {
   "cell_type": "code",
   "execution_count": null,
   "metadata": {},
   "outputs": [],
   "source": [
    "sns.set_style('darkgrid')\n",
    "fig = plt.figure(figsize = (15,12))\n",
    "fig.subplots_adjust(hspace = .40)\n",
    "\n",
    "ax1 = fig.add_subplot(231)\n",
    "ax1.hist(bank_lend['delinq_2yrs'], bins = 20, alpha = .50,edgecolor= 'black',color ='teal')\n",
    "ax1.set_xlabel('Delinq 2yrs ', fontsize = 12)\n",
    "ax1.set_ylabel('No of Borrowers',fontsize = 12)\n",
    "ax1.set_title('Delinq_ 2yrs',fontsize = 15)\n",
    "\n",
    "ax2 = fig.add_subplot(232)\n",
    "ax2.hist(bank_lend['inq_last_6mths'], bins = 20, alpha = .50,edgecolor= 'black',color ='teal')\n",
    "ax2.set_xlabel('Inq last 6mths',fontsize = 12)\n",
    "ax2.set_ylabel('No of Borrowers',fontsize = 15)\n",
    "ax2.set_title('Inq last 6mths ',fontsize = 12)\n",
    "\n",
    "ax3= fig.add_subplot(233)\n",
    "ax3.hist(bank_lend['open_acc'], bins = 20, alpha = .50,edgecolor= 'black',color ='teal')\n",
    "ax3.set_xlabel('Open Acc ',fontsize = 12)\n",
    "ax3.set_ylabel('No of Borrowers',fontsize = 12)\n",
    "ax3.set_title('Open Acc',fontsize = 15)\n",
    "\n",
    "ax4= fig.add_subplot(234)\n",
    "ax4.hist(bank_lend['pub_rec'], bins = 20, alpha = .50,edgecolor= 'black',color ='teal')\n",
    "ax4.set_xlabel('Pub Rec',fontsize = 12) \n",
    "ax4.set_ylabel('No of Borrowers',fontsize = 12)\n",
    "ax4.set_title('Pub Rec',fontsize = 15)\n",
    "\n",
    "ax5= fig.add_subplot(235)\n",
    "ax5.hist(bank_lend['revol_bal'], bins = 20, alpha = .50,edgecolor= 'black',color ='teal')\n",
    "ax5.set_xlabel('Revol Bal ',fontsize = 12)\n",
    "ax5.set_ylabel('No of Borrowers',fontsize = 12)\n",
    "ax5.set_title('Revol Bal',fontsize = 15)\n",
    "\n"
   ]
  },
  {
   "cell_type": "code",
   "execution_count": null,
   "metadata": {},
   "outputs": [],
   "source": [
    "sns.set_style('darkgrid')\n",
    "fig,axes = plt.subplots(2,2, figsize = (20,12))\n",
    "\n",
    "# Plot [0]\n",
    "sns.distplot(bank_lend['open_acc'], ax = axes[0,0])\n",
    "axes[0,0].set_xlabel('Open Acc')\n",
    "axes[0,0].set_title('Open Acc')\n",
    "# Plot [1]\n",
    "sns.boxplot(x='open_acc',y='default_ind',data=bank_lend,orient='h',ax = axes[0,1])\n",
    "axes[0,1].set_xlabel('Open Acc ')\n",
    "axes[0,1].set_title('Open Acc')\n",
    "\n",
    "sns.distplot(bank_lend['int_rate'],ax = axes[1,0])\n",
    "axes[1,0].set_xlabel('Int Rate ')\n",
    "axes[1,0].set_title('Int Rate')\n",
    "\n",
    "sns.boxplot(x='int_rate',y='default_ind',data=bank_lend,orient='h', ax = axes[1,1])\n",
    "axes[1,1].set_xlabel('Int Rate')\n",
    "axes[1,1].set_title('Int Rate')\n",
    "\n",
    "\n",
    "plt.show()\n"
   ]
  },
  {
   "cell_type": "code",
   "execution_count": null,
   "metadata": {},
   "outputs": [],
   "source": [
    "sns.set_style('darkgrid')\n",
    "fig = plt.figure(figsize = (15,12))\n",
    "fig.subplots_adjust(hspace = .40)\n",
    "\n",
    "ax1 = fig.add_subplot(231)\n",
    "ax1.hist(bank_lend['revol_util'], bins = 20, alpha = .50,edgecolor= 'black',color ='teal')\n",
    "ax1.set_xlabel('Revol Util ', fontsize = 12)\n",
    "ax1.set_ylabel('No of Borrowers',fontsize = 12)\n",
    "ax1.set_title('Revol Util',fontsize = 15)\n",
    "\n",
    "ax2 = fig.add_subplot(232)\n",
    "ax2.hist(bank_lend['total_acc'], bins = 20, alpha = .50,edgecolor= 'black',color ='teal')\n",
    "ax2.set_xlabel('Total Acc',fontsize = 12)\n",
    "ax2.set_ylabel('No of Borrowers',fontsize = 15)\n",
    "ax2.set_title('Total Acc',fontsize = 12)\n",
    "\n",
    "ax3 = fig.add_subplot(233)\n",
    "ax3.hist(bank_lend['out_prncp'], bins = 20, alpha = .50,edgecolor= 'black',color ='teal')\n",
    "ax3.set_xlabel('Out Prncp',fontsize = 12)\n",
    "ax3.set_ylabel('No of Borrowers',fontsize = 12)\n",
    "ax3.set_title('Out Prncp',fontsize = 15)\n",
    "\n",
    "ax4= fig.add_subplot(234)\n",
    "ax4.hist(bank_lend['out_prncp_inv'], bins = 20, alpha = .50,edgecolor= 'black',color ='teal')\n",
    "ax4.set_xlabel('Out Prncp Inv',fontsize = 12)\n",
    "ax4.set_ylabel('No of Borrowers',fontsize = 12)\n",
    "ax4.set_title('Out Prncp Inv',fontsize = 15)\n",
    "\n",
    "ax5= fig.add_subplot(235)\n",
    "ax5.hist(bank_lend['total_pymnt'], bins = 20, alpha = .50,edgecolor= 'black',color ='teal')\n",
    "ax5.set_xlabel('Total Pymnt',fontsize = 12) \n",
    "ax5.set_ylabel('No of Borrowers',fontsize = 12)\n",
    "ax5.set_title('Total Pymnt',fontsize = 15)\n",
    "\n",
    "ax6= fig.add_subplot(236)\n",
    "ax6.hist(bank_lend['total_pymnt_inv'], bins = 20, alpha = .50,edgecolor= 'black',color ='teal')\n",
    "ax6.set_xlabel('Total Pymnt Inv',fontsize = 12)\n",
    "ax6.set_ylabel('No of Borrowers',fontsize = 12)\n",
    "ax6.set_title('Total Pymnt Inv',fontsize = 15)\n",
    "\n"
   ]
  },
  {
   "cell_type": "code",
   "execution_count": null,
   "metadata": {},
   "outputs": [],
   "source": [
    "sns.set_style('darkgrid')\n",
    "fig,axes = plt.subplots(2,2, figsize = (20,12))\n",
    "\n",
    "# Plot [0]\n",
    "sns.distplot(bank_lend['total_pymnt'], ax = axes[0,0])\n",
    "axes[0,0].set_xlabel('Total Pymnt')\n",
    "axes[0,0].set_title('Total Pymnt')\n",
    "# Plot [1]\n",
    "sns.boxplot(x='total_pymnt',y='default_ind',data=bank_lend,orient='h',ax = axes[0,1])\n",
    "axes[0,1].set_xlabel('Total Pymnt ')\n",
    "axes[0,1].set_title('Total Pymnt')\n",
    "\n",
    "sns.distplot(bank_lend['total_acc'],ax = axes[1,0])\n",
    "axes[1,0].set_xlabel('Total Acc ')\n",
    "axes[1,0].set_title('Total Acc')\n",
    "\n",
    "sns.boxplot(x='total_acc',y='default_ind',data=bank_lend,orient='h', ax = axes[1,1])\n",
    "axes[1,1].set_xlabel('Total Acc')\n",
    "axes[1,1].set_title('Total Acc')\n",
    "\n",
    "\n",
    "plt.show()\n"
   ]
  },
  {
   "cell_type": "code",
   "execution_count": null,
   "metadata": {
    "scrolled": true
   },
   "outputs": [],
   "source": [
    "\n",
    "sns.set_style('darkgrid')\n",
    "fig = plt.figure(figsize = (15,12))\n",
    "fig.subplots_adjust(hspace = .40)\n",
    "\n",
    "ax1 = fig.add_subplot(231)\n",
    "ax1.hist(bank_lend['total_rec_prncp'], bins = 20, alpha = .50,edgecolor= 'black',color ='teal')\n",
    "ax1.set_xlabel('Total Rec Prncp ', fontsize = 12)\n",
    "ax1.set_ylabel('No of Borrowers',fontsize = 12)\n",
    "ax1.set_title('Total Rec Prncp',fontsize = 15)\n",
    "\n",
    "ax2 = fig.add_subplot(232)\n",
    "ax2.hist(bank_lend['total_rec_int'], bins = 20, alpha = .50,edgecolor= 'black',color ='teal')\n",
    "ax2.set_xlabel('Total Rec Int ',fontsize = 12)\n",
    "ax2.set_ylabel('No of Borrowers',fontsize = 15)\n",
    "ax2.set_title('Total Rec Int',fontsize = 12)\n",
    "\n",
    "ax3 = fig.add_subplot(233)\n",
    "ax3.hist(bank_lend['total_rec_late_fee'], bins = 20, alpha = .50,edgecolor= 'black',color ='teal')\n",
    "ax3.set_xlabel('Total Rec Late Fee',fontsize = 12)\n",
    "ax3.set_ylabel('No of Borrowers',fontsize = 12)\n",
    "ax3.set_title('Total Rec Late Fee',fontsize = 15)\n",
    "\n",
    "ax4= fig.add_subplot(234)\n",
    "ax4.hist(bank_lend['recoveries'], bins = 20, alpha = .50,edgecolor= 'black',color ='teal')\n",
    "ax4.set_xlabel('Recoveries',fontsize = 12)\n",
    "ax4.set_ylabel('No of Borrowers',fontsize = 12)\n",
    "ax4.set_title('Recoveries',fontsize = 15)\n",
    "\n",
    "ax5= fig.add_subplot(235)\n",
    "ax5.hist(bank_lend['last_pymnt_amnt'], bins = 20, alpha = .50,edgecolor= 'black',color ='teal')\n",
    "ax5.set_xlabel('Last Pymnt Amnt',fontsize = 12) \n",
    "ax5.set_ylabel('No of Borrowers',fontsize = 12)\n",
    "ax5.set_title('Last Pymnt Amnt',fontsize = 15)\n",
    "\n",
    "ax6= fig.add_subplot(236)\n",
    "ax6.hist(bank_lend['acc_now_delinq'], bins = 20, alpha = .50,edgecolor= 'black',color ='teal')\n",
    "ax6.set_xlabel('Acc Now Delinq',fontsize = 12)\n",
    "ax6.set_ylabel('No of Borrowers',fontsize = 12)\n",
    "ax6.set_title('Acc Now Delinq ',fontsize = 15)\n",
    "\n"
   ]
  },
  {
   "cell_type": "code",
   "execution_count": null,
   "metadata": {},
   "outputs": [],
   "source": [
    "\n",
    "sns.set_style('darkgrid')\n",
    "fig = plt.figure(figsize = (15,12))\n",
    "fig.subplots_adjust(hspace = .40)\n",
    "\n",
    "ax1 = fig.add_subplot(231)\n",
    "ax1.hist(bank_lend['tot_coll_amt'], bins = 20, alpha = .50,edgecolor= 'black',color ='teal')\n",
    "ax1.set_xlabel('Tot Coll Amt', fontsize = 12)\n",
    "ax1.set_ylabel('No of Borrowers',fontsize = 12)\n",
    "ax1.set_title('Tot Coll Amt',fontsize = 15)\n",
    "\n",
    "ax2 = fig.add_subplot(232)\n",
    "ax2.hist(bank_lend['tot_cur_bal'], bins = 20, alpha = .50,edgecolor= 'black',color ='teal')\n",
    "ax2.set_xlabel('Tot Cur Bal',fontsize = 12)\n",
    "ax2.set_ylabel('No of Borrowers',fontsize = 15)\n",
    "ax2.set_title('Tot Cur Bal',fontsize = 12)\n",
    "\n",
    "ax3 = fig.add_subplot(233)\n",
    "ax3.hist(bank_lend['total_rev_hi_lim'], bins = 20, alpha = .50,edgecolor= 'black',color ='teal')\n",
    "ax3.set_xlabel('Total Rev Hi Lim',fontsize = 12)\n",
    "ax3.set_ylabel('No of Borrowers',fontsize = 12)\n",
    "ax3.set_title('Total Rev Hi Lim',fontsize = 15)\n",
    "\n"
   ]
  },
  {
   "cell_type": "code",
   "execution_count": null,
   "metadata": {},
   "outputs": [],
   "source": [
    "sns.boxplot('grade','int_rate',data=bank_lend)\n"
   ]
  },
  {
   "cell_type": "markdown",
   "metadata": {},
   "source": [
    "#### CORRELATION"
   ]
  },
  {
   "cell_type": "code",
   "execution_count": null,
   "metadata": {},
   "outputs": [],
   "source": [
    "plt.figure(figsize=(22,22))\n",
    "cor=(bank_lend[bank_lend.select_dtypes(include=\"number\").columns]).corr()\n",
    "top_numeric_features=cor.index\n",
    "sns.heatmap(bank_lend[top_numeric_features].corr(),annot=True,cmap=\"Blues\")"
   ]
  },
  {
   "cell_type": "code",
   "execution_count": null,
   "metadata": {},
   "outputs": [],
   "source": [
    "# Columns with high correlation\n",
    "high_corr_columns=['loan_amnt', 'funded_amnt', 'funded_amnt_inv','installment','annual_inc','total_pymnt','total_pymnt_inv','total_rec_prncp',\n",
    "'revol_bal', 'total_rev_hi_lim','out_prncp','out_prncp_inv']        \n"
   ]
  },
  {
   "cell_type": "code",
   "execution_count": null,
   "metadata": {},
   "outputs": [],
   "source": [
    "plt.figure(figsize=(8,8))\n",
    "cor=(bank_lend[bank_lend[high_corr_columns].columns]).corr()\n",
    "top_numeric_features=cor.index\n",
    "sns.heatmap(bank_lend[top_numeric_features].corr(),annot=True,cmap=\"Blues\")"
   ]
  },
  {
   "cell_type": "code",
   "execution_count": null,
   "metadata": {},
   "outputs": [],
   "source": [
    "#'loan_amnt', 'funded_amnt', 'funded_amnt_inv' 'installment' these four features have a high correlation among them.\n",
    "#'total_pymnt','total_pymnt_inv','total_rec_prncp' these three have high correlation among them.\n",
    "#'revol_bal', 'total_rev_hi_lim' have high correlation among them.\n",
    "#'out_prncp','out_prncp_inv' have high correlation among them."
   ]
  },
  {
   "cell_type": "markdown",
   "metadata": {},
   "source": [
    "#### TRANSFORMATION, CONVERSION OF VARIABLES IN NUMBER DTYPE"
   ]
  },
  {
   "cell_type": "code",
   "execution_count": 17,
   "metadata": {},
   "outputs": [],
   "source": [
    "from sklearn.preprocessing import LabelEncoder"
   ]
  },
  {
   "cell_type": "code",
   "execution_count": 18,
   "metadata": {},
   "outputs": [],
   "source": [
    "le=LabelEncoder()"
   ]
  },
  {
   "cell_type": "code",
   "execution_count": 19,
   "metadata": {},
   "outputs": [
    {
     "data": {
      "text/html": [
       "<div>\n",
       "<style scoped>\n",
       "    .dataframe tbody tr th:only-of-type {\n",
       "        vertical-align: middle;\n",
       "    }\n",
       "\n",
       "    .dataframe tbody tr th {\n",
       "        vertical-align: top;\n",
       "    }\n",
       "\n",
       "    .dataframe thead th {\n",
       "        text-align: right;\n",
       "    }\n",
       "</style>\n",
       "<table border=\"1\" class=\"dataframe\">\n",
       "  <thead>\n",
       "    <tr style=\"text-align: right;\">\n",
       "      <th></th>\n",
       "      <th>loan_amnt</th>\n",
       "      <th>funded_amnt</th>\n",
       "      <th>funded_amnt_inv</th>\n",
       "      <th>term</th>\n",
       "      <th>int_rate</th>\n",
       "      <th>installment</th>\n",
       "      <th>grade</th>\n",
       "      <th>sub_grade</th>\n",
       "      <th>emp_length</th>\n",
       "      <th>home_ownership</th>\n",
       "      <th>...</th>\n",
       "      <th>total_rec_int</th>\n",
       "      <th>total_rec_late_fee</th>\n",
       "      <th>recoveries</th>\n",
       "      <th>last_pymnt_amnt</th>\n",
       "      <th>collections_12_mths_ex_med</th>\n",
       "      <th>acc_now_delinq</th>\n",
       "      <th>tot_coll_amt</th>\n",
       "      <th>tot_cur_bal</th>\n",
       "      <th>total_rev_hi_lim</th>\n",
       "      <th>default_ind</th>\n",
       "    </tr>\n",
       "  </thead>\n",
       "  <tbody>\n",
       "    <tr>\n",
       "      <th>0</th>\n",
       "      <td>5000.0</td>\n",
       "      <td>5000.0</td>\n",
       "      <td>4975.0</td>\n",
       "      <td>36 months</td>\n",
       "      <td>10.65</td>\n",
       "      <td>162.87</td>\n",
       "      <td>B</td>\n",
       "      <td>B2</td>\n",
       "      <td>10+ years</td>\n",
       "      <td>RENT</td>\n",
       "      <td>...</td>\n",
       "      <td>861.07</td>\n",
       "      <td>0.00</td>\n",
       "      <td>0.00</td>\n",
       "      <td>171.62</td>\n",
       "      <td>0</td>\n",
       "      <td>0.0</td>\n",
       "      <td>225.412882</td>\n",
       "      <td>139766.247529</td>\n",
       "      <td>32163.574526</td>\n",
       "      <td>0</td>\n",
       "    </tr>\n",
       "    <tr>\n",
       "      <th>1</th>\n",
       "      <td>2500.0</td>\n",
       "      <td>2500.0</td>\n",
       "      <td>2500.0</td>\n",
       "      <td>60 months</td>\n",
       "      <td>15.27</td>\n",
       "      <td>59.83</td>\n",
       "      <td>C</td>\n",
       "      <td>C4</td>\n",
       "      <td>&lt; 1 year</td>\n",
       "      <td>RENT</td>\n",
       "      <td>...</td>\n",
       "      <td>435.17</td>\n",
       "      <td>0.00</td>\n",
       "      <td>117.08</td>\n",
       "      <td>119.66</td>\n",
       "      <td>0</td>\n",
       "      <td>0.0</td>\n",
       "      <td>225.412882</td>\n",
       "      <td>139766.247529</td>\n",
       "      <td>32163.574526</td>\n",
       "      <td>1</td>\n",
       "    </tr>\n",
       "    <tr>\n",
       "      <th>2</th>\n",
       "      <td>2400.0</td>\n",
       "      <td>2400.0</td>\n",
       "      <td>2400.0</td>\n",
       "      <td>36 months</td>\n",
       "      <td>15.96</td>\n",
       "      <td>84.33</td>\n",
       "      <td>C</td>\n",
       "      <td>C5</td>\n",
       "      <td>10+ years</td>\n",
       "      <td>RENT</td>\n",
       "      <td>...</td>\n",
       "      <td>603.65</td>\n",
       "      <td>0.00</td>\n",
       "      <td>0.00</td>\n",
       "      <td>649.91</td>\n",
       "      <td>0</td>\n",
       "      <td>0.0</td>\n",
       "      <td>225.412882</td>\n",
       "      <td>139766.247529</td>\n",
       "      <td>32163.574526</td>\n",
       "      <td>0</td>\n",
       "    </tr>\n",
       "    <tr>\n",
       "      <th>3</th>\n",
       "      <td>10000.0</td>\n",
       "      <td>10000.0</td>\n",
       "      <td>10000.0</td>\n",
       "      <td>36 months</td>\n",
       "      <td>13.49</td>\n",
       "      <td>339.31</td>\n",
       "      <td>C</td>\n",
       "      <td>C1</td>\n",
       "      <td>10+ years</td>\n",
       "      <td>RENT</td>\n",
       "      <td>...</td>\n",
       "      <td>2209.33</td>\n",
       "      <td>16.97</td>\n",
       "      <td>0.00</td>\n",
       "      <td>357.48</td>\n",
       "      <td>0</td>\n",
       "      <td>0.0</td>\n",
       "      <td>225.412882</td>\n",
       "      <td>139766.247529</td>\n",
       "      <td>32163.574526</td>\n",
       "      <td>0</td>\n",
       "    </tr>\n",
       "    <tr>\n",
       "      <th>4</th>\n",
       "      <td>3000.0</td>\n",
       "      <td>3000.0</td>\n",
       "      <td>3000.0</td>\n",
       "      <td>60 months</td>\n",
       "      <td>12.69</td>\n",
       "      <td>67.79</td>\n",
       "      <td>B</td>\n",
       "      <td>B5</td>\n",
       "      <td>1 year</td>\n",
       "      <td>RENT</td>\n",
       "      <td>...</td>\n",
       "      <td>1009.07</td>\n",
       "      <td>0.00</td>\n",
       "      <td>0.00</td>\n",
       "      <td>67.79</td>\n",
       "      <td>0</td>\n",
       "      <td>0.0</td>\n",
       "      <td>225.412882</td>\n",
       "      <td>139766.247529</td>\n",
       "      <td>32163.574526</td>\n",
       "      <td>0</td>\n",
       "    </tr>\n",
       "    <tr>\n",
       "      <th>5</th>\n",
       "      <td>5000.0</td>\n",
       "      <td>5000.0</td>\n",
       "      <td>5000.0</td>\n",
       "      <td>36 months</td>\n",
       "      <td>7.90</td>\n",
       "      <td>156.46</td>\n",
       "      <td>A</td>\n",
       "      <td>A4</td>\n",
       "      <td>3 years</td>\n",
       "      <td>RENT</td>\n",
       "      <td>...</td>\n",
       "      <td>631.38</td>\n",
       "      <td>0.00</td>\n",
       "      <td>0.00</td>\n",
       "      <td>161.03</td>\n",
       "      <td>0</td>\n",
       "      <td>0.0</td>\n",
       "      <td>225.412882</td>\n",
       "      <td>139766.247529</td>\n",
       "      <td>32163.574526</td>\n",
       "      <td>0</td>\n",
       "    </tr>\n",
       "    <tr>\n",
       "      <th>6</th>\n",
       "      <td>7000.0</td>\n",
       "      <td>7000.0</td>\n",
       "      <td>7000.0</td>\n",
       "      <td>60 months</td>\n",
       "      <td>15.96</td>\n",
       "      <td>170.08</td>\n",
       "      <td>C</td>\n",
       "      <td>C5</td>\n",
       "      <td>8 years</td>\n",
       "      <td>RENT</td>\n",
       "      <td>...</td>\n",
       "      <td>3025.99</td>\n",
       "      <td>0.00</td>\n",
       "      <td>0.00</td>\n",
       "      <td>170.08</td>\n",
       "      <td>0</td>\n",
       "      <td>0.0</td>\n",
       "      <td>225.412882</td>\n",
       "      <td>139766.247529</td>\n",
       "      <td>32163.574526</td>\n",
       "      <td>0</td>\n",
       "    </tr>\n",
       "    <tr>\n",
       "      <th>7</th>\n",
       "      <td>3000.0</td>\n",
       "      <td>3000.0</td>\n",
       "      <td>3000.0</td>\n",
       "      <td>36 months</td>\n",
       "      <td>18.64</td>\n",
       "      <td>109.43</td>\n",
       "      <td>E</td>\n",
       "      <td>E1</td>\n",
       "      <td>9 years</td>\n",
       "      <td>RENT</td>\n",
       "      <td>...</td>\n",
       "      <td>938.14</td>\n",
       "      <td>0.00</td>\n",
       "      <td>0.00</td>\n",
       "      <td>111.34</td>\n",
       "      <td>0</td>\n",
       "      <td>0.0</td>\n",
       "      <td>225.412882</td>\n",
       "      <td>139766.247529</td>\n",
       "      <td>32163.574526</td>\n",
       "      <td>0</td>\n",
       "    </tr>\n",
       "    <tr>\n",
       "      <th>8</th>\n",
       "      <td>5600.0</td>\n",
       "      <td>5600.0</td>\n",
       "      <td>5600.0</td>\n",
       "      <td>60 months</td>\n",
       "      <td>21.28</td>\n",
       "      <td>152.39</td>\n",
       "      <td>F</td>\n",
       "      <td>F2</td>\n",
       "      <td>4 years</td>\n",
       "      <td>OWN</td>\n",
       "      <td>...</td>\n",
       "      <td>294.94</td>\n",
       "      <td>0.00</td>\n",
       "      <td>189.06</td>\n",
       "      <td>152.39</td>\n",
       "      <td>0</td>\n",
       "      <td>0.0</td>\n",
       "      <td>225.412882</td>\n",
       "      <td>139766.247529</td>\n",
       "      <td>32163.574526</td>\n",
       "      <td>1</td>\n",
       "    </tr>\n",
       "    <tr>\n",
       "      <th>9</th>\n",
       "      <td>5375.0</td>\n",
       "      <td>5375.0</td>\n",
       "      <td>5350.0</td>\n",
       "      <td>60 months</td>\n",
       "      <td>12.69</td>\n",
       "      <td>121.45</td>\n",
       "      <td>B</td>\n",
       "      <td>B5</td>\n",
       "      <td>&lt; 1 year</td>\n",
       "      <td>RENT</td>\n",
       "      <td>...</td>\n",
       "      <td>533.42</td>\n",
       "      <td>0.00</td>\n",
       "      <td>269.29</td>\n",
       "      <td>121.45</td>\n",
       "      <td>0</td>\n",
       "      <td>0.0</td>\n",
       "      <td>225.412882</td>\n",
       "      <td>139766.247529</td>\n",
       "      <td>32163.574526</td>\n",
       "      <td>1</td>\n",
       "    </tr>\n",
       "  </tbody>\n",
       "</table>\n",
       "<p>10 rows × 39 columns</p>\n",
       "</div>"
      ],
      "text/plain": [
       "   loan_amnt  funded_amnt  funded_amnt_inv        term  int_rate  installment  \\\n",
       "0     5000.0       5000.0           4975.0   36 months     10.65       162.87   \n",
       "1     2500.0       2500.0           2500.0   60 months     15.27        59.83   \n",
       "2     2400.0       2400.0           2400.0   36 months     15.96        84.33   \n",
       "3    10000.0      10000.0          10000.0   36 months     13.49       339.31   \n",
       "4     3000.0       3000.0           3000.0   60 months     12.69        67.79   \n",
       "5     5000.0       5000.0           5000.0   36 months      7.90       156.46   \n",
       "6     7000.0       7000.0           7000.0   60 months     15.96       170.08   \n",
       "7     3000.0       3000.0           3000.0   36 months     18.64       109.43   \n",
       "8     5600.0       5600.0           5600.0   60 months     21.28       152.39   \n",
       "9     5375.0       5375.0           5350.0   60 months     12.69       121.45   \n",
       "\n",
       "  grade sub_grade emp_length home_ownership  ...  total_rec_int  \\\n",
       "0     B        B2  10+ years           RENT  ...         861.07   \n",
       "1     C        C4   < 1 year           RENT  ...         435.17   \n",
       "2     C        C5  10+ years           RENT  ...         603.65   \n",
       "3     C        C1  10+ years           RENT  ...        2209.33   \n",
       "4     B        B5     1 year           RENT  ...        1009.07   \n",
       "5     A        A4    3 years           RENT  ...         631.38   \n",
       "6     C        C5    8 years           RENT  ...        3025.99   \n",
       "7     E        E1    9 years           RENT  ...         938.14   \n",
       "8     F        F2    4 years            OWN  ...         294.94   \n",
       "9     B        B5   < 1 year           RENT  ...         533.42   \n",
       "\n",
       "  total_rec_late_fee recoveries last_pymnt_amnt collections_12_mths_ex_med  \\\n",
       "0               0.00       0.00          171.62                          0   \n",
       "1               0.00     117.08          119.66                          0   \n",
       "2               0.00       0.00          649.91                          0   \n",
       "3              16.97       0.00          357.48                          0   \n",
       "4               0.00       0.00           67.79                          0   \n",
       "5               0.00       0.00          161.03                          0   \n",
       "6               0.00       0.00          170.08                          0   \n",
       "7               0.00       0.00          111.34                          0   \n",
       "8               0.00     189.06          152.39                          0   \n",
       "9               0.00     269.29          121.45                          0   \n",
       "\n",
       "   acc_now_delinq  tot_coll_amt    tot_cur_bal  total_rev_hi_lim  default_ind  \n",
       "0             0.0    225.412882  139766.247529      32163.574526            0  \n",
       "1             0.0    225.412882  139766.247529      32163.574526            1  \n",
       "2             0.0    225.412882  139766.247529      32163.574526            0  \n",
       "3             0.0    225.412882  139766.247529      32163.574526            0  \n",
       "4             0.0    225.412882  139766.247529      32163.574526            0  \n",
       "5             0.0    225.412882  139766.247529      32163.574526            0  \n",
       "6             0.0    225.412882  139766.247529      32163.574526            0  \n",
       "7             0.0    225.412882  139766.247529      32163.574526            0  \n",
       "8             0.0    225.412882  139766.247529      32163.574526            1  \n",
       "9             0.0    225.412882  139766.247529      32163.574526            1  \n",
       "\n",
       "[10 rows x 39 columns]"
      ]
     },
     "execution_count": 19,
     "metadata": {},
     "output_type": "execute_result"
    }
   ],
   "source": [
    "bank_lend.head(10)"
   ]
  },
  {
   "cell_type": "code",
   "execution_count": 20,
   "metadata": {},
   "outputs": [],
   "source": [
    "bank_lend.term.replace({' 36 months':0, ' 60 months':1},inplace=True)\n",
    "bank_lend.verification_status.replace({'Verified':0, 'Source Verified':1, 'Not Verified':2},inplace=True)"
   ]
  },
  {
   "cell_type": "code",
   "execution_count": 21,
   "metadata": {},
   "outputs": [],
   "source": [
    "bank_lend.grade.replace(to_replace='A',value=0,inplace=True)\n",
    "bank_lend.grade.replace(to_replace='B',value=1,inplace=True)\n",
    "bank_lend.grade.replace(to_replace='C',value=2,inplace=True)\n",
    "bank_lend.grade.replace(to_replace='D',value=3,inplace=True)\n",
    "bank_lend.grade.replace(to_replace='E',value=4,inplace=True)\n",
    "bank_lend.grade.replace(to_replace='F',value=5,inplace=True)\n",
    "bank_lend.grade.replace(to_replace='G',value=6,inplace=True)"
   ]
  },
  {
   "cell_type": "code",
   "execution_count": 22,
   "metadata": {},
   "outputs": [],
   "source": [
    "bank_lend.sub_grade=le.fit_transform(bank_lend.sub_grade)\n",
    "bank_lend.home_ownership=le.fit_transform(bank_lend.home_ownership)\n",
    "bank_lend.addr_state=le.fit_transform(bank_lend.addr_state)"
   ]
  },
  {
   "cell_type": "code",
   "execution_count": 23,
   "metadata": {},
   "outputs": [],
   "source": [
    "bank_lend.emp_length.replace(to_replace='< 1 year',value=0,inplace=True)\n",
    "bank_lend.emp_length.replace(to_replace='1 year',value=1,inplace=True)\n",
    "bank_lend.emp_length.replace(to_replace='2 years',value=2,inplace=True)\n",
    "bank_lend.emp_length.replace(to_replace='3 years',value=3,inplace=True)\n",
    "bank_lend.emp_length.replace(to_replace='4 years',value=4,inplace=True)\n",
    "bank_lend.emp_length.replace(to_replace='5 years',value=5,inplace=True)\n",
    "bank_lend.emp_length.replace(to_replace='6 years',value=6,inplace=True)\n",
    "bank_lend.emp_length.replace(to_replace='7 years',value=7,inplace=True)\n",
    "bank_lend.emp_length.replace(to_replace='8 years',value=8,inplace=True)\n",
    "bank_lend.emp_length.replace(to_replace='9 years',value=9,inplace=True)\n",
    "bank_lend.emp_length.replace(to_replace='10+ years',value=10,inplace=True)\n"
   ]
  },
  {
   "cell_type": "code",
   "execution_count": 24,
   "metadata": {},
   "outputs": [],
   "source": [
    "bank_lend.initial_list_status.replace({'f':0, 'w':1},inplace=True)\n"
   ]
  },
  {
   "cell_type": "code",
   "execution_count": 25,
   "metadata": {},
   "outputs": [],
   "source": [
    "bank_lend.purpose.replace(to_replace='credit_card',value=0,inplace=True)\n",
    "bank_lend.purpose.replace(to_replace='car',value=1,inplace=True)\n",
    "bank_lend.purpose.replace(to_replace='debt_consolidation',value=2,inplace=True)\n",
    "bank_lend.purpose.replace(to_replace='educational',value=3,inplace=True)\n",
    "bank_lend.purpose.replace(to_replace='home_improvement',value=4,inplace=True)\n",
    "bank_lend.purpose.replace(to_replace='house',value=5,inplace=True)\n",
    "bank_lend.purpose.replace(to_replace='debt_consolidation',value=6,inplace=True)\n",
    "bank_lend.purpose.replace(to_replace='major_purchase',value=7,inplace=True)\n",
    "bank_lend.purpose.replace(to_replace='medical',value=8,inplace=True)\n",
    "bank_lend.purpose.replace(to_replace='moving',value=9,inplace=True)\n",
    "bank_lend.purpose.replace(to_replace='renewable_energy',value=10,inplace=True)\n",
    "bank_lend.purpose.replace(to_replace='small_business',value=11,inplace=True)\n",
    "bank_lend.purpose.replace(to_replace='vacation',value=12,inplace=True)\n",
    "bank_lend.purpose.replace(to_replace='wedding',value=13,inplace=True)\n",
    "bank_lend.purpose.replace(to_replace='other',value=14,inplace=True)\n"
   ]
  },
  {
   "cell_type": "code",
   "execution_count": 26,
   "metadata": {},
   "outputs": [],
   "source": [
    "bank_lend.collections_12_mths_ex_med=bank_lend.collections_12_mths_ex_med.astype('int')"
   ]
  },
  {
   "cell_type": "markdown",
   "metadata": {},
   "source": [
    "### SAMPLING"
   ]
  },
  {
   "cell_type": "code",
   "execution_count": 27,
   "metadata": {},
   "outputs": [
    {
     "data": {
      "text/plain": [
       "(855969, 39)"
      ]
     },
     "execution_count": 27,
     "metadata": {},
     "output_type": "execute_result"
    }
   ],
   "source": [
    "bank_lend.shape"
   ]
  },
  {
   "cell_type": "code",
   "execution_count": 28,
   "metadata": {},
   "outputs": [],
   "source": [
    "train = bank_lend[bank_lend['issue_d'] <= '2015-5-31']\n",
    "test = bank_lend[bank_lend['issue_d'] >= '2015-6-01']\n"
   ]
  },
  {
   "cell_type": "code",
   "execution_count": 29,
   "metadata": {},
   "outputs": [],
   "source": [
    "train=train.drop('issue_d',axis=1)\n",
    "test=test.drop('issue_d',axis=1)"
   ]
  },
  {
   "cell_type": "code",
   "execution_count": 30,
   "metadata": {},
   "outputs": [
    {
     "name": "stdout",
     "output_type": "stream",
     "text": [
      "(598978, 38)\n",
      "(256991, 38)\n"
     ]
    }
   ],
   "source": [
    "print(train.shape)\n",
    "print(test.shape)"
   ]
  },
  {
   "cell_type": "code",
   "execution_count": 31,
   "metadata": {},
   "outputs": [
    {
     "name": "stdout",
     "output_type": "stream",
     "text": [
      "<class 'pandas.core.frame.DataFrame'>\n",
      "Int64Index: 598978 entries, 0 to 855968\n",
      "Data columns (total 38 columns):\n",
      " #   Column                      Non-Null Count   Dtype  \n",
      "---  ------                      --------------   -----  \n",
      " 0   loan_amnt                   598978 non-null  float64\n",
      " 1   funded_amnt                 598978 non-null  float64\n",
      " 2   funded_amnt_inv             598978 non-null  float64\n",
      " 3   term                        598978 non-null  int64  \n",
      " 4   int_rate                    598978 non-null  float64\n",
      " 5   installment                 598978 non-null  float64\n",
      " 6   grade                       598978 non-null  int64  \n",
      " 7   sub_grade                   598978 non-null  int32  \n",
      " 8   emp_length                  598978 non-null  int64  \n",
      " 9   home_ownership              598978 non-null  int32  \n",
      " 10  annual_inc                  598978 non-null  float64\n",
      " 11  verification_status         598978 non-null  int64  \n",
      " 12  purpose                     598978 non-null  int64  \n",
      " 13  addr_state                  598978 non-null  int32  \n",
      " 14  dti                         598978 non-null  float64\n",
      " 15  delinq_2yrs                 598978 non-null  float64\n",
      " 16  inq_last_6mths              598978 non-null  float64\n",
      " 17  open_acc                    598978 non-null  float64\n",
      " 18  pub_rec                     598978 non-null  float64\n",
      " 19  revol_bal                   598978 non-null  float64\n",
      " 20  revol_util                  598978 non-null  float64\n",
      " 21  total_acc                   598978 non-null  float64\n",
      " 22  initial_list_status         598978 non-null  int64  \n",
      " 23  out_prncp                   598978 non-null  float64\n",
      " 24  out_prncp_inv               598978 non-null  float64\n",
      " 25  total_pymnt                 598978 non-null  float64\n",
      " 26  total_pymnt_inv             598978 non-null  float64\n",
      " 27  total_rec_prncp             598978 non-null  float64\n",
      " 28  total_rec_int               598978 non-null  float64\n",
      " 29  total_rec_late_fee          598978 non-null  float64\n",
      " 30  recoveries                  598978 non-null  float64\n",
      " 31  last_pymnt_amnt             598978 non-null  float64\n",
      " 32  collections_12_mths_ex_med  598978 non-null  int32  \n",
      " 33  acc_now_delinq              598978 non-null  float64\n",
      " 34  tot_coll_amt                598978 non-null  float64\n",
      " 35  tot_cur_bal                 598978 non-null  float64\n",
      " 36  total_rev_hi_lim            598978 non-null  float64\n",
      " 37  default_ind                 598978 non-null  int64  \n",
      "dtypes: float64(27), int32(4), int64(7)\n",
      "memory usage: 169.1 MB\n"
     ]
    }
   ],
   "source": [
    "train.info()"
   ]
  },
  {
   "cell_type": "code",
   "execution_count": 32,
   "metadata": {},
   "outputs": [],
   "source": [
    "train_x=train.iloc[:,0:37]\n",
    "train_y=train.iloc[:,37]\n",
    "test_x=test.iloc[:,0:37]\n",
    "test_y=test.iloc[:,37]"
   ]
  },
  {
   "cell_type": "code",
   "execution_count": 33,
   "metadata": {},
   "outputs": [
    {
     "name": "stdout",
     "output_type": "stream",
     "text": [
      "(598978, 37)\n",
      "(598978,)\n",
      "(256991, 37)\n",
      "(256991,)\n"
     ]
    }
   ],
   "source": [
    "print(train_x.shape)\n",
    "print(train_y.shape)\n",
    "print(test_x.shape)\n",
    "print(test_y.shape)"
   ]
  },
  {
   "cell_type": "code",
   "execution_count": 35,
   "metadata": {},
   "outputs": [
    {
     "data": {
      "text/plain": [
       "0    256680\n",
       "1       311\n",
       "Name: default_ind, dtype: int64"
      ]
     },
     "execution_count": 35,
     "metadata": {},
     "output_type": "execute_result"
    }
   ],
   "source": [
    "test_y.value_counts()"
   ]
  },
  {
   "cell_type": "markdown",
   "metadata": {},
   "source": [
    "### MODEL BUILDING"
   ]
  },
  {
   "cell_type": "markdown",
   "metadata": {},
   "source": [
    "### DECISION TREE"
   ]
  },
  {
   "cell_type": "markdown",
   "metadata": {},
   "source": [
    "##### ON INITIAL DATA"
   ]
  },
  {
   "cell_type": "code",
   "execution_count": 37,
   "metadata": {},
   "outputs": [],
   "source": [
    "from sklearn.tree import DecisionTreeClassifier"
   ]
  },
  {
   "cell_type": "code",
   "execution_count": 38,
   "metadata": {},
   "outputs": [],
   "source": [
    "dt=DecisionTreeClassifier(random_state=0)"
   ]
  },
  {
   "cell_type": "code",
   "execution_count": null,
   "metadata": {},
   "outputs": [],
   "source": [
    "# We are keeping all the initial fatures."
   ]
  },
  {
   "cell_type": "code",
   "execution_count": null,
   "metadata": {},
   "outputs": [],
   "source": [
    "dt.fit(train_x,train_y)"
   ]
  },
  {
   "cell_type": "code",
   "execution_count": null,
   "metadata": {},
   "outputs": [],
   "source": [
    "pred_dt=dt.predict(test_x)"
   ]
  },
  {
   "cell_type": "code",
   "execution_count": 36,
   "metadata": {},
   "outputs": [],
   "source": [
    "from sklearn.metrics import confusion_matrix,classification_report,accuracy_score,roc_auc_score,roc_curve"
   ]
  },
  {
   "cell_type": "code",
   "execution_count": null,
   "metadata": {
    "scrolled": true
   },
   "outputs": [],
   "source": [
    "tab=confusion_matrix(test_y,pred_dt)\n",
    "print(tab)"
   ]
  },
  {
   "cell_type": "code",
   "execution_count": null,
   "metadata": {
    "scrolled": true
   },
   "outputs": [],
   "source": [
    "sns.heatmap(tab,annot=True,fmt='d',cmap=\"Blues\")"
   ]
  },
  {
   "cell_type": "code",
   "execution_count": null,
   "metadata": {
    "scrolled": true
   },
   "outputs": [],
   "source": [
    "print(classification_report(test_y,pred_dt))"
   ]
  },
  {
   "cell_type": "code",
   "execution_count": null,
   "metadata": {},
   "outputs": [],
   "source": [
    "sensitivity=(tab[0,0])/(tab[0,0]+tab[0,1])*100\n",
    "specificity=(tab[1,1])/(tab[1,1]+tab[1,0])*100\n",
    "precision_0=(tab[0,0])/(tab[0,0]+tab[1,0])*100\n",
    "precision_1=(tab[1,1])/(tab[1,1]+tab[0,1])*100\n",
    "accuracy=(tab.diagonal().sum())/(tab.sum())*100\n",
    "print(sensitivity)\n",
    "print(specificity)\n",
    "print(precision_0)\n",
    "print(precision_1)\n",
    "print(accuracy)"
   ]
  },
  {
   "cell_type": "code",
   "execution_count": null,
   "metadata": {},
   "outputs": [],
   "source": [
    "pred_prob_dt=dt.predict_proba(test_x)"
   ]
  },
  {
   "cell_type": "code",
   "execution_count": null,
   "metadata": {},
   "outputs": [],
   "source": [
    "pred_prob_dt=pd.DataFrame(pred_prob_dt)"
   ]
  },
  {
   "cell_type": "code",
   "execution_count": null,
   "metadata": {},
   "outputs": [],
   "source": [
    "pred_prob_dt"
   ]
  },
  {
   "cell_type": "code",
   "execution_count": null,
   "metadata": {
    "scrolled": true
   },
   "outputs": [],
   "source": [
    "roc_auc = roc_auc_score(test_y,pred_dt)\n",
    "roc_auc\n"
   ]
  },
  {
   "cell_type": "code",
   "execution_count": null,
   "metadata": {},
   "outputs": [],
   "source": [
    "fpr, tpr, threshold = roc_curve( test_y , pred_prob_dt.iloc[:,1] )\n",
    "\n"
   ]
  },
  {
   "cell_type": "code",
   "execution_count": null,
   "metadata": {
    "scrolled": true
   },
   "outputs": [],
   "source": [
    "fpr, tpr, threshold"
   ]
  },
  {
   "cell_type": "code",
   "execution_count": null,
   "metadata": {
    "scrolled": true
   },
   "outputs": [],
   "source": [
    "plt.figure(figsize = (8,8))\n",
    "plt.plot(fpr,tpr, color = \"r\")\n",
    "plt.xlabel(\"Fpr-Values\", size = 15)\n",
    "plt.ylabel(\"Tpr-Values\", size = 15 )\n",
    "plt.grid()\n",
    "plt.title(\"AUROC on Bank_Lend\", size = 15)\n",
    "plt.text(x= 0.2, y = 0.6 , s = \"Area under curve is {}\".format(roc_auc), size = 15)\n"
   ]
  },
  {
   "cell_type": "markdown",
   "metadata": {},
   "source": [
    "### FEATURE IMPORTANCE"
   ]
  },
  {
   "cell_type": "code",
   "execution_count": null,
   "metadata": {},
   "outputs": [],
   "source": [
    "dt.feature_importances_"
   ]
  },
  {
   "cell_type": "code",
   "execution_count": null,
   "metadata": {},
   "outputs": [],
   "source": [
    "var_imp=pd.DataFrame({'Var':train_x.columns,\"Imp\":dt.feature_importances_})"
   ]
  },
  {
   "cell_type": "code",
   "execution_count": null,
   "metadata": {},
   "outputs": [],
   "source": [
    "var_imp.sort_values(by='Imp',ascending=False)"
   ]
  },
  {
   "cell_type": "code",
   "execution_count": null,
   "metadata": {},
   "outputs": [],
   "source": [
    "from boruta import BorutaPy"
   ]
  },
  {
   "cell_type": "code",
   "execution_count": null,
   "metadata": {},
   "outputs": [],
   "source": [
    "from sklearn.ensemble import RandomForestClassifier"
   ]
  },
  {
   "cell_type": "code",
   "execution_count": null,
   "metadata": {},
   "outputs": [],
   "source": [
    "rf=RandomForestClassifier()"
   ]
  },
  {
   "cell_type": "code",
   "execution_count": null,
   "metadata": {},
   "outputs": [],
   "source": [
    "train_x_boruta=np.array(train_x)\n",
    "train_y_boruta=np.array(train_y)\n"
   ]
  },
  {
   "cell_type": "code",
   "execution_count": null,
   "metadata": {},
   "outputs": [],
   "source": [
    "boruta_feature_selector = BorutaPy(rf, max_iter= 15, verbose= 2,n_estimators=20)"
   ]
  },
  {
   "cell_type": "code",
   "execution_count": null,
   "metadata": {},
   "outputs": [],
   "source": [
    "boruta_feature_selector.fit(train_x_boruta , train_y_boruta)"
   ]
  },
  {
   "cell_type": "code",
   "execution_count": null,
   "metadata": {},
   "outputs": [],
   "source": [
    "boruta_feature_selector.support_\n"
   ]
  },
  {
   "cell_type": "code",
   "execution_count": null,
   "metadata": {},
   "outputs": [],
   "source": [
    "boruta_feature_selector1 = BorutaPy(rf, max_iter= 25, verbose= 2,n_estimators=5)"
   ]
  },
  {
   "cell_type": "code",
   "execution_count": null,
   "metadata": {},
   "outputs": [],
   "source": [
    "boruta_feature_selector1.fit(train_x_boruta , train_y_boruta)"
   ]
  },
  {
   "cell_type": "code",
   "execution_count": null,
   "metadata": {},
   "outputs": [],
   "source": [
    "boruta_feature_selector1.support_"
   ]
  },
  {
   "cell_type": "code",
   "execution_count": null,
   "metadata": {
    "scrolled": true
   },
   "outputs": [],
   "source": [
    "boruta_featue_imp1=pd.DataFrame({\"variable\":train_x.columns,\"imp\":boruta_feature_selector1.support_})\n",
    "boruta_featue_imp1.sort_values(\"imp\",ascending=False)"
   ]
  },
  {
   "cell_type": "code",
   "execution_count": null,
   "metadata": {},
   "outputs": [],
   "source": []
  },
  {
   "cell_type": "code",
   "execution_count": null,
   "metadata": {},
   "outputs": [],
   "source": [
    "from sklearn.feature_selection import RFE\n"
   ]
  },
  {
   "cell_type": "code",
   "execution_count": null,
   "metadata": {},
   "outputs": [],
   "source": [
    "rfe=RFE(rf,verbose=2)# 5= top 5 features"
   ]
  },
  {
   "cell_type": "code",
   "execution_count": null,
   "metadata": {},
   "outputs": [],
   "source": [
    "rfe.fit(train_x,train_y)"
   ]
  },
  {
   "cell_type": "code",
   "execution_count": null,
   "metadata": {},
   "outputs": [],
   "source": [
    "rfe."
   ]
  },
  {
   "cell_type": "code",
   "execution_count": null,
   "metadata": {},
   "outputs": [],
   "source": [
    "rfe_imp=pd.DataFrame({'Var':train_x.columns,'IMP':rfe.support_})"
   ]
  },
  {
   "cell_type": "code",
   "execution_count": null,
   "metadata": {},
   "outputs": [],
   "source": [
    "rfe_imp.sort_values('IMP',ascending=False)"
   ]
  },
  {
   "cell_type": "markdown",
   "metadata": {},
   "source": [
    "##### ON TOP FEATURES"
   ]
  },
  {
   "cell_type": "code",
   "execution_count": 39,
   "metadata": {},
   "outputs": [],
   "source": [
    "top_train_x=train_x.iloc[:,[1,20,24,28,3,4,6,7,10,14,21,29,30,31,32,35,36]]\n",
    "top_test_x=test_x.iloc[:,[1,20,24,28,3,4,6,7,10,14,21,29,30,31,32,35,36]]"
   ]
  },
  {
   "cell_type": "code",
   "execution_count": 40,
   "metadata": {},
   "outputs": [
    {
     "data": {
      "text/plain": [
       "DecisionTreeClassifier(random_state=0)"
      ]
     },
     "execution_count": 40,
     "metadata": {},
     "output_type": "execute_result"
    }
   ],
   "source": [
    "dt.fit(top_train_x,train_y)"
   ]
  },
  {
   "cell_type": "code",
   "execution_count": 41,
   "metadata": {},
   "outputs": [],
   "source": [
    "pred1_dt=dt.predict(top_test_x)"
   ]
  },
  {
   "cell_type": "code",
   "execution_count": 42,
   "metadata": {
    "scrolled": false
   },
   "outputs": [
    {
     "name": "stdout",
     "output_type": "stream",
     "text": [
      "[[122414 134266]\n",
      " [    44    267]]\n"
     ]
    }
   ],
   "source": [
    "tab=confusion_matrix(test_y,pred1_dt)\n",
    "print(tab)"
   ]
  },
  {
   "cell_type": "code",
   "execution_count": 43,
   "metadata": {},
   "outputs": [
    {
     "data": {
      "text/plain": [
       "<matplotlib.axes._subplots.AxesSubplot at 0xcc88b7c208>"
      ]
     },
     "execution_count": 43,
     "metadata": {},
     "output_type": "execute_result"
    },
    {
     "data": {
      "image/png": "[encoded data removed]",
      "text/plain": [
       "<Figure size 432x288 with 2 Axes>"
      ]
     },
     "metadata": {
      "needs_background": "light"
     },
     "output_type": "display_data"
    }
   ],
   "source": [
    "sns.heatmap(tab,annot=True,fmt='d',cmap=\"Blues\")"
   ]
  },
  {
   "cell_type": "code",
   "execution_count": 44,
   "metadata": {},
   "outputs": [
    {
     "name": "stdout",
     "output_type": "stream",
     "text": [
      "              precision    recall  f1-score   support\n",
      "\n",
      "           0       1.00      0.48      0.65    256680\n",
      "           1       0.00      0.86      0.00       311\n",
      "\n",
      "    accuracy                           0.48    256991\n",
      "   macro avg       0.50      0.67      0.32    256991\n",
      "weighted avg       1.00      0.48      0.64    256991\n",
      "\n"
     ]
    }
   ],
   "source": [
    "print(classification_report(test_y,pred1_dt))"
   ]
  },
  {
   "cell_type": "code",
   "execution_count": 45,
   "metadata": {},
   "outputs": [
    {
     "name": "stdout",
     "output_type": "stream",
     "text": [
      "47.69128876422004\n",
      "85.85209003215434\n",
      "99.96406931356057\n",
      "0.19846431730504785\n",
      "47.737469405543386\n"
     ]
    }
   ],
   "source": [
    "sensitivity=(tab[0,0])/(tab[0,0]+tab[0,1])*100\n",
    "specificity=(tab[1,1])/(tab[1,1]+tab[1,0])*100\n",
    "precision_0=(tab[0,0])/(tab[0,0]+tab[1,0])*100\n",
    "precision_1=(tab[1,1])/(tab[1,1]+tab[0,1])*100\n",
    "accuracy=(tab.diagonal().sum())/(tab.sum())*100\n",
    "print(sensitivity)\n",
    "print(specificity)\n",
    "print(precision_0)\n",
    "print(precision_1)\n",
    "print(accuracy)"
   ]
  },
  {
   "cell_type": "code",
   "execution_count": 46,
   "metadata": {},
   "outputs": [],
   "source": [
    "pred1_prob_dt=dt.predict_proba(top_test_x)"
   ]
  },
  {
   "cell_type": "code",
   "execution_count": 47,
   "metadata": {},
   "outputs": [],
   "source": [
    "pred1_prob_dt=pd.DataFrame(pred1_prob_dt)"
   ]
  },
  {
   "cell_type": "code",
   "execution_count": 48,
   "metadata": {
    "scrolled": true
   },
   "outputs": [
    {
     "data": {
      "text/plain": [
       "0.6677168939818718"
      ]
     },
     "execution_count": 48,
     "metadata": {},
     "output_type": "execute_result"
    }
   ],
   "source": [
    "roc_auc = roc_auc_score(test_y,pred1_dt)\n",
    "roc_auc\n"
   ]
  },
  {
   "cell_type": "code",
   "execution_count": 49,
   "metadata": {},
   "outputs": [],
   "source": [
    "fpr, tpr, threshold = roc_curve( test_y ,  pred1_prob_dt.iloc[:,1] )\n",
    "\n"
   ]
  },
  {
   "cell_type": "code",
   "execution_count": 50,
   "metadata": {
    "scrolled": true
   },
   "outputs": [
    {
     "data": {
      "text/plain": [
       "(array([0.        , 0.52308711, 1.        ]),\n",
       " array([0.       , 0.8585209, 1.       ]),\n",
       " array([2., 1., 0.]))"
      ]
     },
     "execution_count": 50,
     "metadata": {},
     "output_type": "execute_result"
    }
   ],
   "source": [
    "fpr, tpr, threshold"
   ]
  },
  {
   "cell_type": "code",
   "execution_count": 51,
   "metadata": {
    "scrolled": true
   },
   "outputs": [
    {
     "data": {
      "text/plain": [
       "Text(0.2, 0.6, 'Area under curve is 0.6677168939818718')"
      ]
     },
     "execution_count": 51,
     "metadata": {},
     "output_type": "execute_result"
    },
    {
     "data": {
      "image/png": "[encoded data removed]",
      "text/plain": [
       "<Figure size 576x576 with 1 Axes>"
      ]
     },
     "metadata": {
      "needs_background": "light"
     },
     "output_type": "display_data"
    }
   ],
   "source": [
    "plt.figure(figsize = (8,8))\n",
    "plt.plot(fpr,tpr, color = \"r\")\n",
    "plt.xlabel(\"Fpr-Values\", size = 15)\n",
    "plt.ylabel(\"Tpr-Values\", size = 15 )\n",
    "plt.grid()\n",
    "plt.title(\"AUROC on Bank_Lend\", size = 15)\n",
    "plt.text(x= 0.2, y = 0.6 , s = \"Area under curve is {}\".format(roc_auc), size = 15)\n"
   ]
  },
  {
   "cell_type": "markdown",
   "metadata": {},
   "source": [
    "##### BEST HYPERPARAMETERS"
   ]
  },
  {
   "cell_type": "code",
   "execution_count": 52,
   "metadata": {},
   "outputs": [],
   "source": [
    "from sklearn.model_selection import GridSearchCV\n"
   ]
  },
  {
   "cell_type": "code",
   "execution_count": 53,
   "metadata": {},
   "outputs": [],
   "source": [
    "dt1=DecisionTreeClassifier(random_state=0)"
   ]
  },
  {
   "cell_type": "code",
   "execution_count": 54,
   "metadata": {},
   "outputs": [],
   "source": [
    "search_dict = {\"criterion\" :[\"gini\" , \"entropy\"],\n",
    "               \"max_depth\" : range(3,10)}\n"
   ]
  },
  {
   "cell_type": "code",
   "execution_count": 55,
   "metadata": {},
   "outputs": [],
   "source": [
    "grid = GridSearchCV(dt1 ,  param_grid =  search_dict)\n"
   ]
  },
  {
   "cell_type": "code",
   "execution_count": 56,
   "metadata": {},
   "outputs": [
    {
     "data": {
      "text/plain": [
       "GridSearchCV(estimator=DecisionTreeClassifier(random_state=0),\n",
       "             param_grid={'criterion': ['gini', 'entropy'],\n",
       "                         'max_depth': range(3, 10)})"
      ]
     },
     "execution_count": 56,
     "metadata": {},
     "output_type": "execute_result"
    }
   ],
   "source": [
    "grid.fit(top_train_x, train_y)   \n",
    "#Note-We are building the model on tope features and balance dataset."
   ]
  },
  {
   "cell_type": "code",
   "execution_count": 57,
   "metadata": {},
   "outputs": [
    {
     "data": {
      "text/plain": [
       "{'criterion': 'gini', 'max_depth': 9}"
      ]
     },
     "execution_count": 57,
     "metadata": {},
     "output_type": "execute_result"
    }
   ],
   "source": [
    "grid.best_params_   \n"
   ]
  },
  {
   "cell_type": "code",
   "execution_count": 58,
   "metadata": {},
   "outputs": [
    {
     "data": {
      "text/plain": [
       "array([0, 1, 0, ..., 0, 0, 0], dtype=int64)"
      ]
     },
     "execution_count": 58,
     "metadata": {},
     "output_type": "execute_result"
    }
   ],
   "source": [
    "pred_grid = grid.predict(top_test_x)\n",
    "pred_grid"
   ]
  },
  {
   "cell_type": "code",
   "execution_count": 59,
   "metadata": {
    "scrolled": false
   },
   "outputs": [
    {
     "name": "stdout",
     "output_type": "stream",
     "text": [
      "[[221810  34870]\n",
      " [    95    216]]\n"
     ]
    }
   ],
   "source": [
    "tab=confusion_matrix(test_y,pred_grid)\n",
    "print(tab)"
   ]
  },
  {
   "cell_type": "code",
   "execution_count": 60,
   "metadata": {},
   "outputs": [
    {
     "data": {
      "text/plain": [
       "<matplotlib.axes._subplots.AxesSubplot at 0xcc87996608>"
      ]
     },
     "execution_count": 60,
     "metadata": {},
     "output_type": "execute_result"
    },
    {
     "data": {
      "image/png": "[encoded data removed]",
      "text/plain": [
       "<Figure size 432x288 with 2 Axes>"
      ]
     },
     "metadata": {
      "needs_background": "light"
     },
     "output_type": "display_data"
    }
   ],
   "source": [
    "sns.heatmap(tab,annot=True,fmt='d',cmap=\"Blues\")"
   ]
  },
  {
   "cell_type": "code",
   "execution_count": 61,
   "metadata": {},
   "outputs": [
    {
     "name": "stdout",
     "output_type": "stream",
     "text": [
      "              precision    recall  f1-score   support\n",
      "\n",
      "           0       1.00      0.86      0.93    256680\n",
      "           1       0.01      0.69      0.01       311\n",
      "\n",
      "    accuracy                           0.86    256991\n",
      "   macro avg       0.50      0.78      0.47    256991\n",
      "weighted avg       1.00      0.86      0.93    256991\n",
      "\n"
     ]
    }
   ],
   "source": [
    "print(classification_report(test_y,pred_grid))"
   ]
  },
  {
   "cell_type": "code",
   "execution_count": 62,
   "metadata": {},
   "outputs": [
    {
     "name": "stdout",
     "output_type": "stream",
     "text": [
      "86.41499142901668\n",
      "69.45337620578779\n",
      "99.95718888713638\n",
      "0.615630165878128\n",
      "86.39446517582327\n"
     ]
    }
   ],
   "source": [
    "sensitivity=(tab[0,0])/(tab[0,0]+tab[0,1])*100\n",
    "specificity=(tab[1,1])/(tab[1,1]+tab[1,0])*100\n",
    "precision_0=(tab[0,0])/(tab[0,0]+tab[1,0])*100\n",
    "precision_1=(tab[1,1])/(tab[1,1]+tab[0,1])*100\n",
    "accuracy=(tab.diagonal().sum())/(tab.sum())*100\n",
    "print(sensitivity)\n",
    "print(specificity)\n",
    "print(precision_0)\n",
    "print(precision_1)\n",
    "print(accuracy)"
   ]
  },
  {
   "cell_type": "code",
   "execution_count": 63,
   "metadata": {},
   "outputs": [],
   "source": [
    "pred_prob_grid_dt=grid.predict_proba(top_test_x)"
   ]
  },
  {
   "cell_type": "code",
   "execution_count": 64,
   "metadata": {},
   "outputs": [],
   "source": [
    "pred_prob_grid_dt=pd.DataFrame(pred_prob_grid_dt)"
   ]
  },
  {
   "cell_type": "code",
   "execution_count": 65,
   "metadata": {
    "scrolled": true
   },
   "outputs": [
    {
     "data": {
      "text/plain": [
       "0.7793418381740224"
      ]
     },
     "execution_count": 65,
     "metadata": {},
     "output_type": "execute_result"
    }
   ],
   "source": [
    "roc_auc = roc_auc_score(test_y,pred_grid)\n",
    "roc_auc\n"
   ]
  },
  {
   "cell_type": "code",
   "execution_count": 66,
   "metadata": {},
   "outputs": [],
   "source": [
    "fpr, tpr, threshold = roc_curve( test_y ,  pred_prob_grid_dt.iloc[:,1] )\n",
    "\n"
   ]
  },
  {
   "cell_type": "code",
   "execution_count": 67,
   "metadata": {
    "scrolled": true
   },
   "outputs": [
    {
     "data": {
      "text/plain": [
       "(array([0.        , 0.13535531, 0.13535531, 0.13540595, 0.13540985,\n",
       "        0.13547998, 0.13549166, 0.13563581, 0.13575658, 0.13576048,\n",
       "        0.1358345 , 0.13585009, 0.13594359, 0.13598644, 0.13599034,\n",
       "        0.13607215, 0.13608384, 0.13615397, 0.1363098 , 0.13631759,\n",
       "        0.13635266, 0.13639551, 0.13647343, 0.13647733, 0.13648901,\n",
       "        0.13664095, 0.13664875, 0.13675393, 0.13679289, 0.13683575,\n",
       "        0.13689808, 0.14199392, 0.14200171, 0.14336528, 0.14899875,\n",
       "        0.15116487, 0.15118435, 0.17716223, 0.25261415, 0.25270765,\n",
       "        0.27007168, 0.28357878, 0.28388266, 0.31646798, 0.3171108 ,\n",
       "        0.31722378, 0.4604527 , 0.66817438, 0.66822503, 0.68119448,\n",
       "        0.92991273, 0.95879305, 1.        ]),\n",
       " array([0.        , 0.22186495, 0.22829582, 0.33118971, 0.33118971,\n",
       "        0.38906752, 0.40514469, 0.5755627 , 0.63665595, 0.63665595,\n",
       "        0.67524116, 0.69453376, 0.70096463, 0.70418006, 0.70418006,\n",
       "        0.73311897, 0.73633441, 0.76848875, 0.79742765, 0.79742765,\n",
       "        0.79742765, 0.79742765, 0.79742765, 0.80064309, 0.80064309,\n",
       "        0.86495177, 0.86495177, 0.87138264, 0.8778135 , 0.8778135 ,\n",
       "        0.8778135 , 0.8778135 , 0.8778135 , 0.8778135 , 0.8778135 ,\n",
       "        0.8778135 , 0.8778135 , 0.90353698, 0.91639871, 0.91639871,\n",
       "        0.91639871, 0.91639871, 0.91639871, 0.91639871, 0.91639871,\n",
       "        0.91639871, 0.93569132, 0.95176849, 0.95176849, 0.95176849,\n",
       "        0.96784566, 0.97106109, 1.        ]),\n",
       " array([2.00000000e+00, 1.00000000e+00, 9.39534884e-01, 9.20540797e-01,\n",
       "        9.00000000e-01, 8.81662150e-01, 8.16326531e-01, 6.98701299e-01,\n",
       "        6.46279950e-01, 6.38297872e-01, 5.67443286e-01, 5.17564403e-01,\n",
       "        4.90196078e-01, 4.54545455e-01, 4.34210526e-01, 3.61790494e-01,\n",
       "        3.02083333e-01, 2.76923077e-01, 2.53781513e-01, 2.00000000e-01,\n",
       "        1.92205492e-01, 1.66666667e-01, 1.64705882e-01, 1.60000000e-01,\n",
       "        1.57894737e-01, 1.37535817e-01, 1.11111111e-01, 7.98611111e-02,\n",
       "        5.05415162e-02, 3.33024977e-02, 3.12965723e-02, 2.85714286e-02,\n",
       "        2.82485876e-02, 2.62244504e-02, 2.54180602e-02, 2.15827338e-02,\n",
       "        2.09205021e-02, 1.66089965e-02, 1.32770066e-02, 1.28824477e-02,\n",
       "        6.86283305e-03, 5.32782429e-03, 4.12796698e-03, 3.82693344e-03,\n",
       "        3.79669320e-03, 3.56347439e-03, 2.98441472e-03, 2.80071975e-03,\n",
       "        1.79856115e-03, 8.78820428e-04, 6.35509069e-04, 2.91449856e-04,\n",
       "        0.00000000e+00]))"
      ]
     },
     "execution_count": 67,
     "metadata": {},
     "output_type": "execute_result"
    }
   ],
   "source": [
    "fpr, tpr, threshold"
   ]
  },
  {
   "cell_type": "code",
   "execution_count": 68,
   "metadata": {
    "scrolled": true
   },
   "outputs": [
    {
     "data": {
      "text/plain": [
       "Text(0.2, 0.6, 'Area under curve is 0.7793418381740224')"
      ]
     },
     "execution_count": 68,
     "metadata": {},
     "output_type": "execute_result"
    },
    {
     "data": {
      "image/png": "[encoded data removed]",
      "text/plain": [
       "<Figure size 576x576 with 1 Axes>"
      ]
     },
     "metadata": {
      "needs_background": "light"
     },
     "output_type": "display_data"
    }
   ],
   "source": [
    "plt.figure(figsize = (8,8))\n",
    "plt.plot(fpr,tpr, color = \"r\")\n",
    "plt.xlabel(\"Fpr-Values\", size = 15)\n",
    "plt.ylabel(\"Tpr-Values\", size = 15 )\n",
    "plt.grid()\n",
    "plt.title(\"AUROC on Bank_Lend\", size = 15)\n",
    "plt.text(x= 0.2, y = 0.6 , s = \"Area under curve is {}\".format(roc_auc), size = 15)\n"
   ]
  },
  {
   "cell_type": "markdown",
   "metadata": {},
   "source": [
    "###### ON BALANCE DATSET"
   ]
  },
  {
   "cell_type": "code",
   "execution_count": 71,
   "metadata": {},
   "outputs": [
    {
     "data": {
      "text/plain": [
       "<matplotlib.axes._subplots.AxesSubplot at 0xbb34ecd408>"
      ]
     },
     "execution_count": 71,
     "metadata": {},
     "output_type": "execute_result"
    },
    {
     "data": {
      "image/png": "[encoded data removed]",
      "text/plain": [
       "<Figure size 432x288 with 1 Axes>"
      ]
     },
     "metadata": {
      "needs_background": "light"
     },
     "output_type": "display_data"
    }
   ],
   "source": [
    "train_y.value_counts().plot.bar()"
   ]
  },
  {
   "cell_type": "code",
   "execution_count": 72,
   "metadata": {},
   "outputs": [
    {
     "data": {
      "text/plain": [
       "0    552822\n",
       "1     46156\n",
       "Name: default_ind, dtype: int64"
      ]
     },
     "execution_count": 72,
     "metadata": {},
     "output_type": "execute_result"
    }
   ],
   "source": [
    "train_y.value_counts()"
   ]
  },
  {
   "cell_type": "code",
   "execution_count": 69,
   "metadata": {},
   "outputs": [],
   "source": [
    "from imblearn.over_sampling import SMOTE"
   ]
  },
  {
   "cell_type": "code",
   "execution_count": 70,
   "metadata": {},
   "outputs": [],
   "source": [
    "strat={1:200000}"
   ]
  },
  {
   "cell_type": "code",
   "execution_count": 71,
   "metadata": {},
   "outputs": [],
   "source": [
    " smote=SMOTE(sampling_strategy=strat)"
   ]
  },
  {
   "cell_type": "code",
   "execution_count": 72,
   "metadata": {},
   "outputs": [],
   "source": [
    "train_x_bl,train_y_bl=smote.fit_sample(top_train_x,train_y)"
   ]
  },
  {
   "cell_type": "code",
   "execution_count": 73,
   "metadata": {},
   "outputs": [
    {
     "data": {
      "text/plain": [
       "0    552822\n",
       "1    200000\n",
       "Name: default_ind, dtype: int64"
      ]
     },
     "execution_count": 73,
     "metadata": {},
     "output_type": "execute_result"
    }
   ],
   "source": [
    "train_y_bl.value_counts()"
   ]
  },
  {
   "cell_type": "code",
   "execution_count": 74,
   "metadata": {},
   "outputs": [],
   "source": [
    "dt_bl=DecisionTreeClassifier(random_state=0,criterion= 'entropy', max_depth= 9)"
   ]
  },
  {
   "cell_type": "code",
   "execution_count": 75,
   "metadata": {},
   "outputs": [
    {
     "data": {
      "text/plain": [
       "DecisionTreeClassifier(criterion='entropy', max_depth=9, random_state=0)"
      ]
     },
     "execution_count": 75,
     "metadata": {},
     "output_type": "execute_result"
    }
   ],
   "source": [
    "dt_bl.fit(train_x_bl,train_y_bl)"
   ]
  },
  {
   "cell_type": "code",
   "execution_count": 76,
   "metadata": {},
   "outputs": [],
   "source": [
    "pred_dt_bl=dt_bl.predict(top_test_x)"
   ]
  },
  {
   "cell_type": "code",
   "execution_count": 77,
   "metadata": {
    "scrolled": false
   },
   "outputs": [
    {
     "name": "stdout",
     "output_type": "stream",
     "text": [
      "[[224185  32495]\n",
      " [    59    252]]\n"
     ]
    }
   ],
   "source": [
    "tab=confusion_matrix(test_y,pred_dt_bl)\n",
    "print(tab)"
   ]
  },
  {
   "cell_type": "code",
   "execution_count": 78,
   "metadata": {},
   "outputs": [
    {
     "data": {
      "text/plain": [
       "<matplotlib.axes._subplots.AxesSubplot at 0xcc88c29388>"
      ]
     },
     "execution_count": 78,
     "metadata": {},
     "output_type": "execute_result"
    },
    {
     "data": {
      "image/png": "[encoded data removed]",
      "text/plain": [
       "<Figure size 432x288 with 2 Axes>"
      ]
     },
     "metadata": {
      "needs_background": "light"
     },
     "output_type": "display_data"
    }
   ],
   "source": [
    "sns.heatmap(tab,annot=True,fmt='d',cmap=\"Blues\")"
   ]
  },
  {
   "cell_type": "code",
   "execution_count": 79,
   "metadata": {},
   "outputs": [
    {
     "name": "stdout",
     "output_type": "stream",
     "text": [
      "              precision    recall  f1-score   support\n",
      "\n",
      "           0       1.00      0.87      0.93    256680\n",
      "           1       0.01      0.81      0.02       311\n",
      "\n",
      "    accuracy                           0.87    256991\n",
      "   macro avg       0.50      0.84      0.47    256991\n",
      "weighted avg       1.00      0.87      0.93    256991\n",
      "\n"
     ]
    }
   ],
   "source": [
    "print(classification_report(test_y,pred_dt_bl))"
   ]
  },
  {
   "cell_type": "code",
   "execution_count": 80,
   "metadata": {},
   "outputs": [
    {
     "name": "stdout",
     "output_type": "stream",
     "text": [
      "87.34026803802399\n",
      "81.02893890675242\n",
      "99.97368937407467\n",
      "0.7695361407151801\n",
      "87.3326303255756\n"
     ]
    }
   ],
   "source": [
    "sensitivity=(tab[0,0])/(tab[0,0]+tab[0,1])*100\n",
    "specificity=(tab[1,1])/(tab[1,1]+tab[1,0])*100\n",
    "precision_0=(tab[0,0])/(tab[0,0]+tab[1,0])*100\n",
    "precision_1=(tab[1,1])/(tab[1,1]+tab[0,1])*100\n",
    "accuracy=(tab.diagonal().sum())/(tab.sum())*100\n",
    "print(sensitivity)\n",
    "print(specificity)\n",
    "print(precision_0)\n",
    "print(precision_1)\n",
    "print(accuracy)"
   ]
  },
  {
   "cell_type": "code",
   "execution_count": 81,
   "metadata": {},
   "outputs": [],
   "source": [
    "pred_prob_dt_bl=dt_bl.predict_proba(top_test_x)"
   ]
  },
  {
   "cell_type": "code",
   "execution_count": 82,
   "metadata": {},
   "outputs": [],
   "source": [
    "pred_prob_dt_bl=pd.DataFrame(pred_prob_dt_bl)"
   ]
  },
  {
   "cell_type": "code",
   "execution_count": 83,
   "metadata": {
    "scrolled": true
   },
   "outputs": [
    {
     "data": {
      "text/plain": [
       "0.841846034723882"
      ]
     },
     "execution_count": 83,
     "metadata": {},
     "output_type": "execute_result"
    }
   ],
   "source": [
    "roc_auc = roc_auc_score(test_y,pred_dt_bl)\n",
    "roc_auc\n"
   ]
  },
  {
   "cell_type": "code",
   "execution_count": 84,
   "metadata": {},
   "outputs": [],
   "source": [
    "fpr, tpr, threshold = roc_curve( test_y ,  pred_prob_dt_bl.iloc[:,1] )\n",
    "\n"
   ]
  },
  {
   "cell_type": "code",
   "execution_count": 85,
   "metadata": {
    "scrolled": true
   },
   "outputs": [
    {
     "data": {
      "text/plain": [
       "(array([0.        , 0.07837775, 0.11855618, 0.11878993, 0.11879383,\n",
       "        0.11896914, 0.1190081 , 0.11906265, 0.11907823, 0.11918342,\n",
       "        0.119199  , 0.11944055, 0.1265194 , 0.1265233 , 0.12655446,\n",
       "        0.12658563, 0.12659732, 0.1266207 , 0.13065685, 0.13066854,\n",
       "        0.13083996, 0.13084775, 0.1308906 , 0.13089839, 0.13094125,\n",
       "        0.13124903, 0.13126461, 0.13137759, 0.13138928, 0.13142434,\n",
       "        0.16255259, 0.16261493, 0.16261882, 0.16282141, 0.16719261,\n",
       "        0.17180146, 0.1754792 , 0.17550257, 0.17550647, 0.17554932,\n",
       "        0.17558828, 0.17568178, 0.17570905, 0.17571295, 0.1757558 ,\n",
       "        0.17578308, 0.1758532 , 0.17620383, 0.17627006, 0.20552439,\n",
       "        0.25315178, 0.32551815, 0.32555711, 0.37582204, 0.37774661,\n",
       "        0.37777778, 0.37780115, 0.37911797, 0.38190354, 0.38192302,\n",
       "        0.3906849 , 0.48945379, 0.49285881, 0.56553296, 0.565681  ,\n",
       "        0.58157239, 0.58415926, 0.59235624, 0.69317048, 0.69320944,\n",
       "        0.69322892, 0.69326399, 0.72318841, 0.72321568, 0.72359358,\n",
       "        0.7259545 , 0.72612981, 0.72713106, 0.79386785, 0.79400031,\n",
       "        0.79525869, 0.79850008, 0.82524155, 0.91925744, 0.920434  ,\n",
       "        0.93113215, 0.93209444, 1.        ]),\n",
       " array([0.        , 0.18649518, 0.20578778, 0.45016077, 0.45337621,\n",
       "        0.5755627 , 0.58842444, 0.64308682, 0.64951768, 0.68167203,\n",
       "        0.69453376, 0.74276527, 0.74276527, 0.74276527, 0.80064309,\n",
       "        0.81028939, 0.81028939, 0.81028939, 0.81028939, 0.81028939,\n",
       "        0.81028939, 0.81350482, 0.82315113, 0.82315113, 0.82958199,\n",
       "        0.82958199, 0.82958199, 0.82958199, 0.83601286, 0.84244373,\n",
       "        0.84565916, 0.8488746 , 0.8488746 , 0.85530547, 0.85530547,\n",
       "        0.86495177, 0.86495177, 0.8681672 , 0.8681672 , 0.8681672 ,\n",
       "        0.8681672 , 0.8681672 , 0.89067524, 0.89067524, 0.89067524,\n",
       "        0.89067524, 0.89067524, 0.89067524, 0.89067524, 0.89067524,\n",
       "        0.89067524, 0.91318328, 0.91318328, 0.91639871, 0.91961415,\n",
       "        0.91961415, 0.91961415, 0.91961415, 0.91961415, 0.91961415,\n",
       "        0.92282958, 0.93247588, 0.93247588, 0.94212219, 0.94212219,\n",
       "        0.95176849, 0.95176849, 0.95176849, 0.96784566, 0.96784566,\n",
       "        0.96784566, 0.96784566, 0.96784566, 0.96784566, 0.96784566,\n",
       "        0.96784566, 0.96784566, 0.96784566, 0.97427653, 0.97427653,\n",
       "        0.97427653, 0.97427653, 0.9807074 , 0.9903537 , 0.9903537 ,\n",
       "        0.9903537 , 0.9903537 , 1.        ]),\n",
       " array([2.00000000e+00, 1.00000000e+00, 9.64285714e-01, 8.89728689e-01,\n",
       "        8.88888889e-01, 8.87078934e-01, 8.74472574e-01, 8.32368386e-01,\n",
       "        8.01614764e-01, 6.36634199e-01, 6.03550296e-01, 6.00430416e-01,\n",
       "        6.00000000e-01, 5.84905660e-01, 5.65217391e-01, 5.54821664e-01,\n",
       "        5.38461538e-01, 5.00000000e-01, 4.78260870e-01, 4.44444444e-01,\n",
       "        4.28571429e-01, 3.78151261e-01, 3.20000000e-01, 3.14285714e-01,\n",
       "        3.02717901e-01, 2.74509804e-01, 2.45614035e-01, 2.41706161e-01,\n",
       "        2.22520107e-01, 1.92307692e-01, 1.83035714e-01, 1.63636364e-01,\n",
       "        1.57894737e-01, 1.56061621e-01, 1.54929577e-01, 1.42857143e-01,\n",
       "        7.12006382e-02, 6.14035088e-02, 5.52147239e-02, 5.46218487e-02,\n",
       "        5.00000000e-02, 4.78723404e-02, 4.67289720e-02, 3.30330330e-02,\n",
       "        3.19634703e-02, 3.14285714e-02, 2.85714286e-02, 2.78232406e-02,\n",
       "        2.52100840e-02, 2.28671136e-02, 2.04081633e-02, 1.97042918e-02,\n",
       "        1.89274448e-02, 1.59027128e-02, 1.30576714e-02, 1.29240711e-02,\n",
       "        1.27388535e-02, 1.10169728e-02, 1.08864697e-02, 1.04712042e-02,\n",
       "        1.03950104e-02, 1.02001434e-02, 9.18484501e-03, 8.99479249e-03,\n",
       "        8.38222967e-03, 5.67587752e-03, 5.22088353e-03, 5.08905852e-03,\n",
       "        4.81739931e-03, 4.27350427e-03, 4.11522634e-03, 3.48779273e-03,\n",
       "        2.43557511e-03, 2.30414747e-03, 2.01612903e-03, 1.90146932e-03,\n",
       "        1.67336011e-03, 1.62495938e-03, 1.33632995e-03, 1.23250286e-03,\n",
       "        1.15635583e-03, 1.06609808e-03, 1.06382979e-03, 9.24470741e-04,\n",
       "        4.95172072e-04, 1.66164218e-04, 8.92060660e-05, 0.00000000e+00]))"
      ]
     },
     "execution_count": 85,
     "metadata": {},
     "output_type": "execute_result"
    }
   ],
   "source": [
    "fpr, tpr, threshold"
   ]
  },
  {
   "cell_type": "code",
   "execution_count": 86,
   "metadata": {
    "scrolled": true
   },
   "outputs": [
    {
     "data": {
      "text/plain": [
       "Text(0, 0.6, 'AUC is 0.841846034723882')"
      ]
     },
     "execution_count": 86,
     "metadata": {},
     "output_type": "execute_result"
    },
    {
     "data": {
      "image/png": "[encoded data removed]",
      "text/plain": [
       "<Figure size 360x288 with 1 Axes>"
      ]
     },
     "metadata": {
      "needs_background": "light"
     },
     "output_type": "display_data"
    }
   ],
   "source": [
    "plt.figure(figsize = (5,4))\n",
    "plt.plot(fpr,tpr, color = \"r\")\n",
    "plt.xlabel(\"Fpr-Values\", size = 15)\n",
    "plt.ylabel(\"Tpr-Values\", size = 15 )\n",
    "plt.grid()\n",
    "plt.title(\"AUROC on Bank_Lend\", size = 15)\n",
    "plt.text(x= 0, y = 0.6 , s = \"AUC is {}\".format(roc_auc), size = 15)\n"
   ]
  },
  {
   "cell_type": "code",
   "execution_count": 87,
   "metadata": {},
   "outputs": [
    {
     "ename": "NameError",
     "evalue": "name 'dt_bl_pred' is not defined",
     "output_type": "error",
     "traceback": [
      "\u001b[1;31m---------------------------------------------------------------------------\u001b[0m",
      "\u001b[1;31mNameError\u001b[0m                                 Traceback (most recent call last)",
      "\u001b[1;32m<ipython-input-87-75e231f80cfa>\u001b[0m in \u001b[0;36m<module>\u001b[1;34m\u001b[0m\n\u001b[1;32m----> 1\u001b[1;33m \u001b[0msns\u001b[0m\u001b[1;33m.\u001b[0m\u001b[0mheatmap\u001b[0m\u001b[1;33m(\u001b[0m\u001b[0mconfusion_matrix\u001b[0m\u001b[1;33m(\u001b[0m\u001b[0mtest_y\u001b[0m\u001b[1;33m,\u001b[0m\u001b[0mdt_bl_pred\u001b[0m\u001b[1;33m)\u001b[0m\u001b[1;33m,\u001b[0m\u001b[0mannot\u001b[0m\u001b[1;33m=\u001b[0m\u001b[1;32mTrue\u001b[0m\u001b[1;33m,\u001b[0m\u001b[0mfmt\u001b[0m\u001b[1;33m=\u001b[0m\u001b[1;34m'd'\u001b[0m\u001b[1;33m,\u001b[0m\u001b[0mcmap\u001b[0m\u001b[1;33m=\u001b[0m\u001b[1;34m\"Blues\"\u001b[0m\u001b[1;33m)\u001b[0m\u001b[1;33m\u001b[0m\u001b[1;33m\u001b[0m\u001b[0m\n\u001b[0m",
      "\u001b[1;31mNameError\u001b[0m: name 'dt_bl_pred' is not defined"
     ]
    }
   ],
   "source": [
    "sns.heatmap(confusion_matrix(test_y,dt_bl_pred),annot=True,fmt='d',cmap=\"Blues\")"
   ]
  },
  {
   "cell_type": "markdown",
   "metadata": {},
   "source": [
    "### RAMDOM FOREST"
   ]
  },
  {
   "cell_type": "code",
   "execution_count": 88,
   "metadata": {},
   "outputs": [],
   "source": [
    "from sklearn.ensemble import RandomForestClassifier"
   ]
  },
  {
   "cell_type": "code",
   "execution_count": 89,
   "metadata": {},
   "outputs": [],
   "source": [
    "rf=RandomForestClassifier(random_state=0)"
   ]
  },
  {
   "cell_type": "markdown",
   "metadata": {},
   "source": [
    "##### ON INITIAL DATA"
   ]
  },
  {
   "cell_type": "code",
   "execution_count": null,
   "metadata": {},
   "outputs": [],
   "source": [
    "rf.fit(train_x,train_y)"
   ]
  },
  {
   "cell_type": "code",
   "execution_count": null,
   "metadata": {},
   "outputs": [],
   "source": [
    "pred_rf=rf.predict(test_x)"
   ]
  },
  {
   "cell_type": "code",
   "execution_count": null,
   "metadata": {
    "scrolled": false
   },
   "outputs": [],
   "source": [
    "tab=confusion_matrix(test_y,pred_rf)\n",
    "print(tab)"
   ]
  },
  {
   "cell_type": "code",
   "execution_count": null,
   "metadata": {
    "scrolled": true
   },
   "outputs": [],
   "source": [
    "sns.heatmap(tab,annot=True,fmt='d',cmap=\"Blues\")"
   ]
  },
  {
   "cell_type": "code",
   "execution_count": null,
   "metadata": {},
   "outputs": [],
   "source": [
    "print(classification_report(test_y,pred_rf))"
   ]
  },
  {
   "cell_type": "code",
   "execution_count": null,
   "metadata": {},
   "outputs": [],
   "source": [
    "sensitivity=(tab[0,0])/(tab[0,0]+tab[0,1])*100\n",
    "specificity=(tab[1,1])/(tab[1,1]+tab[1,0])*100\n",
    "precision_0=(tab[0,0])/(tab[0,0]+tab[1,0])*100\n",
    "precision_1=(tab[1,1])/(tab[1,1]+tab[0,1])*100\n",
    "accuracy=(tab.diagonal().sum())/(tab.sum())*100\n",
    "print(sensitivity)\n",
    "print(specificity)\n",
    "print(precision_0)\n",
    "print(precision_1)\n",
    "print(accuracy)"
   ]
  },
  {
   "cell_type": "code",
   "execution_count": null,
   "metadata": {},
   "outputs": [],
   "source": [
    "pred_prob_rf=rf.predict_proba(test_x)"
   ]
  },
  {
   "cell_type": "code",
   "execution_count": null,
   "metadata": {},
   "outputs": [],
   "source": [
    "pred_prob_rf=pd.DataFrame(pred_prob_rf)"
   ]
  },
  {
   "cell_type": "code",
   "execution_count": null,
   "metadata": {
    "scrolled": true
   },
   "outputs": [],
   "source": [
    "roc_auc = roc_auc_score(test_y,pred_rf)\n",
    "roc_auc\n"
   ]
  },
  {
   "cell_type": "code",
   "execution_count": null,
   "metadata": {},
   "outputs": [],
   "source": [
    "fpr, tpr, threshold = roc_curve( test_y ,  pred_prob_rf.iloc[:,1])\n",
    "\n"
   ]
  },
  {
   "cell_type": "code",
   "execution_count": null,
   "metadata": {
    "scrolled": true
   },
   "outputs": [],
   "source": [
    "fpr, tpr, threshold"
   ]
  },
  {
   "cell_type": "code",
   "execution_count": null,
   "metadata": {
    "scrolled": false
   },
   "outputs": [],
   "source": [
    "plt.figure(figsize = (8,8))\n",
    "plt.plot(fpr,tpr, color = \"r\")\n",
    "plt.xlabel(\"Fpr-Values\", size = 15)\n",
    "plt.ylabel(\"Tpr-Values\", size = 15 )\n",
    "plt.grid()\n",
    "plt.title(\"AUROC on Bank_Lend\", size = 15)\n",
    "plt.text(x= 0.2, y = 0.6 , s = \"Area under curve is {}\".format(roc_auc), size = 15)\n"
   ]
  },
  {
   "cell_type": "markdown",
   "metadata": {},
   "source": [
    "##### ON TOP FEATURES"
   ]
  },
  {
   "cell_type": "code",
   "execution_count": 90,
   "metadata": {},
   "outputs": [
    {
     "data": {
      "text/plain": [
       "RandomForestClassifier(random_state=0)"
      ]
     },
     "execution_count": 90,
     "metadata": {},
     "output_type": "execute_result"
    }
   ],
   "source": [
    "rf.fit(top_train_x,train_y)"
   ]
  },
  {
   "cell_type": "code",
   "execution_count": 91,
   "metadata": {},
   "outputs": [],
   "source": [
    "pred1_rf=rf.predict(top_test_x)"
   ]
  },
  {
   "cell_type": "code",
   "execution_count": 92,
   "metadata": {
    "scrolled": true
   },
   "outputs": [
    {
     "name": "stdout",
     "output_type": "stream",
     "text": [
      "[[200021  56659]\n",
      " [    35    276]]\n"
     ]
    }
   ],
   "source": [
    "tab=confusion_matrix(test_y,pred1_rf)\n",
    "print(tab)"
   ]
  },
  {
   "cell_type": "code",
   "execution_count": 93,
   "metadata": {},
   "outputs": [
    {
     "data": {
      "text/plain": [
       "<matplotlib.axes._subplots.AxesSubplot at 0xcc88fcb808>"
      ]
     },
     "execution_count": 93,
     "metadata": {},
     "output_type": "execute_result"
    },
    {
     "data": {
      "image/png": "[encoded data removed]",
      "text/plain": [
       "<Figure size 432x288 with 2 Axes>"
      ]
     },
     "metadata": {
      "needs_background": "light"
     },
     "output_type": "display_data"
    }
   ],
   "source": [
    "sns.heatmap(tab,annot=True,fmt='d',cmap=\"Blues\")"
   ]
  },
  {
   "cell_type": "code",
   "execution_count": 94,
   "metadata": {},
   "outputs": [
    {
     "name": "stdout",
     "output_type": "stream",
     "text": [
      "              precision    recall  f1-score   support\n",
      "\n",
      "           0       1.00      0.78      0.88    256680\n",
      "           1       0.00      0.89      0.01       311\n",
      "\n",
      "    accuracy                           0.78    256991\n",
      "   macro avg       0.50      0.83      0.44    256991\n",
      "weighted avg       1.00      0.78      0.87    256991\n",
      "\n"
     ]
    }
   ],
   "source": [
    "print(classification_report(test_y,pred1_rf))"
   ]
  },
  {
   "cell_type": "code",
   "execution_count": 95,
   "metadata": {},
   "outputs": [
    {
     "name": "stdout",
     "output_type": "stream",
     "text": [
      "77.92621162537012\n",
      "88.7459807073955\n",
      "99.98250489862839\n",
      "0.48476332660050936\n",
      "77.93930526749963\n"
     ]
    }
   ],
   "source": [
    "sensitivity=(tab[0,0])/(tab[0,0]+tab[0,1])*100\n",
    "specificity=(tab[1,1])/(tab[1,1]+tab[1,0])*100\n",
    "precision_0=(tab[0,0])/(tab[0,0]+tab[1,0])*100\n",
    "precision_1=(tab[1,1])/(tab[1,1]+tab[0,1])*100\n",
    "accuracy=(tab.diagonal().sum())/(tab.sum())*100\n",
    "print(sensitivity)\n",
    "print(specificity)\n",
    "print(precision_0)\n",
    "print(precision_1)\n",
    "print(accuracy)"
   ]
  },
  {
   "cell_type": "code",
   "execution_count": 96,
   "metadata": {},
   "outputs": [],
   "source": [
    "pred1_prob_rf=rf.predict_proba(top_test_x)"
   ]
  },
  {
   "cell_type": "code",
   "execution_count": 97,
   "metadata": {},
   "outputs": [],
   "source": [
    "pred1_prob_rf=pd.DataFrame(pred1_prob_rf)"
   ]
  },
  {
   "cell_type": "code",
   "execution_count": 98,
   "metadata": {
    "scrolled": true
   },
   "outputs": [
    {
     "data": {
      "text/plain": [
       "0.8333609616638281"
      ]
     },
     "execution_count": 98,
     "metadata": {},
     "output_type": "execute_result"
    }
   ],
   "source": [
    "roc_auc = roc_auc_score(test_y,pred1_rf)\n",
    "roc_auc\n"
   ]
  },
  {
   "cell_type": "code",
   "execution_count": 99,
   "metadata": {},
   "outputs": [],
   "source": [
    "fpr, tpr, threshold = roc_curve( test_y ,  pred1_prob_rf.iloc[:,1])\n",
    "\n"
   ]
  },
  {
   "cell_type": "code",
   "execution_count": 100,
   "metadata": {
    "scrolled": true
   },
   "outputs": [
    {
     "data": {
      "text/plain": [
       "(array([0.00000000e+00, 0.00000000e+00, 3.89590151e-06, 1.55836060e-05,\n",
       "        2.72713106e-05, 6.23344242e-05, 1.20772947e-04, 2.33754091e-04,\n",
       "        4.09069659e-04, 6.85678666e-04, 1.05578931e-03, 1.63627863e-03,\n",
       "        2.36481222e-03, 3.44397694e-03, 4.67897772e-03, 6.21006701e-03,\n",
       "        7.97101449e-03, 9.93844476e-03, 1.21902758e-02, 1.47498831e-02,\n",
       "        1.75315568e-02, 2.04262116e-02, 2.36247468e-02, 2.72557270e-02,\n",
       "        3.13269441e-02, 3.55306218e-02, 4.02992052e-02, 4.53132305e-02,\n",
       "        5.05454262e-02, 5.64594047e-02, 6.21863799e-02, 6.82406109e-02,\n",
       "        7.46844320e-02, 8.12879850e-02, 8.82304815e-02, 9.54184198e-02,\n",
       "        1.02879071e-01, 1.10452704e-01, 1.18287362e-01, 1.26114228e-01,\n",
       "        1.34295621e-01, 1.42328970e-01, 1.50775284e-01, 1.59139785e-01,\n",
       "        1.67434159e-01, 1.76098644e-01, 1.84544959e-01, 1.93525012e-01,\n",
       "        2.02703756e-01, 2.11796790e-01, 2.20737884e-01, 2.29277700e-01,\n",
       "        2.38008415e-01, 2.46594982e-01, 2.55193237e-01, 2.63596696e-01,\n",
       "        2.72066386e-01, 2.80368552e-01, 2.88994078e-01, 2.97163784e-01,\n",
       "        3.05360760e-01, 3.13748636e-01, 3.22230014e-01, 3.30380240e-01,\n",
       "        3.38772012e-01, 3.47268973e-01, 3.55875019e-01, 3.64570672e-01,\n",
       "        3.73609163e-01, 3.82772324e-01, 3.92512077e-01, 4.02598566e-01,\n",
       "        4.12735702e-01, 4.22417017e-01, 4.31930809e-01, 4.41705626e-01,\n",
       "        4.51577840e-01, 4.61831853e-01, 4.72417017e-01, 4.83150226e-01,\n",
       "        4.94066542e-01, 5.05504909e-01, 5.17664017e-01, 5.30715288e-01,\n",
       "        5.43957457e-01, 5.57916472e-01, 5.72678043e-01, 5.88000623e-01,\n",
       "        6.03701106e-01, 6.20063893e-01, 6.36559140e-01, 6.53416706e-01,\n",
       "        6.70663862e-01, 6.88425277e-01, 7.06965872e-01, 7.28253078e-01,\n",
       "        7.51940159e-01, 7.77824529e-01, 8.07885305e-01, 8.45196353e-01,\n",
       "        8.98593580e-01, 1.00000000e+00]),\n",
       " array([0.        , 0.00321543, 0.00321543, 0.00643087, 0.01607717,\n",
       "        0.0192926 , 0.02250804, 0.02893891, 0.03536977, 0.07073955,\n",
       "        0.08681672, 0.09646302, 0.12540193, 0.1414791 , 0.15434084,\n",
       "        0.16720257, 0.18006431, 0.20578778, 0.24437299, 0.2733119 ,\n",
       "        0.30868167, 0.33762058, 0.37942122, 0.414791  , 0.43086817,\n",
       "        0.46623794, 0.49839228, 0.53054662, 0.54662379, 0.57877814,\n",
       "        0.59163987, 0.62057878, 0.63987138, 0.66237942, 0.67845659,\n",
       "        0.6977492 , 0.71382637, 0.73633441, 0.74276527, 0.75562701,\n",
       "        0.77813505, 0.79099678, 0.80707395, 0.81350482, 0.81993569,\n",
       "        0.82958199, 0.83601286, 0.8585209 , 0.87138264, 0.88424437,\n",
       "        0.88745981, 0.89067524, 0.89067524, 0.90675241, 0.91318328,\n",
       "        0.92282958, 0.92926045, 0.93247588, 0.93247588, 0.93569132,\n",
       "        0.93569132, 0.94212219, 0.94212219, 0.94533762, 0.94533762,\n",
       "        0.94533762, 0.95176849, 0.95176849, 0.95176849, 0.95176849,\n",
       "        0.95819936, 0.96141479, 0.96141479, 0.96784566, 0.97106109,\n",
       "        0.97106109, 0.97106109, 0.97106109, 0.97106109, 0.97749196,\n",
       "        0.9807074 , 0.9807074 , 0.98392283, 0.9903537 , 0.9903537 ,\n",
       "        0.9903537 , 0.9903537 , 0.9903537 , 0.9903537 , 0.9903537 ,\n",
       "        0.9903537 , 0.9903537 , 0.9903537 , 0.9903537 , 0.9903537 ,\n",
       "        0.9903537 , 0.99356913, 0.99678457, 0.99678457, 0.99678457,\n",
       "        0.99678457, 1.        ]),\n",
       " array([2.  , 1.  , 0.99, 0.98, 0.97, 0.96, 0.95, 0.94, 0.93, 0.92, 0.91,\n",
       "        0.9 , 0.89, 0.88, 0.87, 0.86, 0.85, 0.84, 0.83, 0.82, 0.81, 0.8 ,\n",
       "        0.79, 0.78, 0.77, 0.76, 0.75, 0.74, 0.73, 0.72, 0.71, 0.7 , 0.69,\n",
       "        0.68, 0.67, 0.66, 0.65, 0.64, 0.63, 0.62, 0.61, 0.6 , 0.59, 0.58,\n",
       "        0.57, 0.56, 0.55, 0.54, 0.53, 0.52, 0.51, 0.5 , 0.49, 0.48, 0.47,\n",
       "        0.46, 0.45, 0.44, 0.43, 0.42, 0.41, 0.4 , 0.39, 0.38, 0.37, 0.36,\n",
       "        0.35, 0.34, 0.33, 0.32, 0.31, 0.3 , 0.29, 0.28, 0.27, 0.26, 0.25,\n",
       "        0.24, 0.23, 0.22, 0.21, 0.2 , 0.19, 0.18, 0.17, 0.16, 0.15, 0.14,\n",
       "        0.13, 0.12, 0.11, 0.1 , 0.09, 0.08, 0.07, 0.06, 0.05, 0.04, 0.03,\n",
       "        0.02, 0.01, 0.  ]))"
      ]
     },
     "execution_count": 100,
     "metadata": {},
     "output_type": "execute_result"
    }
   ],
   "source": [
    "fpr, tpr, threshold"
   ]
  },
  {
   "cell_type": "code",
   "execution_count": 101,
   "metadata": {
    "scrolled": true
   },
   "outputs": [
    {
     "data": {
      "text/plain": [
       "Text(0.2, 0.6, 'Area under curve is 0.8333609616638281')"
      ]
     },
     "execution_count": 101,
     "metadata": {},
     "output_type": "execute_result"
    },
    {
     "data": {
      "image/png": "[encoded data removed]",
      "text/plain": [
       "<Figure size 576x576 with 1 Axes>"
      ]
     },
     "metadata": {
      "needs_background": "light"
     },
     "output_type": "display_data"
    }
   ],
   "source": [
    "plt.figure(figsize = (8,8))\n",
    "plt.plot(fpr,tpr, color = \"r\")\n",
    "plt.xlabel(\"Fpr-Values\", size = 15)\n",
    "plt.ylabel(\"Tpr-Values\", size = 15 )\n",
    "plt.grid()\n",
    "plt.title(\"AUROC on Bank_Lend\", size = 15)\n",
    "plt.text(x= 0.2, y = 0.6 , s = \"Area under curve is {}\".format(roc_auc), size = 15)\n"
   ]
  },
  {
   "cell_type": "markdown",
   "metadata": {},
   "source": [
    "##### GRIDE SEARCH"
   ]
  },
  {
   "cell_type": "code",
   "execution_count": 102,
   "metadata": {},
   "outputs": [],
   "source": [
    "rf=RandomForestClassifier(n_estimators=20,random_state=0)"
   ]
  },
  {
   "cell_type": "code",
   "execution_count": 168,
   "metadata": {},
   "outputs": [],
   "source": [
    "search_dict = {\"criterion\" :[\"gini\" , \"entropy\"],\n",
    "               \"max_depth\" : range(3,10)}\n"
   ]
  },
  {
   "cell_type": "code",
   "execution_count": 169,
   "metadata": {},
   "outputs": [],
   "source": [
    "grid = GridSearchCV(rf ,  param_grid =  search_dict)\n"
   ]
  },
  {
   "cell_type": "code",
   "execution_count": 170,
   "metadata": {},
   "outputs": [
    {
     "data": {
      "text/plain": [
       "GridSearchCV(estimator=RandomForestClassifier(n_estimators=20, random_state=0),\n",
       "             param_grid={'criterion': ['gini', 'entropy'],\n",
       "                         'max_depth': range(3, 10)})"
      ]
     },
     "execution_count": 170,
     "metadata": {},
     "output_type": "execute_result"
    }
   ],
   "source": [
    "grid.fit(top_train_x, train_y)   \n",
    "#Note-We are building the model on tope features and balance dataset."
   ]
  },
  {
   "cell_type": "code",
   "execution_count": 171,
   "metadata": {},
   "outputs": [
    {
     "data": {
      "text/plain": [
       "{'criterion': 'entropy', 'max_depth': 8}"
      ]
     },
     "execution_count": 171,
     "metadata": {},
     "output_type": "execute_result"
    }
   ],
   "source": [
    "grid.best_params_   \n"
   ]
  },
  {
   "cell_type": "code",
   "execution_count": 172,
   "metadata": {},
   "outputs": [
    {
     "data": {
      "text/plain": [
       "array([0, 1, 0, ..., 0, 0, 0], dtype=int64)"
      ]
     },
     "execution_count": 172,
     "metadata": {},
     "output_type": "execute_result"
    }
   ],
   "source": [
    "pred_grid_rf = grid.predict(top_test_x)\n",
    "pred_grid"
   ]
  },
  {
   "cell_type": "code",
   "execution_count": 173,
   "metadata": {},
   "outputs": [],
   "source": [
    "from sklearn.metrics import confusion_matrix,classification_report,roc_auc_score,roc_curve"
   ]
  },
  {
   "cell_type": "code",
   "execution_count": 174,
   "metadata": {
    "scrolled": true
   },
   "outputs": [
    {
     "name": "stdout",
     "output_type": "stream",
     "text": [
      "[[256044    636]\n",
      " [   237     74]]\n"
     ]
    }
   ],
   "source": [
    "tab=confusion_matrix(test_y,pred_grid_rf)\n",
    "print(tab)"
   ]
  },
  {
   "cell_type": "code",
   "execution_count": 175,
   "metadata": {},
   "outputs": [
    {
     "data": {
      "text/plain": [
       "<matplotlib.axes._subplots.AxesSubplot at 0xcca442fe88>"
      ]
     },
     "execution_count": 175,
     "metadata": {},
     "output_type": "execute_result"
    },
    {
     "data": {
      "image/png": "[encoded data removed]",
      "text/plain": [
       "<Figure size 432x288 with 2 Axes>"
      ]
     },
     "metadata": {
      "needs_background": "light"
     },
     "output_type": "display_data"
    }
   ],
   "source": [
    "sns.heatmap(tab,annot=True,fmt='d',cmap=\"Blues\")"
   ]
  },
  {
   "cell_type": "code",
   "execution_count": 176,
   "metadata": {},
   "outputs": [
    {
     "name": "stdout",
     "output_type": "stream",
     "text": [
      "              precision    recall  f1-score   support\n",
      "\n",
      "           0       1.00      1.00      1.00    256680\n",
      "           1       0.10      0.24      0.14       311\n",
      "\n",
      "    accuracy                           1.00    256991\n",
      "   macro avg       0.55      0.62      0.57    256991\n",
      "weighted avg       1.00      1.00      1.00    256991\n",
      "\n"
     ]
    }
   ],
   "source": [
    "print(classification_report(test_y,pred_grid_rf))"
   ]
  },
  {
   "cell_type": "code",
   "execution_count": 177,
   "metadata": {},
   "outputs": [
    {
     "name": "stdout",
     "output_type": "stream",
     "text": [
      "99.7522206638616\n",
      "23.79421221864952\n",
      "99.90752338253714\n",
      "10.422535211267606\n",
      "99.66029938791631\n"
     ]
    }
   ],
   "source": [
    "sensitivity=(tab[0,0])/(tab[0,0]+tab[0,1])*100\n",
    "specificity=(tab[1,1])/(tab[1,1]+tab[1,0])*100\n",
    "precision_0=(tab[0,0])/(tab[0,0]+tab[1,0])*100\n",
    "precision_1=(tab[1,1])/(tab[1,1]+tab[0,1])*100\n",
    "accuracy=(tab.diagonal().sum())/(tab.sum())*100\n",
    "print(sensitivity)\n",
    "print(specificity)\n",
    "print(precision_0)\n",
    "print(precision_1)\n",
    "print(accuracy)"
   ]
  },
  {
   "cell_type": "code",
   "execution_count": 178,
   "metadata": {},
   "outputs": [],
   "source": [
    "pred_prob_grid_rf=grid.predict_proba(top_test_x)"
   ]
  },
  {
   "cell_type": "code",
   "execution_count": 179,
   "metadata": {},
   "outputs": [],
   "source": [
    "pred_prob_grid_rf=pd.DataFrame(pred_prob_grid_rf)"
   ]
  },
  {
   "cell_type": "code",
   "execution_count": 180,
   "metadata": {
    "scrolled": true
   },
   "outputs": [
    {
     "data": {
      "text/plain": [
       "0.6177321644125557"
      ]
     },
     "execution_count": 180,
     "metadata": {},
     "output_type": "execute_result"
    }
   ],
   "source": [
    "roc_auc = roc_auc_score(test_y,pred_grid_rf)\n",
    "roc_auc\n"
   ]
  },
  {
   "cell_type": "code",
   "execution_count": 181,
   "metadata": {},
   "outputs": [],
   "source": [
    "fpr, tpr, threshold = roc_curve( test_y ,  pred_grid_rf )\n",
    "\n"
   ]
  },
  {
   "cell_type": "code",
   "execution_count": 182,
   "metadata": {
    "scrolled": true
   },
   "outputs": [
    {
     "data": {
      "text/plain": [
       "(array([0.        , 0.00247779, 1.        ]),\n",
       " array([0.        , 0.23794212, 1.        ]),\n",
       " array([2, 1, 0], dtype=int64))"
      ]
     },
     "execution_count": 182,
     "metadata": {},
     "output_type": "execute_result"
    }
   ],
   "source": [
    "fpr, tpr, threshold"
   ]
  },
  {
   "cell_type": "code",
   "execution_count": 183,
   "metadata": {
    "scrolled": true
   },
   "outputs": [
    {
     "data": {
      "text/plain": [
       "Text(0.2, 0.6, 'Area under curve is 0.6177321644125557')"
      ]
     },
     "execution_count": 183,
     "metadata": {},
     "output_type": "execute_result"
    },
    {
     "data": {
      "image/png": "[encoded data removed]",
      "text/plain": [
       "<Figure size 576x576 with 1 Axes>"
      ]
     },
     "metadata": {
      "needs_background": "light"
     },
     "output_type": "display_data"
    }
   ],
   "source": [
    "plt.figure(figsize = (8,8))\n",
    "plt.plot(fpr,tpr, color = \"r\")\n",
    "plt.xlabel(\"Fpr-Values\", size = 15)\n",
    "plt.ylabel(\"Tpr-Values\", size = 15 )\n",
    "plt.grid()\n",
    "plt.title(\"AUROC on Bank_Lend\", size = 15)\n",
    "plt.text(x= 0.2, y = 0.6 , s = \"Area under curve is {}\".format(roc_auc), size = 15)\n"
   ]
  },
  {
   "cell_type": "markdown",
   "metadata": {},
   "source": [
    "##### ON BALANCED DATA SET"
   ]
  },
  {
   "cell_type": "code",
   "execution_count": 184,
   "metadata": {},
   "outputs": [],
   "source": [
    "rf=RandomForestClassifier(random_state=0,max_depth=9)"
   ]
  },
  {
   "cell_type": "code",
   "execution_count": 185,
   "metadata": {},
   "outputs": [
    {
     "data": {
      "text/plain": [
       "RandomForestClassifier(max_depth=9, random_state=0)"
      ]
     },
     "execution_count": 185,
     "metadata": {},
     "output_type": "execute_result"
    }
   ],
   "source": [
    "rf.fit(train_x_bl,train_y_bl)"
   ]
  },
  {
   "cell_type": "code",
   "execution_count": 186,
   "metadata": {},
   "outputs": [],
   "source": [
    "pred4_bl=rf.predict(top_test_x)"
   ]
  },
  {
   "cell_type": "code",
   "execution_count": 187,
   "metadata": {
    "scrolled": true
   },
   "outputs": [
    {
     "name": "stdout",
     "output_type": "stream",
     "text": [
      "[[254005   2675]\n",
      " [   100    211]]\n"
     ]
    }
   ],
   "source": [
    "tab=confusion_matrix(test_y,pred4_bl)\n",
    "print(tab)"
   ]
  },
  {
   "cell_type": "code",
   "execution_count": 188,
   "metadata": {},
   "outputs": [
    {
     "data": {
      "text/plain": [
       "<matplotlib.axes._subplots.AxesSubplot at 0xcca44edb08>"
      ]
     },
     "execution_count": 188,
     "metadata": {},
     "output_type": "execute_result"
    },
    {
     "data": {
      "image/png": "[encoded data removed]",
      "text/plain": [
       "<Figure size 432x288 with 2 Axes>"
      ]
     },
     "metadata": {
      "needs_background": "light"
     },
     "output_type": "display_data"
    }
   ],
   "source": [
    "sns.heatmap(tab,annot=True,fmt='d',cmap=\"Blues\")"
   ]
  },
  {
   "cell_type": "code",
   "execution_count": 189,
   "metadata": {},
   "outputs": [
    {
     "name": "stdout",
     "output_type": "stream",
     "text": [
      "              precision    recall  f1-score   support\n",
      "\n",
      "           0       1.00      0.99      0.99    256680\n",
      "           1       0.07      0.68      0.13       311\n",
      "\n",
      "    accuracy                           0.99    256991\n",
      "   macro avg       0.54      0.83      0.56    256991\n",
      "weighted avg       1.00      0.99      0.99    256991\n",
      "\n"
     ]
    }
   ],
   "source": [
    "print(classification_report(test_y,pred4_bl))"
   ]
  },
  {
   "cell_type": "code",
   "execution_count": 190,
   "metadata": {},
   "outputs": [
    {
     "name": "stdout",
     "output_type": "stream",
     "text": [
      "98.95784634564438\n",
      "67.84565916398714\n",
      "99.9606461895673\n",
      "7.311157311157311\n",
      "98.92019564887487\n"
     ]
    }
   ],
   "source": [
    "sensitivity=(tab[0,0])/(tab[0,0]+tab[0,1])*100\n",
    "specificity=(tab[1,1])/(tab[1,1]+tab[1,0])*100\n",
    "precision_0=(tab[0,0])/(tab[0,0]+tab[1,0])*100\n",
    "precision_1=(tab[1,1])/(tab[1,1]+tab[0,1])*100\n",
    "accuracy=(tab.diagonal().sum())/(tab.sum())*100\n",
    "print(sensitivity)\n",
    "print(specificity)\n",
    "print(precision_0)\n",
    "print(precision_1)\n",
    "print(accuracy)"
   ]
  },
  {
   "cell_type": "code",
   "execution_count": 191,
   "metadata": {},
   "outputs": [],
   "source": [
    "pred4_prob_rf_bl=rf.predict_proba(top_test_x)"
   ]
  },
  {
   "cell_type": "code",
   "execution_count": 192,
   "metadata": {},
   "outputs": [],
   "source": [
    "pred4_prob_rf_bl=pd.DataFrame(pred4_prob_rf_bl)"
   ]
  },
  {
   "cell_type": "code",
   "execution_count": 193,
   "metadata": {
    "scrolled": true
   },
   "outputs": [
    {
     "data": {
      "text/plain": [
       "0.8340175275481576"
      ]
     },
     "execution_count": 193,
     "metadata": {},
     "output_type": "execute_result"
    }
   ],
   "source": [
    "roc_auc = roc_auc_score(test_y,pred4_bl)\n",
    "roc_auc\n"
   ]
  },
  {
   "cell_type": "code",
   "execution_count": 194,
   "metadata": {},
   "outputs": [],
   "source": [
    "fpr, tpr, threshold = roc_curve( test_y ,  pred4_bl )\n",
    "\n"
   ]
  },
  {
   "cell_type": "code",
   "execution_count": 195,
   "metadata": {
    "scrolled": true
   },
   "outputs": [
    {
     "data": {
      "text/plain": [
       "(array([0.        , 0.01042154, 1.        ]),\n",
       " array([0.        , 0.67845659, 1.        ]),\n",
       " array([2, 1, 0], dtype=int64))"
      ]
     },
     "execution_count": 195,
     "metadata": {},
     "output_type": "execute_result"
    }
   ],
   "source": [
    "fpr, tpr, threshold"
   ]
  },
  {
   "cell_type": "code",
   "execution_count": 196,
   "metadata": {
    "scrolled": true
   },
   "outputs": [
    {
     "data": {
      "text/plain": [
       "Text(0.1, 0.6, 'AUC is 0.8340175275481576')"
      ]
     },
     "execution_count": 196,
     "metadata": {},
     "output_type": "execute_result"
    },
    {
     "data": {
      "image/png": "[encoded data removed]",
      "text/plain": [
       "<Figure size 360x288 with 1 Axes>"
      ]
     },
     "metadata": {
      "needs_background": "light"
     },
     "output_type": "display_data"
    }
   ],
   "source": [
    "plt.figure(figsize = (5,4))\n",
    "plt.plot(fpr,tpr, color = \"r\")\n",
    "plt.xlabel(\"Fpr-Values\", size = 15)\n",
    "plt.ylabel(\"Tpr-Values\", size = 15 )\n",
    "plt.grid()\n",
    "plt.title(\"AUROC on Bank_Lend\", size = 15)\n",
    "plt.text(x= 0.1, y = 0.6 , s = \"AUC is {}\".format(roc_auc), size = 15)\n"
   ]
  },
  {
   "cell_type": "markdown",
   "metadata": {},
   "source": [
    "### CROSS VALIDATION"
   ]
  },
  {
   "cell_type": "code",
   "execution_count": null,
   "metadata": {},
   "outputs": [],
   "source": [
    "from sklearn.model_selection import cross_val_score\n"
   ]
  },
  {
   "cell_type": "code",
   "execution_count": null,
   "metadata": {},
   "outputs": [],
   "source": [
    "score_rf=cross_val_score(rf,top_train_x,train_y,scoring=\"accuracy\",cv=10)"
   ]
  },
  {
   "cell_type": "code",
   "execution_count": null,
   "metadata": {
    "scrolled": true
   },
   "outputs": [],
   "source": [
    "print(score_rf.mean())\n",
    "print(score_rf.min())\n",
    "print(score_rf.max())"
   ]
  },
  {
   "cell_type": "code",
   "execution_count": null,
   "metadata": {},
   "outputs": [],
   "source": [
    "score_rf"
   ]
  },
  {
   "cell_type": "code",
   "execution_count": null,
   "metadata": {},
   "outputs": [],
   "source": [
    "score_rf_bl=cross_val_score(rf,train_x_bl,train_y_bl,scoring=\"accuracy\",cv=10)"
   ]
  },
  {
   "cell_type": "code",
   "execution_count": null,
   "metadata": {
    "scrolled": true
   },
   "outputs": [],
   "source": [
    "print(score_rf_bl.mean())\n",
    "print(score_rf_bl.min())\n",
    "print(score_rf_bl.max())"
   ]
  },
  {
   "cell_type": "code",
   "execution_count": null,
   "metadata": {},
   "outputs": [],
   "source": [
    "score_rf_bl"
   ]
  },
  {
   "cell_type": "code",
   "execution_count": null,
   "metadata": {},
   "outputs": [],
   "source": [
    "score_dt=cross_val_score(dt,train_x_bl,train_y_bl,scoring=\"accuracy\",cv=10)"
   ]
  },
  {
   "cell_type": "code",
   "execution_count": null,
   "metadata": {},
   "outputs": [],
   "source": [
    "print(score_dt.mean())\n",
    "print(score_dt.min())\n",
    "print(score_dt.max())"
   ]
  },
  {
   "cell_type": "code",
   "execution_count": null,
   "metadata": {},
   "outputs": [],
   "source": [
    "score_dt"
   ]
  },
  {
   "cell_type": "markdown",
   "metadata": {},
   "source": [
    "### ADA BOOST"
   ]
  },
  {
   "cell_type": "code",
   "execution_count": 153,
   "metadata": {},
   "outputs": [],
   "source": [
    "from sklearn.ensemble import AdaBoostClassifier\n"
   ]
  },
  {
   "cell_type": "code",
   "execution_count": 154,
   "metadata": {},
   "outputs": [],
   "source": [
    "from sklearn.tree import DecisionTreeClassifier\n",
    "dt=DecisionTreeClassifier()"
   ]
  },
  {
   "cell_type": "code",
   "execution_count": 155,
   "metadata": {},
   "outputs": [],
   "source": [
    "abc=AdaBoostClassifier()"
   ]
  },
  {
   "cell_type": "code",
   "execution_count": 156,
   "metadata": {},
   "outputs": [
    {
     "data": {
      "text/plain": [
       "AdaBoostClassifier()"
      ]
     },
     "execution_count": 156,
     "metadata": {},
     "output_type": "execute_result"
    }
   ],
   "source": [
    "abc.fit(train_x_bl,train_y_bl)"
   ]
  },
  {
   "cell_type": "code",
   "execution_count": 157,
   "metadata": {},
   "outputs": [],
   "source": [
    "pred_abc=abc.predict(top_test_x)"
   ]
  },
  {
   "cell_type": "code",
   "execution_count": 158,
   "metadata": {},
   "outputs": [
    {
     "name": "stdout",
     "output_type": "stream",
     "text": [
      "[[256093    587]\n",
      " [   112    199]]\n"
     ]
    }
   ],
   "source": [
    "tab=confusion_matrix(test_y,pred_abc)\n",
    "print(tab)"
   ]
  },
  {
   "cell_type": "code",
   "execution_count": 159,
   "metadata": {
    "scrolled": false
   },
   "outputs": [
    {
     "data": {
      "text/plain": [
       "<matplotlib.axes._subplots.AxesSubplot at 0xcc97ec5288>"
      ]
     },
     "execution_count": 159,
     "metadata": {},
     "output_type": "execute_result"
    },
    {
     "data": {
      "image/png": "[encoded data removed]",
      "text/plain": [
       "<Figure size 432x288 with 2 Axes>"
      ]
     },
     "metadata": {
      "needs_background": "light"
     },
     "output_type": "display_data"
    }
   ],
   "source": [
    "sns.heatmap(tab,annot=True,fmt='d',cmap=\"Blues\")"
   ]
  },
  {
   "cell_type": "code",
   "execution_count": 160,
   "metadata": {
    "scrolled": true
   },
   "outputs": [
    {
     "name": "stdout",
     "output_type": "stream",
     "text": [
      "              precision    recall  f1-score   support\n",
      "\n",
      "           0       1.00      1.00      1.00    256680\n",
      "           1       0.25      0.64      0.36       311\n",
      "\n",
      "    accuracy                           1.00    256991\n",
      "   macro avg       0.63      0.82      0.68    256991\n",
      "weighted avg       1.00      1.00      1.00    256991\n",
      "\n"
     ]
    }
   ],
   "source": [
    "print(classification_report(test_y,pred_abc))"
   ]
  },
  {
   "cell_type": "code",
   "execution_count": 161,
   "metadata": {},
   "outputs": [
    {
     "name": "stdout",
     "output_type": "stream",
     "text": [
      "99.77131058126851\n",
      "63.9871382636656\n",
      "99.95628500614741\n",
      "25.318066157760814\n",
      "99.728006039122\n"
     ]
    }
   ],
   "source": [
    "sensitivity=(tab[0,0])/(tab[0,0]+tab[0,1])*100\n",
    "specificity=(tab[1,1])/(tab[1,1]+tab[1,0])*100\n",
    "precision_0=(tab[0,0])/(tab[0,0]+tab[1,0])*100\n",
    "precision_1=(tab[1,1])/(tab[1,1]+tab[0,1])*100\n",
    "accuracy=(tab.diagonal().sum())/(tab.sum())*100\n",
    "print(sensitivity)\n",
    "print(specificity)\n",
    "print(precision_0)\n",
    "print(precision_1)\n",
    "print(accuracy)"
   ]
  },
  {
   "cell_type": "code",
   "execution_count": 162,
   "metadata": {},
   "outputs": [],
   "source": [
    "pred_prob_abc=abc.predict_proba(top_test_x)"
   ]
  },
  {
   "cell_type": "code",
   "execution_count": 163,
   "metadata": {},
   "outputs": [],
   "source": [
    "pred_prob_abc=pd.DataFrame(pred_prob_abc)"
   ]
  },
  {
   "cell_type": "code",
   "execution_count": 164,
   "metadata": {
    "scrolled": true
   },
   "outputs": [
    {
     "data": {
      "text/plain": [
       "0.8187922442246706"
      ]
     },
     "execution_count": 164,
     "metadata": {},
     "output_type": "execute_result"
    }
   ],
   "source": [
    "roc_auc = roc_auc_score(test_y,pred_abc)\n",
    "roc_auc\n"
   ]
  },
  {
   "cell_type": "code",
   "execution_count": 165,
   "metadata": {},
   "outputs": [],
   "source": [
    "fpr, tpr, threshold = roc_curve( test_y ,  pred_prob_abc.iloc[:,1] )\n",
    "\n"
   ]
  },
  {
   "cell_type": "code",
   "execution_count": 166,
   "metadata": {
    "scrolled": true
   },
   "outputs": [
    {
     "data": {
      "text/plain": [
       "(array([0.        , 0.        , 0.        , ..., 0.99977793, 0.99978573,\n",
       "        1.        ]),\n",
       " array([0.        , 0.00321543, 0.0096463 , ..., 1.        , 1.        ,\n",
       "        1.        ]),\n",
       " array([1.67511792, 0.67511792, 0.53241621, ..., 0.43865486, 0.43860481,\n",
       "        0.4254277 ]))"
      ]
     },
     "execution_count": 166,
     "metadata": {},
     "output_type": "execute_result"
    }
   ],
   "source": [
    "fpr, tpr, threshold"
   ]
  },
  {
   "cell_type": "code",
   "execution_count": 167,
   "metadata": {
    "scrolled": true
   },
   "outputs": [
    {
     "data": {
      "text/plain": [
       "Text(0, 0.6, 'AUC is 0.8187922442246706')"
      ]
     },
     "execution_count": 167,
     "metadata": {},
     "output_type": "execute_result"
    },
    {
     "data": {
      "image/png": "[encoded data removed]",
      "text/plain": [
       "<Figure size 432x288 with 1 Axes>"
      ]
     },
     "metadata": {
      "needs_background": "light"
     },
     "output_type": "display_data"
    }
   ],
   "source": [
    "plt.figure(figsize = (6,4))\n",
    "plt.plot(fpr,tpr, color = \"r\")\n",
    "plt.xlabel(\"Fpr-Values\", size = 15)\n",
    "plt.ylabel(\"Tpr-Values\", size = 15 )\n",
    "plt.grid()\n",
    "plt.title(\"AUROC on Bank_Lend\", size = 15)\n",
    "plt.text(x= 0, y = 0.6 , s = \"AUC is {}\".format(roc_auc), size = 15)\n"
   ]
  },
  {
   "cell_type": "markdown",
   "metadata": {},
   "source": [
    "#### LOGISTIC REGRESSION"
   ]
  },
  {
   "cell_type": "code",
   "execution_count": 110,
   "metadata": {},
   "outputs": [],
   "source": [
    "from sklearn.linear_model import LogisticRegression"
   ]
  },
  {
   "cell_type": "code",
   "execution_count": 111,
   "metadata": {},
   "outputs": [],
   "source": [
    "lm=LogisticRegression(penalty='l1',solver='liblinear',\n",
    "    C=1.0,\n",
    "    random_state=0,\n",
    "    max_iter=150,\n",
    "    multi_class='auto',\n",
    "     )"
   ]
  },
  {
   "cell_type": "code",
   "execution_count": 112,
   "metadata": {},
   "outputs": [
    {
     "name": "stderr",
     "output_type": "stream",
     "text": [
      "C:\\Users\\Sai\\anaconda3\\lib\\site-packages\\sklearn\\svm\\_base.py:986: ConvergenceWarning: Liblinear failed to converge, increase the number of iterations.\n",
      "  \"the number of iterations.\", ConvergenceWarning)\n"
     ]
    },
    {
     "data": {
      "text/plain": [
       "LogisticRegression(max_iter=150, penalty='l1', random_state=0,\n",
       "                   solver='liblinear')"
      ]
     },
     "execution_count": 112,
     "metadata": {},
     "output_type": "execute_result"
    }
   ],
   "source": [
    "lm.fit(top_train_x,train_y)"
   ]
  },
  {
   "cell_type": "code",
   "execution_count": 113,
   "metadata": {},
   "outputs": [],
   "source": [
    "pred_lm=lm.predict(top_test_x)"
   ]
  },
  {
   "cell_type": "code",
   "execution_count": 114,
   "metadata": {},
   "outputs": [],
   "source": [
    "from sklearn.metrics import confusion_matrix,classification_report,accuracy_score,roc_auc_score,roc_curve"
   ]
  },
  {
   "cell_type": "code",
   "execution_count": 115,
   "metadata": {
    "scrolled": true
   },
   "outputs": [
    {
     "name": "stdout",
     "output_type": "stream",
     "text": [
      "[[256529    151]\n",
      " [   214     97]]\n"
     ]
    }
   ],
   "source": [
    "tab=confusion_matrix(test_y,pred_lm)\n",
    "print(tab)"
   ]
  },
  {
   "cell_type": "code",
   "execution_count": 116,
   "metadata": {
    "scrolled": false
   },
   "outputs": [
    {
     "data": {
      "text/plain": [
       "<matplotlib.axes._subplots.AxesSubplot at 0xcc89250788>"
      ]
     },
     "execution_count": 116,
     "metadata": {},
     "output_type": "execute_result"
    },
    {
     "data": {
      "image/png": "[encoded data removed]",
      "text/plain": [
       "<Figure size 432x288 with 2 Axes>"
      ]
     },
     "metadata": {
      "needs_background": "light"
     },
     "output_type": "display_data"
    }
   ],
   "source": [
    "sns.heatmap(tab,annot=True,fmt='d',cmap=\"Blues\")"
   ]
  },
  {
   "cell_type": "code",
   "execution_count": 117,
   "metadata": {
    "scrolled": true
   },
   "outputs": [
    {
     "name": "stdout",
     "output_type": "stream",
     "text": [
      "              precision    recall  f1-score   support\n",
      "\n",
      "           0       1.00      1.00      1.00    256680\n",
      "           1       0.39      0.31      0.35       311\n",
      "\n",
      "    accuracy                           1.00    256991\n",
      "   macro avg       0.70      0.66      0.67    256991\n",
      "weighted avg       1.00      1.00      1.00    256991\n",
      "\n"
     ]
    }
   ],
   "source": [
    "print(classification_report(test_y,pred_lm))"
   ]
  },
  {
   "cell_type": "code",
   "execution_count": 118,
   "metadata": {},
   "outputs": [
    {
     "name": "stdout",
     "output_type": "stream",
     "text": [
      "99.94117188717469\n",
      "31.189710610932476\n",
      "99.9166481656754\n",
      "39.11290322580645\n",
      "99.8579716799421\n"
     ]
    }
   ],
   "source": [
    "sensitivity=(tab[0,0])/(tab[0,0]+tab[0,1])*100\n",
    "specificity=(tab[1,1])/(tab[1,1]+tab[1,0])*100\n",
    "precision_0=(tab[0,0])/(tab[0,0]+tab[1,0])*100\n",
    "precision_1=(tab[1,1])/(tab[1,1]+tab[0,1])*100\n",
    "accuracy=(tab.diagonal().sum())/(tab.sum())*100\n",
    "print(sensitivity)\n",
    "print(specificity)\n",
    "print(precision_0)\n",
    "print(precision_1)\n",
    "print(accuracy)"
   ]
  },
  {
   "cell_type": "code",
   "execution_count": 119,
   "metadata": {},
   "outputs": [],
   "source": [
    "pred_prob_lm=lm.predict_proba(top_test_x)"
   ]
  },
  {
   "cell_type": "code",
   "execution_count": 120,
   "metadata": {},
   "outputs": [],
   "source": [
    "pred_prob_lm=pd.DataFrame(pred_prob_lm)"
   ]
  },
  {
   "cell_type": "code",
   "execution_count": 121,
   "metadata": {
    "scrolled": true
   },
   "outputs": [
    {
     "data": {
      "text/plain": [
       "0.6556544124905359"
      ]
     },
     "execution_count": 121,
     "metadata": {},
     "output_type": "execute_result"
    }
   ],
   "source": [
    "roc_auc = roc_auc_score(test_y,pred_lm)\n",
    "roc_auc\n"
   ]
  },
  {
   "cell_type": "code",
   "execution_count": 122,
   "metadata": {},
   "outputs": [],
   "source": [
    "fpr, tpr, threshold = roc_curve( test_y ,  pred_prob_lm.iloc[:,1] )\n",
    "\n"
   ]
  },
  {
   "cell_type": "code",
   "execution_count": 123,
   "metadata": {
    "scrolled": true
   },
   "outputs": [
    {
     "data": {
      "text/plain": [
       "(array([0.00000000e+00, 7.79180302e-06, 7.79180302e-06, 1.16877045e-05,\n",
       "        1.16877045e-05, 1.55836060e-05, 1.55836060e-05, 1.94795076e-05,\n",
       "        1.94795076e-05, 2.72713106e-05, 2.72713106e-05, 5.06467197e-05,\n",
       "        5.06467197e-05, 5.45426212e-05, 5.45426212e-05, 6.23344242e-05,\n",
       "        6.23344242e-05, 6.62303257e-05, 6.62303257e-05, 7.01262272e-05,\n",
       "        7.01262272e-05, 7.40221287e-05, 7.40221287e-05, 8.57098333e-05,\n",
       "        8.57098333e-05, 8.96057348e-05, 8.96057348e-05, 9.35016363e-05,\n",
       "        9.35016363e-05, 1.12981144e-04, 1.12981144e-04, 1.16877045e-04,\n",
       "        1.16877045e-04, 1.28564750e-04, 1.28564750e-04, 1.40252454e-04,\n",
       "        1.40252454e-04, 1.55836060e-04, 1.55836060e-04, 1.71419667e-04,\n",
       "        1.71419667e-04, 1.79211470e-04, 1.79211470e-04, 1.87003273e-04,\n",
       "        1.87003273e-04, 2.02586879e-04, 2.02586879e-04, 2.18170485e-04,\n",
       "        2.18170485e-04, 2.29858189e-04, 2.29858189e-04, 2.33754091e-04,\n",
       "        2.33754091e-04, 2.37649992e-04, 2.37649992e-04, 2.45441795e-04,\n",
       "        2.45441795e-04, 2.53233598e-04, 2.53233598e-04, 2.57129500e-04,\n",
       "        2.57129500e-04, 2.61025401e-04, 2.61025401e-04, 2.68817204e-04,\n",
       "        2.68817204e-04, 2.80504909e-04, 2.80504909e-04, 2.88296712e-04,\n",
       "        2.88296712e-04, 3.03880318e-04, 3.03880318e-04, 3.07776219e-04,\n",
       "        3.07776219e-04, 3.11672121e-04, 3.11672121e-04, 3.46735235e-04,\n",
       "        3.46735235e-04, 3.50631136e-04, 3.50631136e-04, 3.54527038e-04,\n",
       "        3.54527038e-04, 3.62318841e-04, 3.62318841e-04, 3.66214742e-04,\n",
       "        3.66214742e-04, 3.81798348e-04, 3.81798348e-04, 3.93486053e-04,\n",
       "        3.93486053e-04, 4.01277856e-04, 4.01277856e-04, 4.05173757e-04,\n",
       "        4.05173757e-04, 4.20757363e-04, 4.20757363e-04, 4.24653265e-04,\n",
       "        4.24653265e-04, 4.28549166e-04, 4.28549166e-04, 4.40236871e-04,\n",
       "        4.40236871e-04, 4.51924575e-04, 4.51924575e-04, 4.55820477e-04,\n",
       "        4.55820477e-04, 4.63612280e-04, 4.63612280e-04, 4.86987689e-04,\n",
       "        4.86987689e-04, 4.98675393e-04, 4.98675393e-04, 5.06467197e-04,\n",
       "        5.06467197e-04, 5.29842606e-04, 5.29842606e-04, 5.41530310e-04,\n",
       "        5.41530310e-04, 5.72697522e-04, 5.72697522e-04, 5.88281128e-04,\n",
       "        5.88281128e-04, 5.96072931e-04, 5.96072931e-04, 6.27240143e-04,\n",
       "        6.27240143e-04, 6.35031946e-04, 6.35031946e-04, 6.38927848e-04,\n",
       "        6.38927848e-04, 6.42823749e-04, 6.42823749e-04, 6.54511454e-04,\n",
       "        6.54511454e-04, 6.62303257e-04, 6.62303257e-04, 6.77886863e-04,\n",
       "        6.77886863e-04, 6.81782765e-04, 6.81782765e-04, 6.85678666e-04,\n",
       "        6.85678666e-04, 6.89574568e-04, 6.89574568e-04, 6.93470469e-04,\n",
       "        6.93470469e-04, 7.01262272e-04, 7.01262272e-04, 7.09054075e-04,\n",
       "        7.09054075e-04, 7.12949977e-04, 7.12949977e-04, 7.16845878e-04,\n",
       "        7.16845878e-04, 7.48013090e-04, 7.48013090e-04, 7.51908992e-04,\n",
       "        7.51908992e-04, 7.63596696e-04, 7.63596696e-04, 7.67492598e-04,\n",
       "        7.67492598e-04, 7.79180302e-04, 7.79180302e-04, 8.02555711e-04,\n",
       "        8.02555711e-04, 8.06451613e-04, 8.06451613e-04, 8.14243416e-04,\n",
       "        8.14243416e-04, 8.22035219e-04, 8.22035219e-04, 8.37618825e-04,\n",
       "        8.37618825e-04, 8.45410628e-04, 8.45410628e-04, 8.57098333e-04,\n",
       "        8.57098333e-04, 8.68786037e-04, 8.68786037e-04, 8.72681939e-04,\n",
       "        8.72681939e-04, 8.88265545e-04, 8.88265545e-04, 9.03849151e-04,\n",
       "        9.03849151e-04, 9.07745052e-04, 9.07745052e-04, 9.15536855e-04,\n",
       "        9.15536855e-04, 9.19432757e-04, 9.19432757e-04, 9.27224560e-04,\n",
       "        9.27224560e-04, 9.35016363e-04, 9.35016363e-04, 9.50599969e-04,\n",
       "        9.50599969e-04, 9.89558984e-04, 9.89558984e-04, 9.93454885e-04,\n",
       "        9.93454885e-04, 1.01293439e-03, 1.01293439e-03, 1.01683029e-03,\n",
       "        1.01683029e-03, 1.02072620e-03, 1.02072620e-03, 1.03241390e-03,\n",
       "        1.03241390e-03, 1.03630980e-03, 1.03630980e-03, 1.04020570e-03,\n",
       "        1.04020570e-03, 1.06358111e-03, 1.06358111e-03, 1.07137292e-03,\n",
       "        1.07137292e-03, 1.07526882e-03, 1.07526882e-03, 1.08306062e-03,\n",
       "        1.08306062e-03, 1.09085242e-03, 1.09085242e-03, 1.09474832e-03,\n",
       "        1.09474832e-03, 1.10254013e-03, 1.10254013e-03, 1.11812373e-03,\n",
       "        1.11812373e-03, 1.12201964e-03, 1.12201964e-03, 1.13370734e-03,\n",
       "        1.13370734e-03, 1.14929095e-03, 1.14929095e-03, 1.15318685e-03,\n",
       "        1.15318685e-03, 1.18435406e-03, 1.18435406e-03, 1.25058439e-03,\n",
       "        1.25058439e-03, 1.28175160e-03, 1.28175160e-03, 1.28564750e-03,\n",
       "        1.28564750e-03, 1.31291881e-03, 1.31291881e-03, 1.34798192e-03,\n",
       "        1.34798192e-03, 1.35187782e-03, 1.35187782e-03, 1.36746143e-03,\n",
       "        1.36746143e-03, 1.38694094e-03, 1.38694094e-03, 1.39862864e-03,\n",
       "        1.39862864e-03, 1.40252454e-03, 1.40252454e-03, 1.42200405e-03,\n",
       "        1.42200405e-03, 1.44537946e-03, 1.44537946e-03, 1.45317126e-03,\n",
       "        1.45317126e-03, 1.46875487e-03, 1.46875487e-03, 1.48433848e-03,\n",
       "        1.48433848e-03, 1.49213028e-03, 1.49213028e-03, 1.49602618e-03,\n",
       "        1.49602618e-03, 1.50771388e-03, 1.50771388e-03, 1.51550569e-03,\n",
       "        1.51550569e-03, 1.53498520e-03, 1.53498520e-03, 1.54277700e-03,\n",
       "        1.54277700e-03, 1.55836060e-03, 1.55836060e-03, 1.56225651e-03,\n",
       "        1.56225651e-03, 1.57394421e-03, 1.57394421e-03, 1.60900732e-03,\n",
       "        1.60900732e-03, 1.64796634e-03, 1.64796634e-03, 1.76873929e-03,\n",
       "        1.76873929e-03, 1.77653109e-03, 1.77653109e-03, 1.78042699e-03,\n",
       "        1.78042699e-03, 1.78432289e-03, 1.78432289e-03, 1.84665732e-03,\n",
       "        1.84665732e-03, 2.03366059e-03, 2.03366059e-03, 2.08041141e-03,\n",
       "        2.08041141e-03, 2.09599501e-03, 2.09599501e-03, 2.15053763e-03,\n",
       "        2.15053763e-03, 2.18560075e-03, 2.18560075e-03, 2.20118435e-03,\n",
       "        2.20118435e-03, 2.29858189e-03, 2.29858189e-03, 2.42325074e-03,\n",
       "        2.42325074e-03, 2.42714664e-03, 2.42714664e-03, 2.59856631e-03,\n",
       "        2.59856631e-03, 2.68427614e-03, 2.68427614e-03, 3.12061711e-03,\n",
       "        3.12061711e-03, 4.94779492e-03, 4.94779492e-03, 5.37634409e-03,\n",
       "        5.37634409e-03, 6.73601371e-03, 6.73601371e-03, 8.20866448e-03,\n",
       "        8.20866448e-03, 1.90704379e-02, 1.90704379e-02, 1.93665264e-02,\n",
       "        1.93665264e-02, 3.01425900e-02, 3.01425900e-02, 3.81603553e-02,\n",
       "        3.81603553e-02, 4.09887798e-02, 4.09887798e-02, 4.76819386e-02,\n",
       "        4.76819386e-02, 6.47420913e-02, 6.47420913e-02, 6.57511298e-02,\n",
       "        6.57511298e-02, 7.16339411e-02, 7.16339411e-02, 8.60799439e-02,\n",
       "        8.60799439e-02, 8.74240299e-02, 8.74240299e-02, 1.12229235e-01,\n",
       "        1.12229235e-01, 1.16799127e-01, 1.16799127e-01, 1.17196509e-01,\n",
       "        1.17196509e-01, 1.78615397e-01, 1.78615397e-01, 1.92812062e-01,\n",
       "        1.92812062e-01, 2.11944834e-01, 2.11944834e-01, 2.22557270e-01,\n",
       "        2.22557270e-01, 2.72553374e-01, 2.72553374e-01, 2.96567711e-01,\n",
       "        2.96567711e-01, 2.99096151e-01, 2.99096151e-01, 3.04156927e-01,\n",
       "        3.04156927e-01, 3.30360760e-01, 3.30360760e-01, 3.44974287e-01,\n",
       "        3.44974287e-01, 3.66993922e-01, 3.66993922e-01, 3.67180926e-01,\n",
       "        3.67180926e-01, 3.76558361e-01, 3.76558361e-01, 3.89909615e-01,\n",
       "        3.89909615e-01, 4.05539972e-01, 4.05539972e-01, 4.86333177e-01,\n",
       "        4.86333177e-01, 5.16167991e-01, 5.16167991e-01, 5.41619916e-01,\n",
       "        5.41619916e-01, 5.47997507e-01, 5.47997507e-01, 5.61259155e-01,\n",
       "        5.61259155e-01, 5.68326321e-01, 5.68326321e-01, 5.69935328e-01,\n",
       "        5.69935328e-01, 5.73239053e-01, 5.73239053e-01, 5.77224560e-01,\n",
       "        5.77224560e-01, 5.88760324e-01, 5.88760324e-01, 5.95204145e-01,\n",
       "        5.95204145e-01, 6.12918809e-01, 6.12918809e-01, 6.31817828e-01,\n",
       "        6.31817828e-01, 6.45920991e-01, 6.45920991e-01, 6.58025557e-01,\n",
       "        6.58025557e-01, 6.76990806e-01, 6.76990806e-01, 6.90836840e-01,\n",
       "        6.90836840e-01, 6.94888577e-01, 6.94888577e-01, 7.07078853e-01,\n",
       "        7.07078853e-01, 7.07893096e-01, 7.07893096e-01, 7.19237962e-01,\n",
       "        7.19237962e-01, 7.26527193e-01, 7.26527193e-01, 7.51122020e-01,\n",
       "        7.51122020e-01, 7.59891694e-01, 7.59891694e-01, 7.91000468e-01,\n",
       "        7.91000468e-01, 7.99949353e-01, 7.99949353e-01, 8.32655446e-01,\n",
       "        8.32655446e-01, 8.39091476e-01, 8.39091476e-01, 8.47366371e-01,\n",
       "        8.47366371e-01, 8.50868786e-01, 8.50868786e-01, 8.74887019e-01,\n",
       "        8.74887019e-01, 8.86064360e-01, 8.86064360e-01, 8.93560075e-01,\n",
       "        8.93560075e-01, 9.45200249e-01, 9.45200249e-01, 9.65381019e-01,\n",
       "        9.65381019e-01, 9.99812997e-01, 9.99812997e-01, 1.00000000e+00]),\n",
       " array([0.        , 0.00321543, 0.02250804, 0.02250804, 0.03215434,\n",
       "        0.03215434, 0.04180064, 0.04180064, 0.04501608, 0.04501608,\n",
       "        0.04823151, 0.04823151, 0.05466238, 0.05466238, 0.06109325,\n",
       "        0.06109325, 0.07073955, 0.07073955, 0.07395498, 0.07395498,\n",
       "        0.08038585, 0.08038585, 0.08360129, 0.08360129, 0.08681672,\n",
       "        0.08681672, 0.09324759, 0.09324759, 0.09646302, 0.09646302,\n",
       "        0.10289389, 0.10289389, 0.10610932, 0.10610932, 0.11575563,\n",
       "        0.11575563, 0.1221865 , 0.1221865 , 0.12540193, 0.12540193,\n",
       "        0.12861736, 0.12861736, 0.1318328 , 0.1318328 , 0.13504823,\n",
       "        0.13504823, 0.13826367, 0.13826367, 0.1414791 , 0.1414791 ,\n",
       "        0.14790997, 0.14790997, 0.1607717 , 0.1607717 , 0.16398714,\n",
       "        0.16398714, 0.16720257, 0.16720257, 0.18006431, 0.18006431,\n",
       "        0.19292605, 0.19292605, 0.19614148, 0.19614148, 0.19935691,\n",
       "        0.19935691, 0.20257235, 0.20257235, 0.21221865, 0.21221865,\n",
       "        0.21543408, 0.21543408, 0.21864952, 0.21864952, 0.22508039,\n",
       "        0.22508039, 0.22829582, 0.22829582, 0.23151125, 0.23151125,\n",
       "        0.23794212, 0.23794212, 0.24758842, 0.24758842, 0.25080386,\n",
       "        0.25080386, 0.25401929, 0.25401929, 0.25723473, 0.25723473,\n",
       "        0.26045016, 0.26045016, 0.26366559, 0.26366559, 0.26688103,\n",
       "        0.26688103, 0.27009646, 0.27009646, 0.2733119 , 0.2733119 ,\n",
       "        0.27652733, 0.27652733, 0.27974277, 0.27974277, 0.2829582 ,\n",
       "        0.2829582 , 0.28617363, 0.28617363, 0.28938907, 0.28938907,\n",
       "        0.2926045 , 0.2926045 , 0.29581994, 0.29581994, 0.29903537,\n",
       "        0.29903537, 0.30546624, 0.30546624, 0.31189711, 0.31189711,\n",
       "        0.31511254, 0.31511254, 0.31832797, 0.31832797, 0.32154341,\n",
       "        0.32154341, 0.32475884, 0.32475884, 0.32797428, 0.32797428,\n",
       "        0.33440514, 0.33440514, 0.33762058, 0.33762058, 0.34726688,\n",
       "        0.34726688, 0.35048232, 0.35048232, 0.36334405, 0.36334405,\n",
       "        0.36977492, 0.36977492, 0.38585209, 0.38585209, 0.38906752,\n",
       "        0.38906752, 0.39228296, 0.39228296, 0.39871383, 0.39871383,\n",
       "        0.40836013, 0.40836013, 0.41157556, 0.41157556, 0.414791  ,\n",
       "        0.414791  , 0.42122186, 0.42122186, 0.43086817, 0.43086817,\n",
       "        0.43729904, 0.43729904, 0.44051447, 0.44051447, 0.45659164,\n",
       "        0.45659164, 0.46302251, 0.46302251, 0.46623794, 0.46623794,\n",
       "        0.47266881, 0.47266881, 0.47588424, 0.47588424, 0.48231511,\n",
       "        0.48231511, 0.48553055, 0.48553055, 0.49839228, 0.49839228,\n",
       "        0.50482315, 0.50482315, 0.51125402, 0.51125402, 0.51446945,\n",
       "        0.51446945, 0.52411576, 0.52411576, 0.53054662, 0.53054662,\n",
       "        0.53376206, 0.53376206, 0.53697749, 0.53697749, 0.54019293,\n",
       "        0.54019293, 0.54340836, 0.54340836, 0.54662379, 0.54662379,\n",
       "        0.54983923, 0.54983923, 0.55305466, 0.55305466, 0.5562701 ,\n",
       "        0.5562701 , 0.55948553, 0.55948553, 0.56270096, 0.56270096,\n",
       "        0.5659164 , 0.5659164 , 0.56913183, 0.56913183, 0.57234727,\n",
       "        0.57234727, 0.5755627 , 0.5755627 , 0.57877814, 0.57877814,\n",
       "        0.58842444, 0.58842444, 0.59485531, 0.59485531, 0.60450161,\n",
       "        0.60450161, 0.60771704, 0.60771704, 0.61093248, 0.61093248,\n",
       "        0.61414791, 0.61414791, 0.61736334, 0.61736334, 0.62379421,\n",
       "        0.62379421, 0.62700965, 0.62700965, 0.63022508, 0.63022508,\n",
       "        0.63344051, 0.63344051, 0.63665595, 0.63665595, 0.63987138,\n",
       "        0.63987138, 0.64308682, 0.64308682, 0.64630225, 0.64630225,\n",
       "        0.65273312, 0.65273312, 0.65594855, 0.65594855, 0.65916399,\n",
       "        0.65916399, 0.66559486, 0.66559486, 0.66881029, 0.66881029,\n",
       "        0.67202572, 0.67202572, 0.67524116, 0.67524116, 0.67845659,\n",
       "        0.67845659, 0.68167203, 0.68167203, 0.68488746, 0.68488746,\n",
       "        0.68810289, 0.68810289, 0.69131833, 0.69131833, 0.69453376,\n",
       "        0.69453376, 0.6977492 , 0.6977492 , 0.70096463, 0.70096463,\n",
       "        0.70418006, 0.70418006, 0.7073955 , 0.7073955 , 0.71061093,\n",
       "        0.71061093, 0.71382637, 0.71382637, 0.7170418 , 0.7170418 ,\n",
       "        0.72025723, 0.72025723, 0.72347267, 0.72347267, 0.72990354,\n",
       "        0.72990354, 0.73311897, 0.73311897, 0.73633441, 0.73633441,\n",
       "        0.73954984, 0.73954984, 0.74276527, 0.74276527, 0.74598071,\n",
       "        0.74598071, 0.74919614, 0.74919614, 0.75241158, 0.75241158,\n",
       "        0.75562701, 0.75562701, 0.75884244, 0.75884244, 0.76205788,\n",
       "        0.76205788, 0.76527331, 0.76527331, 0.76848875, 0.76848875,\n",
       "        0.77170418, 0.77170418, 0.77491961, 0.77491961, 0.77813505,\n",
       "        0.77813505, 0.78135048, 0.78135048, 0.78456592, 0.78456592,\n",
       "        0.78778135, 0.78778135, 0.79099678, 0.79099678, 0.79421222,\n",
       "        0.79421222, 0.79742765, 0.79742765, 0.80064309, 0.80064309,\n",
       "        0.80385852, 0.80385852, 0.80707395, 0.80707395, 0.81028939,\n",
       "        0.81028939, 0.81350482, 0.81350482, 0.81672026, 0.81672026,\n",
       "        0.81993569, 0.81993569, 0.82315113, 0.82315113, 0.82636656,\n",
       "        0.82636656, 0.82958199, 0.82958199, 0.83279743, 0.83279743,\n",
       "        0.83601286, 0.83601286, 0.8392283 , 0.8392283 , 0.84244373,\n",
       "        0.84244373, 0.84565916, 0.84565916, 0.8488746 , 0.8488746 ,\n",
       "        0.85209003, 0.85209003, 0.85530547, 0.85530547, 0.8585209 ,\n",
       "        0.8585209 , 0.86173633, 0.86173633, 0.86495177, 0.86495177,\n",
       "        0.8681672 , 0.8681672 , 0.87138264, 0.87138264, 0.87459807,\n",
       "        0.87459807, 0.8778135 , 0.8778135 , 0.88102894, 0.88102894,\n",
       "        0.88424437, 0.88424437, 0.88745981, 0.88745981, 0.89067524,\n",
       "        0.89067524, 0.89389068, 0.89389068, 0.89710611, 0.89710611,\n",
       "        0.90032154, 0.90032154, 0.90353698, 0.90353698, 0.90675241,\n",
       "        0.90675241, 0.90996785, 0.90996785, 0.91318328, 0.91318328,\n",
       "        0.91639871, 0.91639871, 0.91961415, 0.91961415, 0.92282958,\n",
       "        0.92282958, 0.92604502, 0.92604502, 0.92926045, 0.92926045,\n",
       "        0.93247588, 0.93247588, 0.93569132, 0.93569132, 0.93890675,\n",
       "        0.93890675, 0.94212219, 0.94212219, 0.94533762, 0.94533762,\n",
       "        0.94855305, 0.94855305, 0.95176849, 0.95176849, 0.95498392,\n",
       "        0.95498392, 0.95819936, 0.95819936, 0.96141479, 0.96141479,\n",
       "        0.96463023, 0.96463023, 0.96784566, 0.96784566, 0.97106109,\n",
       "        0.97106109, 0.97427653, 0.97427653, 0.97749196, 0.97749196,\n",
       "        0.9807074 , 0.9807074 , 0.98392283, 0.98392283, 0.98713826,\n",
       "        0.98713826, 0.9903537 , 0.9903537 , 0.99356913, 0.99356913,\n",
       "        0.99678457, 0.99678457, 1.        , 1.        ]),\n",
       " array([2.00000000e+00, 1.00000000e+00, 9.70106731e-01, 9.68428537e-01,\n",
       "        9.62527402e-01, 9.60909505e-01, 9.46221079e-01, 9.42940143e-01,\n",
       "        9.36562953e-01, 9.34149521e-01, 9.32455985e-01, 9.26377384e-01,\n",
       "        9.25711879e-01, 9.18485566e-01, 9.13485066e-01, 9.11276695e-01,\n",
       "        9.08256979e-01, 9.06731761e-01, 9.06296427e-01, 9.03022722e-01,\n",
       "        9.01456936e-01, 9.00934491e-01, 9.00648680e-01, 8.96630662e-01,\n",
       "        8.96551428e-01, 8.96493962e-01, 8.94182805e-01, 8.91312466e-01,\n",
       "        8.90555505e-01, 8.84769318e-01, 8.81647008e-01, 8.81416611e-01,\n",
       "        8.80983829e-01, 8.76506088e-01, 8.71496200e-01, 8.64301371e-01,\n",
       "        8.63039437e-01, 8.55428969e-01, 8.55364351e-01, 8.50004139e-01,\n",
       "        8.48863643e-01, 8.42837225e-01, 8.41446865e-01, 8.39180672e-01,\n",
       "        8.37366319e-01, 8.34834088e-01, 8.34078709e-01, 8.26919480e-01,\n",
       "        8.22144073e-01, 8.19883639e-01, 8.17137368e-01, 8.16549192e-01,\n",
       "        8.07809460e-01, 8.07760843e-01, 8.06445685e-01, 8.01511574e-01,\n",
       "        8.00600163e-01, 7.95514444e-01, 7.88918644e-01, 7.88569971e-01,\n",
       "        7.79877754e-01, 7.79768199e-01, 7.77852779e-01, 7.73131802e-01,\n",
       "        7.69548380e-01, 7.63729028e-01, 7.61284486e-01, 7.58831079e-01,\n",
       "        7.53944005e-01, 7.46937800e-01, 7.46058125e-01, 7.45592254e-01,\n",
       "        7.42426074e-01, 7.39107576e-01, 7.29679903e-01, 7.13682840e-01,\n",
       "        7.12685587e-01, 7.09810183e-01, 7.06561743e-01, 7.03786401e-01,\n",
       "        6.95728182e-01, 6.92401145e-01, 6.83845709e-01, 6.82623615e-01,\n",
       "        6.72831116e-01, 6.69454854e-01, 6.65146809e-01, 6.64390960e-01,\n",
       "        6.63860474e-01, 6.62506139e-01, 6.58372544e-01, 6.57057343e-01,\n",
       "        6.54786506e-01, 6.49936244e-01, 6.49811621e-01, 6.48353148e-01,\n",
       "        6.45708434e-01, 6.40697967e-01, 6.39028290e-01, 6.34201838e-01,\n",
       "        6.28719776e-01, 6.27953267e-01, 6.19172553e-01, 6.13683806e-01,\n",
       "        6.06714267e-01, 6.00141803e-01, 5.98638871e-01, 5.84814774e-01,\n",
       "        5.83453659e-01, 5.78011257e-01, 5.77823100e-01, 5.71787726e-01,\n",
       "        5.67858398e-01, 5.54025019e-01, 5.51740812e-01, 5.45116781e-01,\n",
       "        5.43934535e-01, 5.28393735e-01, 5.25649800e-01, 5.20603576e-01,\n",
       "        4.99836803e-01, 4.96584850e-01, 4.95802253e-01, 4.85305778e-01,\n",
       "        4.84042628e-01, 4.80727122e-01, 4.78728090e-01, 4.73266876e-01,\n",
       "        4.71897187e-01, 4.68020972e-01, 4.66167413e-01, 4.62217480e-01,\n",
       "        4.55892014e-01, 4.48923484e-01, 4.43348208e-01, 4.37312687e-01,\n",
       "        4.35512593e-01, 4.35281227e-01, 4.25913486e-01, 4.24188100e-01,\n",
       "        4.23551962e-01, 4.22978285e-01, 4.20601171e-01, 4.19489029e-01,\n",
       "        4.18599341e-01, 4.14611386e-01, 4.14452483e-01, 4.11599209e-01,\n",
       "        4.06124923e-01, 4.05803811e-01, 4.00259754e-01, 4.00061085e-01,\n",
       "        3.99862835e-01, 3.91185466e-01, 3.90850987e-01, 3.89421062e-01,\n",
       "        3.86457327e-01, 3.81059303e-01, 3.79527106e-01, 3.79456523e-01,\n",
       "        3.76748425e-01, 3.71103228e-01, 3.70252085e-01, 3.64679726e-01,\n",
       "        3.57424012e-01, 3.57097848e-01, 3.56719107e-01, 3.55072814e-01,\n",
       "        3.54728512e-01, 3.52151010e-01, 3.50196992e-01, 3.46692169e-01,\n",
       "        3.44056640e-01, 3.42281600e-01, 3.40837540e-01, 3.38185357e-01,\n",
       "        3.37706481e-01, 3.32321507e-01, 3.27485186e-01, 3.27350668e-01,\n",
       "        3.24316477e-01, 3.21614271e-01, 3.18476261e-01, 3.13051066e-01,\n",
       "        3.10594427e-01, 3.08185459e-01, 3.03972298e-01, 3.01211810e-01,\n",
       "        3.00694927e-01, 2.98457118e-01, 2.98161062e-01, 2.97141720e-01,\n",
       "        2.96437408e-01, 2.93473280e-01, 2.93255761e-01, 2.88864349e-01,\n",
       "        2.88413876e-01, 2.82932644e-01, 2.82521637e-01, 2.82336706e-01,\n",
       "        2.81518905e-01, 2.78505797e-01, 2.78049182e-01, 2.78016240e-01,\n",
       "        2.77982705e-01, 2.76638792e-01, 2.76243386e-01, 2.75759760e-01,\n",
       "        2.75235957e-01, 2.74827128e-01, 2.74614866e-01, 2.74496785e-01,\n",
       "        2.73599573e-01, 2.66136075e-01, 2.64810574e-01, 2.64770721e-01,\n",
       "        2.64443024e-01, 2.63934693e-01, 2.63581962e-01, 2.62343181e-01,\n",
       "        2.61734348e-01, 2.60691965e-01, 2.59971540e-01, 2.59343927e-01,\n",
       "        2.57769409e-01, 2.56136035e-01, 2.55813093e-01, 2.54761359e-01,\n",
       "        2.54531018e-01, 2.51865137e-01, 2.51358942e-01, 2.49840849e-01,\n",
       "        2.49069909e-01, 2.45955371e-01, 2.45586758e-01, 2.45412937e-01,\n",
       "        2.44719617e-01, 2.40028032e-01, 2.39837390e-01, 2.29568635e-01,\n",
       "        2.29266106e-01, 2.25953299e-01, 2.25908873e-01, 2.25875041e-01,\n",
       "        2.25154558e-01, 2.23475148e-01, 2.22200312e-01, 2.17904885e-01,\n",
       "        2.17796606e-01, 2.17178785e-01, 2.15705579e-01, 2.13681378e-01,\n",
       "        2.13465357e-01, 2.11640100e-01, 2.11512403e-01, 2.10875614e-01,\n",
       "        2.10318810e-01, 2.10262544e-01, 2.09682336e-01, 2.06745952e-01,\n",
       "        2.06250363e-01, 2.04874985e-01, 2.04735589e-01, 2.03794769e-01,\n",
       "        2.03597601e-01, 2.02554719e-01, 2.02546943e-01, 2.01309822e-01,\n",
       "        2.01279701e-01, 2.00403495e-01, 2.00325237e-01, 2.00199175e-01,\n",
       "        2.00038296e-01, 1.99366631e-01, 1.99201449e-01, 1.98609322e-01,\n",
       "        1.98418915e-01, 1.96685031e-01, 1.96604039e-01, 1.95906066e-01,\n",
       "        1.95610978e-01, 1.94681140e-01, 1.94155433e-01, 1.93476198e-01,\n",
       "        1.93386639e-01, 1.93027417e-01, 1.92557543e-01, 1.89980217e-01,\n",
       "        1.88656856e-01, 1.85865142e-01, 1.85676676e-01, 1.78046529e-01,\n",
       "        1.77425130e-01, 1.76755306e-01, 1.75467151e-01, 1.75179722e-01,\n",
       "        1.74771931e-01, 1.74666490e-01, 1.73834414e-01, 1.71440593e-01,\n",
       "        1.71319456e-01, 1.63497694e-01, 1.63476183e-01, 1.61821926e-01,\n",
       "        1.61666995e-01, 1.61202357e-01, 1.61059852e-01, 1.59134315e-01,\n",
       "        1.59123213e-01, 1.58125902e-01, 1.57962807e-01, 1.57223123e-01,\n",
       "        1.57089187e-01, 1.54932591e-01, 1.54761812e-01, 1.50038538e-01,\n",
       "        1.50026926e-01, 1.49848110e-01, 1.49793710e-01, 1.45765305e-01,\n",
       "        1.45690439e-01, 1.43864745e-01, 1.43827340e-01, 1.35148561e-01,\n",
       "        1.35132381e-01, 1.14102779e-01, 1.14088805e-01, 1.10942035e-01,\n",
       "        1.10916252e-01, 1.02179101e-01, 1.02175343e-01, 9.44772857e-02,\n",
       "        9.44666752e-02, 6.36499665e-02, 6.36485023e-02, 6.31695222e-02,\n",
       "        6.31661995e-02, 4.85554680e-02, 4.85548815e-02, 4.08593567e-02,\n",
       "        4.08576346e-02, 3.84366150e-02, 3.84352960e-02, 3.37397165e-02,\n",
       "        3.37384344e-02, 2.52449050e-02, 2.52429691e-02, 2.48488203e-02,\n",
       "        2.48468327e-02, 2.27022419e-02, 2.27011765e-02, 1.85518101e-02,\n",
       "        1.85513303e-02, 1.82430965e-02, 1.82405033e-02, 1.39045782e-02,\n",
       "        1.39038821e-02, 1.32761198e-02, 1.32761096e-02, 1.32194605e-02,\n",
       "        1.32194418e-02, 7.64994272e-03, 7.64990818e-03, 6.78214558e-03,\n",
       "        6.78167393e-03, 5.76259187e-03, 5.76224155e-03, 5.28757579e-03,\n",
       "        5.28739460e-03, 3.50283569e-03, 3.50281432e-03, 2.88934943e-03,\n",
       "        2.88903305e-03, 2.83149567e-03, 2.83143898e-03, 2.71889428e-03,\n",
       "        2.71887432e-03, 2.18915594e-03, 2.18909052e-03, 1.93485247e-03,\n",
       "        1.93484945e-03, 1.61526395e-03, 1.61523926e-03, 1.61299655e-03,\n",
       "        1.61297823e-03, 1.48953090e-03, 1.48951329e-03, 1.32741299e-03,\n",
       "        1.32740224e-03, 1.16094544e-03, 1.16094301e-03, 5.52619397e-04,\n",
       "        5.52585799e-04, 4.03467589e-04, 4.03463336e-04, 2.96259960e-04,\n",
       "        2.96248121e-04, 2.73758233e-04, 2.73757155e-04, 2.29812263e-04,\n",
       "        2.29795486e-04, 2.10016376e-04, 2.09994916e-04, 2.05647376e-04,\n",
       "        2.05642505e-04, 1.97346540e-04, 1.97343261e-04, 1.87187304e-04,\n",
       "        1.87162326e-04, 1.61664434e-04, 1.61661759e-04, 1.48561411e-04,\n",
       "        1.48547710e-04, 1.18714104e-04, 1.18710736e-04, 9.33416469e-05,\n",
       "        9.33355649e-05, 7.77686530e-05, 7.77655744e-05, 6.63578618e-05,\n",
       "        6.63517266e-05, 5.18475859e-05, 5.18434082e-05, 4.21341051e-05,\n",
       "        4.21336904e-05, 3.94391097e-05, 3.94282452e-05, 3.22375453e-05,\n",
       "        3.22308720e-05, 3.18254100e-05, 3.18241554e-05, 2.59806760e-05,\n",
       "        2.59757868e-05, 2.27106538e-05, 2.27100041e-05, 1.40457747e-05,\n",
       "        1.40447539e-05, 1.18982542e-05, 1.18982174e-05, 7.01355066e-06,\n",
       "        7.01337066e-06, 6.04270960e-06, 6.04243471e-06, 3.03482561e-06,\n",
       "        3.03476784e-06, 2.54028930e-06, 2.54012207e-06, 1.97113216e-06,\n",
       "        1.97088009e-06, 1.75942863e-06, 1.75894467e-06, 8.20470406e-07,\n",
       "        8.20435089e-07, 5.85260461e-07, 5.85196052e-07, 4.69654015e-07,\n",
       "        4.69616600e-07, 4.96814522e-08, 4.96702152e-08, 2.39947158e-08,\n",
       "        2.39935790e-08, 5.25271411e-13, 5.05738291e-13, 6.98734214e-37]))"
      ]
     },
     "execution_count": 123,
     "metadata": {},
     "output_type": "execute_result"
    }
   ],
   "source": [
    "fpr, tpr, threshold"
   ]
  },
  {
   "cell_type": "code",
   "execution_count": 124,
   "metadata": {
    "scrolled": true
   },
   "outputs": [
    {
     "data": {
      "text/plain": [
       "Text(0.2, 0.6, 'Area under curve is 0.6556544124905359')"
      ]
     },
     "execution_count": 124,
     "metadata": {},
     "output_type": "execute_result"
    },
    {
     "data": {
      "image/png": "[encoded data removed]",
      "text/plain": [
       "<Figure size 576x576 with 1 Axes>"
      ]
     },
     "metadata": {
      "needs_background": "light"
     },
     "output_type": "display_data"
    }
   ],
   "source": [
    "plt.figure(figsize = (8,8))\n",
    "plt.plot(fpr,tpr, color = \"r\")\n",
    "plt.xlabel(\"Fpr-Values\", size = 15)\n",
    "plt.ylabel(\"Tpr-Values\", size = 15 )\n",
    "plt.grid()\n",
    "plt.title(\"AUROC on Bank_Lend\", size = 15)\n",
    "plt.text(x= 0.2, y = 0.6 , s = \"Area under curve is {}\".format(roc_auc), size = 15)\n"
   ]
  },
  {
   "cell_type": "code",
   "execution_count": 126,
   "metadata": {},
   "outputs": [],
   "source": [
    "lm1=LogisticRegression(penalty='l2',solver='liblinear',\n",
    "    C=1.0,\n",
    "    random_state=0,\n",
    "    max_iter=150,\n",
    "    multi_class='auto',\n",
    "     )"
   ]
  },
  {
   "cell_type": "code",
   "execution_count": 127,
   "metadata": {},
   "outputs": [
    {
     "data": {
      "text/plain": [
       "LogisticRegression(max_iter=150, random_state=0, solver='liblinear')"
      ]
     },
     "execution_count": 127,
     "metadata": {},
     "output_type": "execute_result"
    }
   ],
   "source": [
    "lm1.fit(top_train_x,train_y)"
   ]
  },
  {
   "cell_type": "code",
   "execution_count": 128,
   "metadata": {},
   "outputs": [],
   "source": [
    "pred1_lm=lm1.predict(top_test_x)"
   ]
  },
  {
   "cell_type": "code",
   "execution_count": 129,
   "metadata": {
    "scrolled": true
   },
   "outputs": [
    {
     "name": "stdout",
     "output_type": "stream",
     "text": [
      "[[256490    190]\n",
      " [   168    143]]\n"
     ]
    }
   ],
   "source": [
    "tab=confusion_matrix(test_y,pred1_lm)\n",
    "print(tab)"
   ]
  },
  {
   "cell_type": "code",
   "execution_count": 130,
   "metadata": {},
   "outputs": [
    {
     "data": {
      "text/plain": [
       "<matplotlib.axes._subplots.AxesSubplot at 0xcc8a4323c8>"
      ]
     },
     "execution_count": 130,
     "metadata": {},
     "output_type": "execute_result"
    },
    {
     "data": {
      "image/png": "[encoded data removed]",
      "text/plain": [
       "<Figure size 432x288 with 2 Axes>"
      ]
     },
     "metadata": {
      "needs_background": "light"
     },
     "output_type": "display_data"
    }
   ],
   "source": [
    "sns.heatmap(tab,annot=True,fmt='d',cmap=\"Blues\")"
   ]
  },
  {
   "cell_type": "code",
   "execution_count": 131,
   "metadata": {},
   "outputs": [
    {
     "name": "stdout",
     "output_type": "stream",
     "text": [
      "              precision    recall  f1-score   support\n",
      "\n",
      "           0       1.00      1.00      1.00    256680\n",
      "           1       0.43      0.46      0.44       311\n",
      "\n",
      "    accuracy                           1.00    256991\n",
      "   macro avg       0.71      0.73      0.72    256991\n",
      "weighted avg       1.00      1.00      1.00    256991\n",
      "\n"
     ]
    }
   ],
   "source": [
    "print(classification_report(test_y,pred1_lm))"
   ]
  },
  {
   "cell_type": "code",
   "execution_count": 132,
   "metadata": {},
   "outputs": [
    {
     "name": "stdout",
     "output_type": "stream",
     "text": [
      "99.92597787127941\n",
      "45.98070739549839\n",
      "99.93454324431734\n",
      "42.94294294294294\n",
      "99.86069551073773\n"
     ]
    }
   ],
   "source": [
    "sensitivity=(tab[0,0])/(tab[0,0]+tab[0,1])*100\n",
    "specificity=(tab[1,1])/(tab[1,1]+tab[1,0])*100\n",
    "precision_0=(tab[0,0])/(tab[0,0]+tab[1,0])*100\n",
    "precision_1=(tab[1,1])/(tab[1,1]+tab[0,1])*100\n",
    "accuracy=(tab.diagonal().sum())/(tab.sum())*100\n",
    "print(sensitivity)\n",
    "print(specificity)\n",
    "print(precision_0)\n",
    "print(precision_1)\n",
    "print(accuracy)"
   ]
  },
  {
   "cell_type": "code",
   "execution_count": 133,
   "metadata": {},
   "outputs": [],
   "source": [
    "pred1_prob_lm=lm1.predict_proba(top_test_x)"
   ]
  },
  {
   "cell_type": "code",
   "execution_count": 134,
   "metadata": {},
   "outputs": [],
   "source": [
    "pred1_prob_lm=pd.DataFrame(pred1_prob_lm)"
   ]
  },
  {
   "cell_type": "code",
   "execution_count": 135,
   "metadata": {
    "scrolled": true
   },
   "outputs": [
    {
     "data": {
      "text/plain": [
       "0.7295334263338891"
      ]
     },
     "execution_count": 135,
     "metadata": {},
     "output_type": "execute_result"
    }
   ],
   "source": [
    "roc_auc = roc_auc_score(test_y,pred1_lm)\n",
    "roc_auc\n"
   ]
  },
  {
   "cell_type": "code",
   "execution_count": 136,
   "metadata": {},
   "outputs": [],
   "source": [
    "fpr, tpr, threshold = roc_curve( test_y ,  pred1_prob_lm.iloc[:,1] )\n",
    "\n"
   ]
  },
  {
   "cell_type": "code",
   "execution_count": 137,
   "metadata": {
    "scrolled": true
   },
   "outputs": [
    {
     "data": {
      "text/plain": [
       "(array([0.00000000e+00, 0.00000000e+00, 0.00000000e+00, 3.89590151e-06,\n",
       "        3.89590151e-06, 1.16877045e-05, 1.16877045e-05, 1.55836060e-05,\n",
       "        1.55836060e-05, 1.94795076e-05, 1.94795076e-05, 2.72713106e-05,\n",
       "        2.72713106e-05, 5.06467197e-05, 5.06467197e-05, 5.45426212e-05,\n",
       "        5.45426212e-05, 5.84385227e-05, 5.84385227e-05, 6.62303257e-05,\n",
       "        6.62303257e-05, 7.40221287e-05, 7.40221287e-05, 8.57098333e-05,\n",
       "        8.57098333e-05, 9.35016363e-05, 9.35016363e-05, 9.73975378e-05,\n",
       "        9.73975378e-05, 1.12981144e-04, 1.12981144e-04, 1.24668848e-04,\n",
       "        1.24668848e-04, 1.28564750e-04, 1.28564750e-04, 1.71419667e-04,\n",
       "        1.71419667e-04, 1.79211470e-04, 1.79211470e-04, 1.90899174e-04,\n",
       "        1.90899174e-04, 2.02586879e-04, 2.02586879e-04, 2.22066386e-04,\n",
       "        2.22066386e-04, 2.29858189e-04, 2.29858189e-04, 2.33754091e-04,\n",
       "        2.33754091e-04, 2.49337697e-04, 2.49337697e-04, 2.72713106e-04,\n",
       "        2.72713106e-04, 2.84400810e-04, 2.84400810e-04, 2.88296712e-04,\n",
       "        2.88296712e-04, 2.96088515e-04, 2.96088515e-04, 2.99984416e-04,\n",
       "        2.99984416e-04, 3.03880318e-04, 3.03880318e-04, 3.07776219e-04,\n",
       "        3.07776219e-04, 3.11672121e-04, 3.11672121e-04, 3.19463924e-04,\n",
       "        3.19463924e-04, 3.23359825e-04, 3.23359825e-04, 3.46735235e-04,\n",
       "        3.46735235e-04, 3.58422939e-04, 3.58422939e-04, 3.70110644e-04,\n",
       "        3.70110644e-04, 3.81798348e-04, 3.81798348e-04, 3.89590151e-04,\n",
       "        3.89590151e-04, 3.93486053e-04, 3.93486053e-04, 4.01277856e-04,\n",
       "        4.01277856e-04, 4.05173757e-04, 4.05173757e-04, 4.12965560e-04,\n",
       "        4.12965560e-04, 4.40236871e-04, 4.40236871e-04, 4.51924575e-04,\n",
       "        4.51924575e-04, 4.59716378e-04, 4.59716378e-04, 4.63612280e-04,\n",
       "        4.63612280e-04, 4.75299984e-04, 4.75299984e-04, 4.94779492e-04,\n",
       "        4.94779492e-04, 4.98675393e-04, 4.98675393e-04, 5.02571295e-04,\n",
       "        5.02571295e-04, 5.18154901e-04, 5.18154901e-04, 5.22050803e-04,\n",
       "        5.22050803e-04, 5.25946704e-04, 5.25946704e-04, 5.33738507e-04,\n",
       "        5.33738507e-04, 5.61009818e-04, 5.61009818e-04, 5.68801621e-04,\n",
       "        5.68801621e-04, 5.80489325e-04, 5.80489325e-04, 5.84385227e-04,\n",
       "        5.84385227e-04, 5.92177030e-04, 5.92177030e-04, 5.96072931e-04,\n",
       "        5.96072931e-04, 6.11656537e-04, 6.11656537e-04, 6.19448340e-04,\n",
       "        6.19448340e-04, 6.23344242e-04, 6.23344242e-04, 6.27240143e-04,\n",
       "        6.27240143e-04, 6.31136045e-04, 6.31136045e-04, 6.38927848e-04,\n",
       "        6.38927848e-04, 6.46719651e-04, 6.46719651e-04, 6.50615552e-04,\n",
       "        6.50615552e-04, 6.58407355e-04, 6.58407355e-04, 6.73990962e-04,\n",
       "        6.73990962e-04, 6.77886863e-04, 6.77886863e-04, 6.89574568e-04,\n",
       "        6.89574568e-04, 6.93470469e-04, 6.93470469e-04, 7.01262272e-04,\n",
       "        7.01262272e-04, 7.24637681e-04, 7.24637681e-04, 7.40221287e-04,\n",
       "        7.40221287e-04, 7.59700795e-04, 7.59700795e-04, 7.67492598e-04,\n",
       "        7.67492598e-04, 7.75284401e-04, 7.75284401e-04, 7.86972105e-04,\n",
       "        7.86972105e-04, 8.14243416e-04, 8.14243416e-04, 8.18139317e-04,\n",
       "        8.18139317e-04, 8.22035219e-04, 8.22035219e-04, 8.25931120e-04,\n",
       "        8.25931120e-04, 8.37618825e-04, 8.37618825e-04, 8.84369643e-04,\n",
       "        8.84369643e-04, 8.88265545e-04, 8.88265545e-04, 9.11640954e-04,\n",
       "        9.11640954e-04, 9.38912264e-04, 9.38912264e-04, 9.81767181e-04,\n",
       "        9.81767181e-04, 9.85663082e-04, 9.85663082e-04, 1.02462210e-03,\n",
       "        1.02462210e-03, 1.02851800e-03, 1.02851800e-03, 1.03241390e-03,\n",
       "        1.03241390e-03, 1.03630980e-03, 1.03630980e-03, 1.05968521e-03,\n",
       "        1.05968521e-03, 1.06358111e-03, 1.06358111e-03, 1.12981144e-03,\n",
       "        1.12981144e-03, 1.14929095e-03, 1.14929095e-03, 1.15708275e-03,\n",
       "        1.15708275e-03, 1.16877045e-03, 1.16877045e-03, 1.18824996e-03,\n",
       "        1.18824996e-03, 1.19214586e-03, 1.19214586e-03, 1.19993767e-03,\n",
       "        1.19993767e-03, 1.21162537e-03, 1.21162537e-03, 1.21552127e-03,\n",
       "        1.21552127e-03, 1.21941717e-03, 1.21941717e-03, 1.23889668e-03,\n",
       "        1.23889668e-03, 1.25058439e-03, 1.25058439e-03, 1.25448029e-03,\n",
       "        1.25448029e-03, 1.28175160e-03, 1.28175160e-03, 1.30512701e-03,\n",
       "        1.30512701e-03, 1.33239832e-03, 1.33239832e-03, 1.34408602e-03,\n",
       "        1.34408602e-03, 1.34798192e-03, 1.34798192e-03, 1.39862864e-03,\n",
       "        1.39862864e-03, 1.43369176e-03, 1.43369176e-03, 1.43758766e-03,\n",
       "        1.43758766e-03, 1.44148356e-03, 1.44148356e-03, 1.45706717e-03,\n",
       "        1.45706717e-03, 1.47654667e-03, 1.47654667e-03, 1.48823438e-03,\n",
       "        1.48823438e-03, 1.52329749e-03, 1.52329749e-03, 1.56225651e-03,\n",
       "        1.56225651e-03, 1.57004831e-03, 1.57004831e-03, 1.58563192e-03,\n",
       "        1.58563192e-03, 1.58952782e-03, 1.58952782e-03, 1.60511142e-03,\n",
       "        1.60511142e-03, 1.64017454e-03, 1.64017454e-03, 1.66744585e-03,\n",
       "        1.66744585e-03, 1.81159420e-03, 1.81159420e-03, 1.87003273e-03,\n",
       "        1.87003273e-03, 1.90899174e-03, 1.90899174e-03, 1.98690977e-03,\n",
       "        1.98690977e-03, 2.02586879e-03, 2.02586879e-03, 2.04924420e-03,\n",
       "        2.04924420e-03, 2.05703600e-03, 2.05703600e-03, 2.06482780e-03,\n",
       "        2.06482780e-03, 2.13105813e-03, 2.13105813e-03, 2.19728845e-03,\n",
       "        2.19728845e-03, 2.45831385e-03, 2.45831385e-03, 2.54012779e-03,\n",
       "        2.54012779e-03, 2.56739910e-03, 2.56739910e-03, 2.72323516e-03,\n",
       "        2.72323516e-03, 3.07386629e-03, 3.07386629e-03, 3.13230482e-03,\n",
       "        3.13230482e-03, 3.33878760e-03, 3.33878760e-03, 3.38164251e-03,\n",
       "        3.38164251e-03, 3.51020726e-03, 3.51020726e-03, 4.06342528e-03,\n",
       "        4.06342528e-03, 4.45691133e-03, 4.45691133e-03, 4.62443509e-03,\n",
       "        4.62443509e-03, 4.85039738e-03, 4.85039738e-03, 5.85553997e-03,\n",
       "        5.85553997e-03, 7.43727599e-03, 7.43727599e-03, 7.71778089e-03,\n",
       "        7.71778089e-03, 7.88530466e-03, 7.88530466e-03, 8.06841203e-03,\n",
       "        8.06841203e-03, 1.09163160e-02, 1.09163160e-02, 1.51160979e-02,\n",
       "        1.51160979e-02, 1.67562724e-02, 1.67562724e-02, 1.82756740e-02,\n",
       "        1.82756740e-02, 1.98690977e-02, 1.98690977e-02, 2.81284089e-02,\n",
       "        2.81284089e-02, 4.01901200e-02, 4.01901200e-02, 5.43283466e-02,\n",
       "        5.43283466e-02, 5.99890915e-02, 5.99890915e-02, 6.25214275e-02,\n",
       "        6.25214275e-02, 8.18567867e-02, 8.18567867e-02, 8.34852735e-02,\n",
       "        8.34852735e-02, 9.21614462e-02, 9.21614462e-02, 1.01792115e-01,\n",
       "        1.01792115e-01, 1.10620228e-01, 1.10620228e-01, 1.31221755e-01,\n",
       "        1.31221755e-01, 1.42812062e-01, 1.42812062e-01, 1.45324918e-01,\n",
       "        1.45324918e-01, 1.60721521e-01, 1.60721521e-01, 1.67149758e-01,\n",
       "        1.67149758e-01, 1.76558361e-01, 1.76558361e-01, 1.92843229e-01,\n",
       "        1.92843229e-01, 1.98616955e-01, 1.98616955e-01, 2.19008103e-01,\n",
       "        2.19008103e-01, 2.30629578e-01, 2.30629578e-01, 2.51764843e-01,\n",
       "        2.51764843e-01, 2.60818918e-01, 2.60818918e-01, 2.76289543e-01,\n",
       "        2.76289543e-01, 2.79889356e-01, 2.79889356e-01, 3.34054075e-01,\n",
       "        3.34054075e-01, 4.14605735e-01, 4.14605735e-01, 4.21949509e-01,\n",
       "        4.21949509e-01, 4.28354371e-01, 4.28354371e-01, 4.35086489e-01,\n",
       "        4.35086489e-01, 4.39590151e-01, 4.39590151e-01, 4.62139629e-01,\n",
       "        4.62139629e-01, 4.74497429e-01, 4.74497429e-01, 5.05193237e-01,\n",
       "        5.05193237e-01, 5.38323983e-01, 5.38323983e-01, 5.53981611e-01,\n",
       "        5.53981611e-01, 5.54453015e-01, 5.54453015e-01, 5.81685367e-01,\n",
       "        5.81685367e-01, 6.12034440e-01, 6.12034440e-01, 6.13183731e-01,\n",
       "        6.13183731e-01, 6.19989871e-01, 6.19989871e-01, 6.21618357e-01,\n",
       "        6.21618357e-01, 6.24509116e-01, 6.24509116e-01, 6.31474988e-01,\n",
       "        6.31474988e-01, 6.34880006e-01, 6.34880006e-01, 6.52072620e-01,\n",
       "        6.52072620e-01, 6.60156615e-01, 6.60156615e-01, 6.60889045e-01,\n",
       "        6.60889045e-01, 6.77318061e-01, 6.77318061e-01, 6.86788998e-01,\n",
       "        6.86788998e-01, 6.89594047e-01, 6.89594047e-01, 7.30127006e-01,\n",
       "        7.30127006e-01, 7.47358579e-01, 7.47358579e-01, 7.61656537e-01,\n",
       "        7.61656537e-01, 7.63518778e-01, 7.63518778e-01, 7.69849618e-01,\n",
       "        7.69849618e-01, 7.72989715e-01, 7.72989715e-01, 8.04297179e-01,\n",
       "        8.04297179e-01, 8.04390681e-01, 8.04390681e-01, 8.27894655e-01,\n",
       "        8.27894655e-01, 8.47666355e-01, 8.47666355e-01, 8.47907901e-01,\n",
       "        8.47907901e-01, 8.89223936e-01, 8.89223936e-01, 9.12014960e-01,\n",
       "        9.12014960e-01, 9.24177965e-01, 9.24177965e-01, 9.41023843e-01,\n",
       "        9.41023843e-01, 9.73850709e-01, 9.73850709e-01, 9.97510519e-01,\n",
       "        9.97510519e-01, 1.00000000e+00]),\n",
       " array([0.        , 0.00321543, 0.00643087, 0.00643087, 0.0192926 ,\n",
       "        0.0192926 , 0.02250804, 0.02250804, 0.03858521, 0.03858521,\n",
       "        0.05144695, 0.05144695, 0.05787781, 0.05787781, 0.06109325,\n",
       "        0.06109325, 0.06752412, 0.06752412, 0.07073955, 0.07073955,\n",
       "        0.07395498, 0.07395498, 0.08038585, 0.08038585, 0.09003215,\n",
       "        0.09003215, 0.09646302, 0.09646302, 0.09967846, 0.09967846,\n",
       "        0.10289389, 0.10289389, 0.11254019, 0.11254019, 0.12540193,\n",
       "        0.12540193, 0.12861736, 0.12861736, 0.1318328 , 0.1318328 ,\n",
       "        0.13826367, 0.13826367, 0.1414791 , 0.1414791 , 0.14790997,\n",
       "        0.14790997, 0.15434084, 0.15434084, 0.15755627, 0.15755627,\n",
       "        0.1607717 , 0.1607717 , 0.17363344, 0.17363344, 0.18006431,\n",
       "        0.18006431, 0.18327974, 0.18327974, 0.18649518, 0.18649518,\n",
       "        0.19292605, 0.19292605, 0.19614148, 0.19614148, 0.19935691,\n",
       "        0.19935691, 0.21221865, 0.21221865, 0.22508039, 0.22508039,\n",
       "        0.22829582, 0.22829582, 0.23151125, 0.23151125, 0.23472669,\n",
       "        0.23472669, 0.24115756, 0.24115756, 0.24758842, 0.24758842,\n",
       "        0.25080386, 0.25080386, 0.25401929, 0.25401929, 0.27009646,\n",
       "        0.27009646, 0.2733119 , 0.2733119 , 0.28617363, 0.28617363,\n",
       "        0.2926045 , 0.2926045 , 0.29903537, 0.29903537, 0.32154341,\n",
       "        0.32154341, 0.32475884, 0.32475884, 0.33118971, 0.33118971,\n",
       "        0.33440514, 0.33440514, 0.34083601, 0.34083601, 0.34405145,\n",
       "        0.34405145, 0.35369775, 0.35369775, 0.35691318, 0.35691318,\n",
       "        0.36012862, 0.36012862, 0.36334405, 0.36334405, 0.36655949,\n",
       "        0.36655949, 0.36977492, 0.36977492, 0.37620579, 0.37620579,\n",
       "        0.37942122, 0.37942122, 0.38263666, 0.38263666, 0.38585209,\n",
       "        0.38585209, 0.38906752, 0.38906752, 0.39871383, 0.39871383,\n",
       "        0.40192926, 0.40192926, 0.40836013, 0.40836013, 0.41157556,\n",
       "        0.41157556, 0.414791  , 0.414791  , 0.41800643, 0.41800643,\n",
       "        0.42122186, 0.42122186, 0.42765273, 0.42765273, 0.43086817,\n",
       "        0.43086817, 0.44051447, 0.44051447, 0.4437299 , 0.4437299 ,\n",
       "        0.45337621, 0.45337621, 0.45659164, 0.45659164, 0.45980707,\n",
       "        0.45980707, 0.46302251, 0.46302251, 0.46623794, 0.46623794,\n",
       "        0.46945338, 0.46945338, 0.47266881, 0.47266881, 0.47588424,\n",
       "        0.47588424, 0.48553055, 0.48553055, 0.48874598, 0.48874598,\n",
       "        0.49196141, 0.49196141, 0.49517685, 0.49517685, 0.49839228,\n",
       "        0.49839228, 0.50160772, 0.50160772, 0.51125402, 0.51125402,\n",
       "        0.51446945, 0.51446945, 0.51768489, 0.51768489, 0.52411576,\n",
       "        0.52411576, 0.52733119, 0.52733119, 0.53054662, 0.53054662,\n",
       "        0.53376206, 0.53376206, 0.54019293, 0.54019293, 0.54662379,\n",
       "        0.54662379, 0.54983923, 0.54983923, 0.55305466, 0.55305466,\n",
       "        0.55948553, 0.55948553, 0.56270096, 0.56270096, 0.5659164 ,\n",
       "        0.5659164 , 0.56913183, 0.56913183, 0.57234727, 0.57234727,\n",
       "        0.5755627 , 0.5755627 , 0.57877814, 0.57877814, 0.58199357,\n",
       "        0.58199357, 0.585209  , 0.585209  , 0.58842444, 0.58842444,\n",
       "        0.59163987, 0.59163987, 0.59485531, 0.59485531, 0.59807074,\n",
       "        0.59807074, 0.60128617, 0.60128617, 0.60450161, 0.60450161,\n",
       "        0.60771704, 0.60771704, 0.61093248, 0.61093248, 0.61414791,\n",
       "        0.61414791, 0.62057878, 0.62057878, 0.62379421, 0.62379421,\n",
       "        0.62700965, 0.62700965, 0.63344051, 0.63344051, 0.63665595,\n",
       "        0.63665595, 0.63987138, 0.63987138, 0.64308682, 0.64308682,\n",
       "        0.64951768, 0.64951768, 0.65273312, 0.65273312, 0.65594855,\n",
       "        0.65594855, 0.65916399, 0.65916399, 0.66237942, 0.66237942,\n",
       "        0.66559486, 0.66559486, 0.66881029, 0.66881029, 0.67202572,\n",
       "        0.67202572, 0.67845659, 0.67845659, 0.68488746, 0.68488746,\n",
       "        0.68810289, 0.68810289, 0.69131833, 0.69131833, 0.69453376,\n",
       "        0.69453376, 0.6977492 , 0.6977492 , 0.70096463, 0.70096463,\n",
       "        0.70418006, 0.70418006, 0.7073955 , 0.7073955 , 0.71061093,\n",
       "        0.71061093, 0.71382637, 0.71382637, 0.7170418 , 0.7170418 ,\n",
       "        0.72025723, 0.72025723, 0.72347267, 0.72347267, 0.7266881 ,\n",
       "        0.7266881 , 0.72990354, 0.72990354, 0.73311897, 0.73311897,\n",
       "        0.73633441, 0.73633441, 0.73954984, 0.73954984, 0.74276527,\n",
       "        0.74276527, 0.74598071, 0.74598071, 0.74919614, 0.74919614,\n",
       "        0.75241158, 0.75241158, 0.75562701, 0.75562701, 0.75884244,\n",
       "        0.75884244, 0.76205788, 0.76205788, 0.76527331, 0.76527331,\n",
       "        0.76848875, 0.76848875, 0.77170418, 0.77170418, 0.77491961,\n",
       "        0.77491961, 0.77813505, 0.77813505, 0.78135048, 0.78135048,\n",
       "        0.78456592, 0.78456592, 0.78778135, 0.78778135, 0.79099678,\n",
       "        0.79099678, 0.79421222, 0.79421222, 0.79742765, 0.79742765,\n",
       "        0.80064309, 0.80064309, 0.80385852, 0.80385852, 0.80707395,\n",
       "        0.80707395, 0.81028939, 0.81028939, 0.81350482, 0.81350482,\n",
       "        0.81672026, 0.81672026, 0.81993569, 0.81993569, 0.82315113,\n",
       "        0.82315113, 0.82636656, 0.82636656, 0.82958199, 0.82958199,\n",
       "        0.83279743, 0.83279743, 0.83601286, 0.83601286, 0.8392283 ,\n",
       "        0.8392283 , 0.84244373, 0.84244373, 0.84565916, 0.84565916,\n",
       "        0.8488746 , 0.8488746 , 0.85209003, 0.85209003, 0.85530547,\n",
       "        0.85530547, 0.8585209 , 0.8585209 , 0.86173633, 0.86173633,\n",
       "        0.86495177, 0.86495177, 0.8681672 , 0.8681672 , 0.87138264,\n",
       "        0.87138264, 0.87459807, 0.87459807, 0.8778135 , 0.8778135 ,\n",
       "        0.88102894, 0.88102894, 0.88424437, 0.88424437, 0.88745981,\n",
       "        0.88745981, 0.89067524, 0.89067524, 0.89389068, 0.89389068,\n",
       "        0.89710611, 0.89710611, 0.90032154, 0.90032154, 0.90353698,\n",
       "        0.90353698, 0.90675241, 0.90675241, 0.90996785, 0.90996785,\n",
       "        0.91318328, 0.91318328, 0.91639871, 0.91639871, 0.91961415,\n",
       "        0.91961415, 0.92282958, 0.92282958, 0.92604502, 0.92604502,\n",
       "        0.92926045, 0.92926045, 0.93247588, 0.93247588, 0.93569132,\n",
       "        0.93569132, 0.93890675, 0.93890675, 0.94212219, 0.94212219,\n",
       "        0.94533762, 0.94533762, 0.94855305, 0.94855305, 0.95176849,\n",
       "        0.95176849, 0.95498392, 0.95498392, 0.95819936, 0.95819936,\n",
       "        0.96141479, 0.96141479, 0.96463023, 0.96463023, 0.96784566,\n",
       "        0.96784566, 0.97106109, 0.97106109, 0.97427653, 0.97427653,\n",
       "        0.97749196, 0.97749196, 0.9807074 , 0.9807074 , 0.98392283,\n",
       "        0.98392283, 0.98713826, 0.98713826, 0.9903537 , 0.9903537 ,\n",
       "        0.99356913, 0.99356913, 0.99678457, 0.99678457, 1.        ,\n",
       "        1.        ]),\n",
       " array([2.00000000e+000, 1.00000000e+000, 9.96630485e-001, 9.96383329e-001,\n",
       "        9.88132451e-001, 9.87850602e-001, 9.87716686e-001, 9.86242107e-001,\n",
       "        9.81976184e-001, 9.78978627e-001, 9.76374214e-001, 9.67901308e-001,\n",
       "        9.66307876e-001, 9.56819271e-001, 9.56460199e-001, 9.56374954e-001,\n",
       "        9.51513472e-001, 9.51192259e-001, 9.51072726e-001, 9.49308214e-001,\n",
       "        9.46896216e-001, 9.46050786e-001, 9.45091027e-001, 9.42960772e-001,\n",
       "        9.35692959e-001, 9.34504658e-001, 9.32798153e-001, 9.29894786e-001,\n",
       "        9.26631658e-001, 9.20551182e-001, 9.20095357e-001, 9.12890181e-001,\n",
       "        9.10312697e-001, 9.07764335e-001, 9.04214489e-001, 8.89841746e-001,\n",
       "        8.87632982e-001, 8.82395499e-001, 8.81971632e-001, 8.79861723e-001,\n",
       "        8.73387338e-001, 8.70055026e-001, 8.69850304e-001, 8.62025984e-001,\n",
       "        8.57157314e-001, 8.55952586e-001, 8.53221127e-001, 8.51718050e-001,\n",
       "        8.51653149e-001, 8.49493649e-001, 8.48246775e-001, 8.36370355e-001,\n",
       "        8.23758033e-001, 8.20336820e-001, 8.15851872e-001, 8.15193209e-001,\n",
       "        8.10403006e-001, 8.08353854e-001, 8.04339547e-001, 8.01369869e-001,\n",
       "        7.99243632e-001, 7.96863472e-001, 7.96704297e-001, 7.96614402e-001,\n",
       "        7.96017597e-001, 7.92499518e-001, 7.84851908e-001, 7.82392399e-001,\n",
       "        7.66002181e-001, 7.63427774e-001, 7.62061273e-001, 7.55954474e-001,\n",
       "        7.55833506e-001, 7.52713069e-001, 7.52124857e-001, 7.48988570e-001,\n",
       "        7.43262805e-001, 7.37292148e-001, 7.34595048e-001, 7.33664034e-001,\n",
       "        7.25774696e-001, 7.25065967e-001, 7.22442790e-001, 7.19184925e-001,\n",
       "        7.15251256e-001, 7.13403058e-001, 7.10518943e-001, 7.07464061e-001,\n",
       "        6.99797221e-001, 6.89181716e-001, 6.87065588e-001, 6.82473877e-001,\n",
       "        6.79398848e-001, 6.76123530e-001, 6.68478717e-001, 6.67933159e-001,\n",
       "        6.65536151e-001, 6.63223665e-001, 6.62276877e-001, 6.54542018e-001,\n",
       "        6.54227856e-001, 6.51490555e-001, 6.49100578e-001, 6.48290014e-001,\n",
       "        6.46945505e-001, 6.43075354e-001, 6.36263579e-001, 6.36198416e-001,\n",
       "        6.36103060e-001, 6.36065170e-001, 6.35662443e-001, 6.26782403e-001,\n",
       "        6.25335393e-001, 5.96837248e-001, 5.96475900e-001, 5.92634405e-001,\n",
       "        5.92451374e-001, 5.90226560e-001, 5.81362224e-001, 5.80126750e-001,\n",
       "        5.77677416e-001, 5.77488923e-001, 5.75528835e-001, 5.73322905e-001,\n",
       "        5.72503560e-001, 5.66571812e-001, 5.66293084e-001, 5.64554953e-001,\n",
       "        5.59839166e-001, 5.59736492e-001, 5.58707149e-001, 5.57234261e-001,\n",
       "        5.56170856e-001, 5.55835244e-001, 5.54359719e-001, 5.51692843e-001,\n",
       "        5.51681916e-001, 5.50986938e-001, 5.50736619e-001, 5.45289515e-001,\n",
       "        5.44696591e-001, 5.43208862e-001, 5.39646510e-001, 5.35052378e-001,\n",
       "        5.33380463e-001, 5.31044878e-001, 5.25789576e-001, 5.23381110e-001,\n",
       "        5.23069482e-001, 5.18944599e-001, 5.17890982e-001, 5.14530294e-001,\n",
       "        5.13949906e-001, 5.05449757e-001, 5.05026434e-001, 5.00305806e-001,\n",
       "        4.97431156e-001, 4.93278321e-001, 4.93062336e-001, 4.90206285e-001,\n",
       "        4.89071146e-001, 4.88755958e-001, 4.86548419e-001, 4.80285507e-001,\n",
       "        4.80210988e-001, 4.73208790e-001, 4.68294621e-001, 4.65453484e-001,\n",
       "        4.65256187e-001, 4.65174214e-001, 4.65014003e-001, 4.63970933e-001,\n",
       "        4.63373707e-001, 4.61719448e-001, 4.58135608e-001, 4.39206020e-001,\n",
       "        4.36321347e-001, 4.35873656e-001, 4.33652013e-001, 4.27109111e-001,\n",
       "        4.24119091e-001, 4.18080281e-001, 4.17963946e-001, 4.08096779e-001,\n",
       "        4.07806598e-001, 4.06662051e-001, 4.06371685e-001, 3.98881033e-001,\n",
       "        3.98577955e-001, 3.98089456e-001, 3.96979522e-001, 3.96857761e-001,\n",
       "        3.93001833e-001, 3.92383332e-001, 3.91431006e-001, 3.83625267e-001,\n",
       "        3.79820952e-001, 3.79496296e-001, 3.79462286e-001, 3.52216685e-001,\n",
       "        3.49295754e-001, 3.40460293e-001, 3.39057002e-001, 3.37764992e-001,\n",
       "        3.37399647e-001, 3.34986854e-001, 3.34541253e-001, 3.30988289e-001,\n",
       "        3.30581854e-001, 3.30188816e-001, 3.29170454e-001, 3.28167113e-001,\n",
       "        3.27923628e-001, 3.24762348e-001, 3.23795722e-001, 3.22786061e-001,\n",
       "        3.22562333e-001, 3.22050640e-001, 3.21514985e-001, 3.19307207e-001,\n",
       "        3.19019395e-001, 3.16558810e-001, 3.14948926e-001, 3.14240131e-001,\n",
       "        3.13397725e-001, 3.09645601e-001, 3.08686101e-001, 3.05109523e-001,\n",
       "        3.04632483e-001, 3.00082215e-001, 2.99648221e-001, 2.98286693e-001,\n",
       "        2.97914423e-001, 2.96965265e-001, 2.96820611e-001, 2.92072271e-001,\n",
       "        2.91864695e-001, 2.87859626e-001, 2.87567393e-001, 2.87289810e-001,\n",
       "        2.86430049e-001, 2.85649447e-001, 2.84777480e-001, 2.83230263e-001,\n",
       "        2.82875941e-001, 2.79864787e-001, 2.79497729e-001, 2.78670999e-001,\n",
       "        2.77057592e-001, 2.72697203e-001, 2.71319159e-001, 2.65919171e-001,\n",
       "        2.65771351e-001, 2.65217687e-001, 2.63680912e-001, 2.61642448e-001,\n",
       "        2.60987686e-001, 2.60792445e-001, 2.60383549e-001, 2.59770929e-001,\n",
       "        2.59663999e-001, 2.54499593e-001, 2.54242290e-001, 2.53225657e-001,\n",
       "        2.52868005e-001, 2.40568856e-001, 2.39018861e-001, 2.35339170e-001,\n",
       "        2.35141587e-001, 2.31476813e-001, 2.31184022e-001, 2.25445969e-001,\n",
       "        2.24910285e-001, 2.23139759e-001, 2.22937906e-001, 2.21161011e-001,\n",
       "        2.20221782e-001, 2.19668910e-001, 2.19608390e-001, 2.19388041e-001,\n",
       "        2.19228350e-001, 2.16547749e-001, 2.16326234e-001, 2.13398979e-001,\n",
       "        2.13357918e-001, 2.03863673e-001, 2.03682959e-001, 1.99778411e-001,\n",
       "        1.99583341e-001, 1.97331528e-001, 1.97330917e-001, 1.92408533e-001,\n",
       "        1.92396891e-001, 1.80714255e-001, 1.80710295e-001, 1.79189103e-001,\n",
       "        1.79184079e-001, 1.73464202e-001, 1.73386037e-001, 1.72363263e-001,\n",
       "        1.72330537e-001, 1.69146826e-001, 1.69071927e-001, 1.57945580e-001,\n",
       "        1.57871251e-001, 1.51311101e-001, 1.51104188e-001, 1.48364580e-001,\n",
       "        1.48355991e-001, 1.45110631e-001, 1.45035377e-001, 1.32574009e-001,\n",
       "        1.32521722e-001, 1.17887120e-001, 1.17852023e-001, 1.15665821e-001,\n",
       "        1.15634831e-001, 1.14512330e-001, 1.14502829e-001, 1.13044987e-001,\n",
       "        1.13003164e-001, 9.56327665e-002, 9.56268827e-002, 7.88492102e-002,\n",
       "        7.88425491e-002, 7.38331587e-002, 7.38285815e-002, 6.96151363e-002,\n",
       "        6.95997292e-002, 6.54563652e-002, 6.54507570e-002, 5.02020936e-002,\n",
       "        5.01939186e-002, 3.63310718e-002, 3.63294119e-002, 2.68205441e-002,\n",
       "        2.68151606e-002, 2.40930224e-002, 2.40897213e-002, 2.29398784e-002,\n",
       "        2.29389554e-002, 1.66262152e-002, 1.66261361e-002, 1.62274025e-002,\n",
       "        1.62273966e-002, 1.42099589e-002, 1.42096271e-002, 1.23137290e-002,\n",
       "        1.23134156e-002, 1.08315660e-002, 1.08298139e-002, 8.07955947e-003,\n",
       "        8.07939622e-003, 6.84964733e-003, 6.84914298e-003, 6.61838587e-003,\n",
       "        6.61814759e-003, 5.35945218e-003, 5.35916846e-003, 4.88763266e-003,\n",
       "        4.88761174e-003, 4.30698349e-003, 4.30673800e-003, 3.43270265e-003,\n",
       "        3.43256510e-003, 3.16799383e-003, 3.16777503e-003, 2.38846732e-003,\n",
       "        2.38844071e-003, 2.03358479e-003, 2.03351623e-003, 1.55063026e-003,\n",
       "        1.55062840e-003, 1.39127188e-003, 1.39125983e-003, 1.16542697e-003,\n",
       "        1.16538210e-003, 1.12014022e-003, 1.12008709e-003, 6.09803803e-004,\n",
       "        6.09791994e-004, 2.34643545e-004, 2.34641827e-004, 2.12895672e-004,\n",
       "        2.12889311e-004, 1.95545198e-004, 1.95534648e-004, 1.77701231e-004,\n",
       "        1.77686606e-004, 1.66476891e-004, 1.66475371e-004, 1.20844203e-004,\n",
       "        1.20841512e-004, 1.01016938e-004, 1.01015503e-004, 6.61659688e-005,\n",
       "        6.61657122e-005, 4.20912114e-005, 4.20902978e-005, 3.36864806e-005,\n",
       "        3.36852640e-005, 3.34634462e-005, 3.34629143e-005, 2.21903747e-005,\n",
       "        2.21902131e-005, 1.31283534e-005, 1.31278531e-005, 1.28556489e-005,\n",
       "        1.28548688e-005, 1.13450595e-005, 1.13421232e-005, 1.09894628e-005,\n",
       "        1.09864491e-005, 1.03743136e-005, 1.03730826e-005, 9.07246457e-006,\n",
       "        9.07180757e-006, 8.47420100e-006, 8.47370522e-006, 6.12432041e-006,\n",
       "        6.12366200e-006, 5.25741951e-006, 5.25727831e-006, 5.18759152e-006,\n",
       "        5.18718118e-006, 3.81646287e-006, 3.81641479e-006, 3.21543656e-006,\n",
       "        3.21475275e-006, 3.05341765e-006, 3.05304949e-006, 1.39955007e-006,\n",
       "        1.39943770e-006, 9.47687502e-007, 9.47511189e-007, 6.57775977e-007,\n",
       "        6.57716389e-007, 6.27098807e-007, 6.27058382e-007, 5.27226303e-007,\n",
       "        5.27151816e-007, 4.82494444e-007, 4.82489430e-007, 2.13733250e-007,\n",
       "        2.13668813e-007, 2.13104662e-007, 2.13097408e-007, 1.12142076e-007,\n",
       "        1.12141054e-007, 5.95705141e-008, 5.95654068e-008, 5.90496051e-008,\n",
       "        5.90383276e-008, 1.07960557e-008, 1.07945685e-008, 3.77942350e-009,\n",
       "        3.77847992e-009, 1.89453552e-009, 1.89379597e-009, 6.84606196e-010,\n",
       "        6.84534007e-010, 8.74917071e-011, 8.74778583e-011, 8.95390454e-018,\n",
       "        8.77161296e-018, 1.84950900e-128]))"
      ]
     },
     "execution_count": 137,
     "metadata": {},
     "output_type": "execute_result"
    }
   ],
   "source": [
    "fpr, tpr, threshold"
   ]
  },
  {
   "cell_type": "code",
   "execution_count": 138,
   "metadata": {
    "scrolled": true
   },
   "outputs": [
    {
     "data": {
      "text/plain": [
       "Text(0.2, 0.6, 'Area under curve is 0.7295334263338891')"
      ]
     },
     "execution_count": 138,
     "metadata": {},
     "output_type": "execute_result"
    },
    {
     "data": {
      "image/png": "[encoded data removed]",
      "text/plain": [
       "<Figure size 576x576 with 1 Axes>"
      ]
     },
     "metadata": {
      "needs_background": "light"
     },
     "output_type": "display_data"
    }
   ],
   "source": [
    "plt.figure(figsize = (8,8))\n",
    "plt.plot(fpr,tpr, color = \"r\")\n",
    "plt.xlabel(\"Fpr-Values\", size = 15)\n",
    "plt.ylabel(\"Tpr-Values\", size = 15 )\n",
    "plt.grid()\n",
    "plt.title(\"AUROC on Bank_Lend\", size = 15)\n",
    "plt.text(x= 0.2, y = 0.6 , s = \"Area under curve is {}\".format(roc_auc), size = 15)\n"
   ]
  },
  {
   "cell_type": "code",
   "execution_count": 139,
   "metadata": {},
   "outputs": [],
   "source": [
    "# Chosing only imp features for tis model"
   ]
  },
  {
   "cell_type": "code",
   "execution_count": 140,
   "metadata": {},
   "outputs": [],
   "source": [
    "lm2=LogisticRegression(penalty='l2',solver='liblinear',\n",
    "    C=1.0,\n",
    "    random_state=0,\n",
    "    max_iter=150,\n",
    "    multi_class='auto',\n",
    "     )"
   ]
  },
  {
   "cell_type": "code",
   "execution_count": 141,
   "metadata": {
    "scrolled": false
   },
   "outputs": [
    {
     "data": {
      "text/plain": [
       "LogisticRegression(max_iter=150, random_state=0, solver='liblinear')"
      ]
     },
     "execution_count": 141,
     "metadata": {},
     "output_type": "execute_result"
    }
   ],
   "source": [
    "lm2.fit(train_x_bl,train_y_bl)"
   ]
  },
  {
   "cell_type": "code",
   "execution_count": 142,
   "metadata": {},
   "outputs": [],
   "source": [
    "pred2_lm=lm2.predict(top_test_x)"
   ]
  },
  {
   "cell_type": "code",
   "execution_count": 143,
   "metadata": {
    "scrolled": true
   },
   "outputs": [
    {
     "name": "stdout",
     "output_type": "stream",
     "text": [
      "[[256329    351]\n",
      " [   109    202]]\n"
     ]
    }
   ],
   "source": [
    "tab=confusion_matrix(test_y,pred2_lm)\n",
    "print(tab)"
   ]
  },
  {
   "cell_type": "code",
   "execution_count": 144,
   "metadata": {},
   "outputs": [
    {
     "data": {
      "text/plain": [
       "<matplotlib.axes._subplots.AxesSubplot at 0xcc8a8b7f08>"
      ]
     },
     "execution_count": 144,
     "metadata": {},
     "output_type": "execute_result"
    },
    {
     "data": {
      "image/png": "[encoded data removed]",
      "text/plain": [
       "<Figure size 432x288 with 2 Axes>"
      ]
     },
     "metadata": {
      "needs_background": "light"
     },
     "output_type": "display_data"
    }
   ],
   "source": [
    "sns.heatmap(tab,annot=True,fmt='d',cmap=\"Blues\")"
   ]
  },
  {
   "cell_type": "code",
   "execution_count": 145,
   "metadata": {},
   "outputs": [
    {
     "name": "stdout",
     "output_type": "stream",
     "text": [
      "              precision    recall  f1-score   support\n",
      "\n",
      "           0       1.00      1.00      1.00    256680\n",
      "           1       0.37      0.65      0.47       311\n",
      "\n",
      "    accuracy                           1.00    256991\n",
      "   macro avg       0.68      0.82      0.73    256991\n",
      "weighted avg       1.00      1.00      1.00    256991\n",
      "\n"
     ]
    }
   ],
   "source": [
    "print(classification_report(test_y,pred2_lm))"
   ]
  },
  {
   "cell_type": "code",
   "execution_count": 146,
   "metadata": {},
   "outputs": [
    {
     "name": "stdout",
     "output_type": "stream",
     "text": [
      "99.86325385694249\n",
      "64.95176848874597\n",
      "99.95749459908438\n",
      "36.52802893309223\n",
      "99.82100540485852\n"
     ]
    }
   ],
   "source": [
    "sensitivity=(tab[0,0])/(tab[0,0]+tab[0,1])*100\n",
    "specificity=(tab[1,1])/(tab[1,1]+tab[1,0])*100\n",
    "precision_0=(tab[0,0])/(tab[0,0]+tab[1,0])*100\n",
    "precision_1=(tab[1,1])/(tab[1,1]+tab[0,1])*100\n",
    "accuracy=(tab.diagonal().sum())/(tab.sum())*100\n",
    "print(sensitivity)\n",
    "print(specificity)\n",
    "print(precision_0)\n",
    "print(precision_1)\n",
    "print(accuracy)"
   ]
  },
  {
   "cell_type": "code",
   "execution_count": 147,
   "metadata": {},
   "outputs": [],
   "source": [
    "pred2_prob_lm=lm2.predict_proba(top_test_x)"
   ]
  },
  {
   "cell_type": "code",
   "execution_count": 148,
   "metadata": {},
   "outputs": [],
   "source": [
    "pred2_prob_lm=pd.DataFrame(pred2_prob_lm)"
   ]
  },
  {
   "cell_type": "code",
   "execution_count": 149,
   "metadata": {
    "scrolled": true
   },
   "outputs": [
    {
     "data": {
      "text/plain": [
       "0.8240751117284423"
      ]
     },
     "execution_count": 149,
     "metadata": {},
     "output_type": "execute_result"
    }
   ],
   "source": [
    "roc_auc = roc_auc_score(test_y,pred2_lm)\n",
    "roc_auc\n"
   ]
  },
  {
   "cell_type": "code",
   "execution_count": 150,
   "metadata": {},
   "outputs": [],
   "source": [
    "fpr, tpr, threshold = roc_curve( test_y ,  pred2_lm )\n",
    "\n"
   ]
  },
  {
   "cell_type": "code",
   "execution_count": 151,
   "metadata": {
    "scrolled": true
   },
   "outputs": [
    {
     "data": {
      "text/plain": [
       "(array([0.        , 0.00136746, 1.        ]),\n",
       " array([0.        , 0.64951768, 1.        ]),\n",
       " array([2, 1, 0], dtype=int64))"
      ]
     },
     "execution_count": 151,
     "metadata": {},
     "output_type": "execute_result"
    }
   ],
   "source": [
    "fpr, tpr, threshold"
   ]
  },
  {
   "cell_type": "code",
   "execution_count": 152,
   "metadata": {
    "scrolled": true
   },
   "outputs": [
    {
     "data": {
      "text/plain": [
       "Text(0.1, 0.6, 'AUC is 0.8240751117284423')"
      ]
     },
     "execution_count": 152,
     "metadata": {},
     "output_type": "execute_result"
    },
    {
     "data": {
      "image/png": "[encoded data removed]",
      "text/plain": [
       "<Figure size 360x288 with 1 Axes>"
      ]
     },
     "metadata": {
      "needs_background": "light"
     },
     "output_type": "display_data"
    }
   ],
   "source": [
    "plt.figure(figsize = (5,4))\n",
    "plt.plot(fpr,tpr, color = \"r\")\n",
    "plt.xlabel(\"Fpr-Values\", size = 15)\n",
    "plt.ylabel(\"Tpr-Values\", size = 15 )\n",
    "plt.grid()\n",
    "plt.title(\"AUROC on Bank_Lend\", size = 15)\n",
    "plt.text(x= 0.1, y = 0.6 , s = \"AUC is {}\".format(roc_auc), size = 15)\n"
   ]
  },
  {
   "cell_type": "code",
   "execution_count": 197,
   "metadata": {},
   "outputs": [
    {
     "data": {
      "text/plain": [
       "Index(['funded_amnt', 'revol_util', 'out_prncp_inv', 'total_rec_int', 'term',\n",
       "       'int_rate', 'grade', 'sub_grade', 'annual_inc', 'dti', 'total_acc',\n",
       "       'total_rec_late_fee', 'recoveries', 'last_pymnt_amnt',\n",
       "       'collections_12_mths_ex_med', 'tot_cur_bal', 'total_rev_hi_lim'],\n",
       "      dtype='object')"
      ]
     },
     "execution_count": 197,
     "metadata": {},
     "output_type": "execute_result"
    }
   ],
   "source": [
    "train_x_bl.columns"
   ]
  },
  {
   "cell_type": "code",
   "execution_count": null,
   "metadata": {},
   "outputs": [],
   "source": []
  }
 ],
 "metadata": {
  "kernelspec": {
   "display_name": "Python 3",
   "language": "python",
   "name": "python3"
  },
  "language_info": {
   "codemirror_mode": {
    "name": "ipython",
    "version": 3
   },
   "file_extension": ".py",
   "mimetype": "text/x-python",
   "name": "python",
   "nbconvert_exporter": "python",
   "pygments_lexer": "ipython3",
   "version": "3.7.6"
  }
 },
 "nbformat": 4,
 "nbformat_minor": 4
}
